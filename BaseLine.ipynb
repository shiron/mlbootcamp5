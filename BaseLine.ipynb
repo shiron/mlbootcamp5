{
 "cells": [
  {
   "cell_type": "code",
   "execution_count": 135,
   "metadata": {
    "collapsed": false
   },
   "outputs": [
    {
     "name": "stdout",
     "output_type": "stream",
     "text": [
      "Populating the interactive namespace from numpy and matplotlib\n"
     ]
    },
    {
     "name": "stderr",
     "output_type": "stream",
     "text": [
      "/Users/pavelstasevsky/anaconda/lib/python2.7/site-packages/IPython/core/magics/pylab.py:161: UserWarning: pylab import has clobbered these variables: ['test', 'poly', 'fmin']\n",
      "`%matplotlib` prevents importing * from pylab and numpy\n",
      "  \"\\n`%matplotlib` prevents importing * from pylab and numpy\"\n"
     ]
    }
   ],
   "source": [
    "import pandas as pd\n",
    "import numpy as np\n",
    "from sklearn.model_selection import cross_val_score, train_test_split\n",
    "from sklearn.metrics import log_loss\n",
    "%pylab inline"
   ]
  },
  {
   "cell_type": "markdown",
   "metadata": {},
   "source": [
    "3. Предобработка для номинальных:\n",
    "* one-hot encoding (? можно попробовать без него)\n",
    "4. Разделение на обучающую и валидационную\n",
    "* На обучающей аккуратный рассчет SLH\n",
    "* Добавление спрямляющих пространств (?)\n",
    "* Обучение моделей (LR, RF, XGB, ET, NN)\n",
    "* Проверка на валидационной\n",
    "* Объединение моделей в ансамбль"
   ]
  },
  {
   "cell_type": "markdown",
   "metadata": {},
   "source": [
    "# 1. Загрузка данных"
   ]
  },
  {
   "cell_type": "code",
   "execution_count": 136,
   "metadata": {
    "collapsed": false
   },
   "outputs": [],
   "source": [
    "#train = pd.read_csv('./data/train.csv', header=0, sep=';')\n",
    "#test = pd.read_csv('./data/test.csv', header=0, sep=';')\n",
    "train = pd.read_csv('./data/train_fe_2806.csv', header=0, sep=';')\n",
    "test = pd.read_csv('./data/test_fe_2806.csv', header=0, sep=';')"
   ]
  },
  {
   "cell_type": "code",
   "execution_count": 137,
   "metadata": {
    "collapsed": false
   },
   "outputs": [
    {
     "name": "stdout",
     "output_type": "stream",
     "text": [
      "(70000, 26)\n",
      "(30000, 25)\n"
     ]
    }
   ],
   "source": [
    "print train.shape\n",
    "print test.shape"
   ]
  },
  {
   "cell_type": "code",
   "execution_count": 138,
   "metadata": {
    "collapsed": false
   },
   "outputs": [
    {
     "data": {
      "text/html": [
       "<div>\n",
       "<table border=\"1\" class=\"dataframe\">\n",
       "  <thead>\n",
       "    <tr style=\"text-align: right;\">\n",
       "      <th></th>\n",
       "      <th>0</th>\n",
       "      <th>1</th>\n",
       "      <th>2</th>\n",
       "      <th>3</th>\n",
       "      <th>4</th>\n",
       "    </tr>\n",
       "  </thead>\n",
       "  <tbody>\n",
       "    <tr>\n",
       "      <th>id</th>\n",
       "      <td>0.000000</td>\n",
       "      <td>1.000000</td>\n",
       "      <td>2.000000</td>\n",
       "      <td>3.000000</td>\n",
       "      <td>4.000000</td>\n",
       "    </tr>\n",
       "    <tr>\n",
       "      <th>age</th>\n",
       "      <td>18393.000000</td>\n",
       "      <td>20228.000000</td>\n",
       "      <td>18857.000000</td>\n",
       "      <td>17623.000000</td>\n",
       "      <td>17474.000000</td>\n",
       "    </tr>\n",
       "    <tr>\n",
       "      <th>gender</th>\n",
       "      <td>2.000000</td>\n",
       "      <td>1.000000</td>\n",
       "      <td>1.000000</td>\n",
       "      <td>2.000000</td>\n",
       "      <td>1.000000</td>\n",
       "    </tr>\n",
       "    <tr>\n",
       "      <th>height</th>\n",
       "      <td>168.000000</td>\n",
       "      <td>156.000000</td>\n",
       "      <td>165.000000</td>\n",
       "      <td>169.000000</td>\n",
       "      <td>156.000000</td>\n",
       "    </tr>\n",
       "    <tr>\n",
       "      <th>weight</th>\n",
       "      <td>62.000000</td>\n",
       "      <td>85.000000</td>\n",
       "      <td>64.000000</td>\n",
       "      <td>82.000000</td>\n",
       "      <td>56.000000</td>\n",
       "    </tr>\n",
       "    <tr>\n",
       "      <th>ap_hi</th>\n",
       "      <td>110.000000</td>\n",
       "      <td>140.000000</td>\n",
       "      <td>130.000000</td>\n",
       "      <td>150.000000</td>\n",
       "      <td>100.000000</td>\n",
       "    </tr>\n",
       "    <tr>\n",
       "      <th>ap_lo</th>\n",
       "      <td>80.000000</td>\n",
       "      <td>90.000000</td>\n",
       "      <td>70.000000</td>\n",
       "      <td>100.000000</td>\n",
       "      <td>60.000000</td>\n",
       "    </tr>\n",
       "    <tr>\n",
       "      <th>cholesterol</th>\n",
       "      <td>1.000000</td>\n",
       "      <td>3.000000</td>\n",
       "      <td>3.000000</td>\n",
       "      <td>1.000000</td>\n",
       "      <td>1.000000</td>\n",
       "    </tr>\n",
       "    <tr>\n",
       "      <th>gluc</th>\n",
       "      <td>1.000000</td>\n",
       "      <td>1.000000</td>\n",
       "      <td>1.000000</td>\n",
       "      <td>1.000000</td>\n",
       "      <td>1.000000</td>\n",
       "    </tr>\n",
       "    <tr>\n",
       "      <th>smoke</th>\n",
       "      <td>0.000000</td>\n",
       "      <td>0.000000</td>\n",
       "      <td>0.000000</td>\n",
       "      <td>0.000000</td>\n",
       "      <td>0.000000</td>\n",
       "    </tr>\n",
       "    <tr>\n",
       "      <th>alco</th>\n",
       "      <td>0.000000</td>\n",
       "      <td>0.000000</td>\n",
       "      <td>0.000000</td>\n",
       "      <td>0.000000</td>\n",
       "      <td>0.000000</td>\n",
       "    </tr>\n",
       "    <tr>\n",
       "      <th>active</th>\n",
       "      <td>1.000000</td>\n",
       "      <td>1.000000</td>\n",
       "      <td>0.000000</td>\n",
       "      <td>1.000000</td>\n",
       "      <td>0.000000</td>\n",
       "    </tr>\n",
       "    <tr>\n",
       "      <th>cardio</th>\n",
       "      <td>0.000000</td>\n",
       "      <td>1.000000</td>\n",
       "      <td>1.000000</td>\n",
       "      <td>1.000000</td>\n",
       "      <td>0.000000</td>\n",
       "    </tr>\n",
       "    <tr>\n",
       "      <th>age_year</th>\n",
       "      <td>50.391781</td>\n",
       "      <td>55.419178</td>\n",
       "      <td>51.663014</td>\n",
       "      <td>48.282192</td>\n",
       "      <td>47.873973</td>\n",
       "    </tr>\n",
       "    <tr>\n",
       "      <th>age_over_60</th>\n",
       "      <td>0.000000</td>\n",
       "      <td>0.000000</td>\n",
       "      <td>0.000000</td>\n",
       "      <td>0.000000</td>\n",
       "      <td>0.000000</td>\n",
       "    </tr>\n",
       "    <tr>\n",
       "      <th>age_less_40</th>\n",
       "      <td>0.000000</td>\n",
       "      <td>0.000000</td>\n",
       "      <td>0.000000</td>\n",
       "      <td>0.000000</td>\n",
       "      <td>0.000000</td>\n",
       "    </tr>\n",
       "    <tr>\n",
       "      <th>weight_over_90</th>\n",
       "      <td>0.000000</td>\n",
       "      <td>0.000000</td>\n",
       "      <td>0.000000</td>\n",
       "      <td>0.000000</td>\n",
       "      <td>0.000000</td>\n",
       "    </tr>\n",
       "    <tr>\n",
       "      <th>weight_male_over_100</th>\n",
       "      <td>0.000000</td>\n",
       "      <td>0.000000</td>\n",
       "      <td>0.000000</td>\n",
       "      <td>0.000000</td>\n",
       "      <td>0.000000</td>\n",
       "    </tr>\n",
       "    <tr>\n",
       "      <th>weight_female_over_100</th>\n",
       "      <td>0.000000</td>\n",
       "      <td>0.000000</td>\n",
       "      <td>0.000000</td>\n",
       "      <td>0.000000</td>\n",
       "      <td>0.000000</td>\n",
       "    </tr>\n",
       "    <tr>\n",
       "      <th>ap_hi_over_140</th>\n",
       "      <td>0.000000</td>\n",
       "      <td>0.000000</td>\n",
       "      <td>0.000000</td>\n",
       "      <td>1.000000</td>\n",
       "      <td>0.000000</td>\n",
       "    </tr>\n",
       "    <tr>\n",
       "      <th>ap_lo_over_95</th>\n",
       "      <td>0.000000</td>\n",
       "      <td>0.000000</td>\n",
       "      <td>0.000000</td>\n",
       "      <td>1.000000</td>\n",
       "      <td>0.000000</td>\n",
       "    </tr>\n",
       "    <tr>\n",
       "      <th>BMI</th>\n",
       "      <td>21.967120</td>\n",
       "      <td>34.927679</td>\n",
       "      <td>23.507805</td>\n",
       "      <td>28.710479</td>\n",
       "      <td>23.011177</td>\n",
       "    </tr>\n",
       "    <tr>\n",
       "      <th>BMI_over_35</th>\n",
       "      <td>0.000000</td>\n",
       "      <td>0.000000</td>\n",
       "      <td>0.000000</td>\n",
       "      <td>0.000000</td>\n",
       "      <td>0.000000</td>\n",
       "    </tr>\n",
       "    <tr>\n",
       "      <th>BMI_Breitman</th>\n",
       "      <td>-5.600000</td>\n",
       "      <td>25.800000</td>\n",
       "      <td>-1.500000</td>\n",
       "      <td>13.700000</td>\n",
       "      <td>-3.200000</td>\n",
       "    </tr>\n",
       "    <tr>\n",
       "      <th>risk_cd</th>\n",
       "      <td>1.000000</td>\n",
       "      <td>1.000000</td>\n",
       "      <td>0.000000</td>\n",
       "      <td>0.000000</td>\n",
       "      <td>0.000000</td>\n",
       "    </tr>\n",
       "    <tr>\n",
       "      <th>cluster</th>\n",
       "      <td>5.000000</td>\n",
       "      <td>6.000000</td>\n",
       "      <td>2.000000</td>\n",
       "      <td>7.000000</td>\n",
       "      <td>7.000000</td>\n",
       "    </tr>\n",
       "  </tbody>\n",
       "</table>\n",
       "</div>"
      ],
      "text/plain": [
       "                                   0             1             2  \\\n",
       "id                          0.000000      1.000000      2.000000   \n",
       "age                     18393.000000  20228.000000  18857.000000   \n",
       "gender                      2.000000      1.000000      1.000000   \n",
       "height                    168.000000    156.000000    165.000000   \n",
       "weight                     62.000000     85.000000     64.000000   \n",
       "ap_hi                     110.000000    140.000000    130.000000   \n",
       "ap_lo                      80.000000     90.000000     70.000000   \n",
       "cholesterol                 1.000000      3.000000      3.000000   \n",
       "gluc                        1.000000      1.000000      1.000000   \n",
       "smoke                       0.000000      0.000000      0.000000   \n",
       "alco                        0.000000      0.000000      0.000000   \n",
       "active                      1.000000      1.000000      0.000000   \n",
       "cardio                      0.000000      1.000000      1.000000   \n",
       "age_year                   50.391781     55.419178     51.663014   \n",
       "age_over_60                 0.000000      0.000000      0.000000   \n",
       "age_less_40                 0.000000      0.000000      0.000000   \n",
       "weight_over_90              0.000000      0.000000      0.000000   \n",
       "weight_male_over_100        0.000000      0.000000      0.000000   \n",
       "weight_female_over_100      0.000000      0.000000      0.000000   \n",
       "ap_hi_over_140              0.000000      0.000000      0.000000   \n",
       "ap_lo_over_95               0.000000      0.000000      0.000000   \n",
       "BMI                        21.967120     34.927679     23.507805   \n",
       "BMI_over_35                 0.000000      0.000000      0.000000   \n",
       "BMI_Breitman               -5.600000     25.800000     -1.500000   \n",
       "risk_cd                     1.000000      1.000000      0.000000   \n",
       "cluster                     5.000000      6.000000      2.000000   \n",
       "\n",
       "                                   3             4  \n",
       "id                          3.000000      4.000000  \n",
       "age                     17623.000000  17474.000000  \n",
       "gender                      2.000000      1.000000  \n",
       "height                    169.000000    156.000000  \n",
       "weight                     82.000000     56.000000  \n",
       "ap_hi                     150.000000    100.000000  \n",
       "ap_lo                     100.000000     60.000000  \n",
       "cholesterol                 1.000000      1.000000  \n",
       "gluc                        1.000000      1.000000  \n",
       "smoke                       0.000000      0.000000  \n",
       "alco                        0.000000      0.000000  \n",
       "active                      1.000000      0.000000  \n",
       "cardio                      1.000000      0.000000  \n",
       "age_year                   48.282192     47.873973  \n",
       "age_over_60                 0.000000      0.000000  \n",
       "age_less_40                 0.000000      0.000000  \n",
       "weight_over_90              0.000000      0.000000  \n",
       "weight_male_over_100        0.000000      0.000000  \n",
       "weight_female_over_100      0.000000      0.000000  \n",
       "ap_hi_over_140              1.000000      0.000000  \n",
       "ap_lo_over_95               1.000000      0.000000  \n",
       "BMI                        28.710479     23.011177  \n",
       "BMI_over_35                 0.000000      0.000000  \n",
       "BMI_Breitman               13.700000     -3.200000  \n",
       "risk_cd                     0.000000      0.000000  \n",
       "cluster                     7.000000      7.000000  "
      ]
     },
     "execution_count": 138,
     "metadata": {},
     "output_type": "execute_result"
    }
   ],
   "source": [
    "train.head().T"
   ]
  },
  {
   "cell_type": "markdown",
   "metadata": {},
   "source": [
    "# 2. Подготовка данных"
   ]
  },
  {
   "cell_type": "markdown",
   "metadata": {},
   "source": [
    "Признаки, которые мы будем использовать для обучения (пока, как есть)."
   ]
  },
  {
   "cell_type": "code",
   "execution_count": 139,
   "metadata": {
    "collapsed": true
   },
   "outputs": [],
   "source": [
    "columns_numeric = ['age', 'height', 'weight', 'ap_hi', 'ap_lo', 'age_year', 'BMI', 'BMI_Breitman', 'risk_cd']\n",
    "columns_binary = ['age_over_60', 'age_less_40', 'weight_over_90', 'weight_male_over_100', \n",
    "           'weight_female_over_100', 'ap_hi_over_140', 'ap_lo_over_95', 'BMI_over_35' , 'alco', 'active', 'smoke']\n",
    "columns_to_onehotenc = ['cholesterol', 'gender', 'gluc', 'cluster']\n",
    "#columns = ['age', 'height', 'weight', 'ap_hi', 'ap_lo', 'cholesterol']"
   ]
  },
  {
   "cell_type": "markdown",
   "metadata": {},
   "source": [
    "Выбираем только те признаки, которые будем дальше использовать."
   ]
  },
  {
   "cell_type": "markdown",
   "metadata": {},
   "source": [
    "Для номинальных признаков со множеством значений делаем one hot encoding."
   ]
  },
  {
   "cell_type": "code",
   "execution_count": 140,
   "metadata": {
    "collapsed": false
   },
   "outputs": [],
   "source": [
    "import itertools\n",
    "\n",
    "train_y = train['cardio']\n",
    "train_x = train[list(itertools.chain(columns_numeric, columns_binary, columns_to_onehotenc))]\n",
    "test_x = test[list(itertools.chain(columns_numeric, columns_binary, columns_to_onehotenc))]"
   ]
  },
  {
   "cell_type": "markdown",
   "metadata": {},
   "source": [
    "Для числовых признаков делаем RobustScale."
   ]
  },
  {
   "cell_type": "code",
   "execution_count": 141,
   "metadata": {
    "collapsed": false
   },
   "outputs": [
    {
     "name": "stderr",
     "output_type": "stream",
     "text": [
      "/Users/pavelstasevsky/anaconda/lib/python2.7/site-packages/ipykernel/__main__.py:4: SettingWithCopyWarning: \n",
      "A value is trying to be set on a copy of a slice from a DataFrame.\n",
      "Try using .loc[row_indexer,col_indexer] = value instead\n",
      "\n",
      "See the caveats in the documentation: http://pandas.pydata.org/pandas-docs/stable/indexing.html#indexing-view-versus-copy\n",
      "/Users/pavelstasevsky/anaconda/lib/python2.7/site-packages/ipykernel/__main__.py:5: SettingWithCopyWarning: \n",
      "A value is trying to be set on a copy of a slice from a DataFrame.\n",
      "Try using .loc[row_indexer,col_indexer] = value instead\n",
      "\n",
      "See the caveats in the documentation: http://pandas.pydata.org/pandas-docs/stable/indexing.html#indexing-view-versus-copy\n"
     ]
    }
   ],
   "source": [
    "from sklearn.preprocessing import RobustScaler\n",
    "\n",
    "scaler = RobustScaler()\n",
    "train_x[columns_numeric] = scaler.fit_transform(train_x[columns_numeric])\n",
    "test_x[columns_numeric] = scaler.transform(test_x[columns_numeric])"
   ]
  },
  {
   "cell_type": "markdown",
   "metadata": {},
   "source": [
    "Для номинальных фич со множеством значений применяем one_hot кодирование."
   ]
  },
  {
   "cell_type": "code",
   "execution_count": 142,
   "metadata": {
    "collapsed": false
   },
   "outputs": [],
   "source": [
    "def one_hot(df, cols):\n",
    "    for each in cols:\n",
    "        dummies = pd.get_dummies(df[each], prefix=each, drop_first=False)\n",
    "        df = pd.concat([df, dummies], axis=1)\n",
    "        df.drop(each, axis=1, inplace=True)\n",
    "    return df\n",
    "\n",
    "train_x = one_hot(train_x, columns_to_onehotenc)\n",
    "test_x = one_hot(test_x, columns_to_onehotenc)"
   ]
  },
  {
   "cell_type": "code",
   "execution_count": 143,
   "metadata": {
    "collapsed": false
   },
   "outputs": [
    {
     "data": {
      "text/html": [
       "<div>\n",
       "<table border=\"1\" class=\"dataframe\">\n",
       "  <thead>\n",
       "    <tr style=\"text-align: right;\">\n",
       "      <th></th>\n",
       "      <th>age</th>\n",
       "      <th>height</th>\n",
       "      <th>weight</th>\n",
       "      <th>ap_hi</th>\n",
       "      <th>ap_lo</th>\n",
       "      <th>age_year</th>\n",
       "      <th>BMI</th>\n",
       "      <th>BMI_Breitman</th>\n",
       "      <th>risk_cd</th>\n",
       "      <th>age_over_60</th>\n",
       "      <th>...</th>\n",
       "      <th>cluster_3</th>\n",
       "      <th>cluster_4</th>\n",
       "      <th>cluster_5</th>\n",
       "      <th>cluster_6</th>\n",
       "      <th>cluster_7</th>\n",
       "      <th>cluster_8</th>\n",
       "      <th>cluster_9</th>\n",
       "      <th>cluster_10</th>\n",
       "      <th>cluster_11</th>\n",
       "      <th>cluster_12</th>\n",
       "    </tr>\n",
       "  </thead>\n",
       "  <tbody>\n",
       "    <tr>\n",
       "      <th>0</th>\n",
       "      <td>-0.357630</td>\n",
       "      <td>0.272727</td>\n",
       "      <td>-0.588235</td>\n",
       "      <td>-0.5</td>\n",
       "      <td>0.0</td>\n",
       "      <td>-0.357630</td>\n",
       "      <td>-0.693720</td>\n",
       "      <td>-0.711765</td>\n",
       "      <td>0.0</td>\n",
       "      <td>0</td>\n",
       "      <td>...</td>\n",
       "      <td>0.0</td>\n",
       "      <td>0.0</td>\n",
       "      <td>1.0</td>\n",
       "      <td>0.0</td>\n",
       "      <td>0.0</td>\n",
       "      <td>0.0</td>\n",
       "      <td>0.0</td>\n",
       "      <td>0.0</td>\n",
       "      <td>0.0</td>\n",
       "      <td>0.0</td>\n",
       "    </tr>\n",
       "    <tr>\n",
       "      <th>1</th>\n",
       "      <td>0.143325</td>\n",
       "      <td>-0.818182</td>\n",
       "      <td>0.764706</td>\n",
       "      <td>1.0</td>\n",
       "      <td>1.0</td>\n",
       "      <td>0.143325</td>\n",
       "      <td>1.348243</td>\n",
       "      <td>1.135294</td>\n",
       "      <td>0.0</td>\n",
       "      <td>0</td>\n",
       "      <td>...</td>\n",
       "      <td>0.0</td>\n",
       "      <td>0.0</td>\n",
       "      <td>0.0</td>\n",
       "      <td>1.0</td>\n",
       "      <td>0.0</td>\n",
       "      <td>0.0</td>\n",
       "      <td>0.0</td>\n",
       "      <td>0.0</td>\n",
       "      <td>0.0</td>\n",
       "      <td>0.0</td>\n",
       "    </tr>\n",
       "    <tr>\n",
       "      <th>2</th>\n",
       "      <td>-0.230958</td>\n",
       "      <td>0.000000</td>\n",
       "      <td>-0.470588</td>\n",
       "      <td>0.5</td>\n",
       "      <td>-1.0</td>\n",
       "      <td>-0.230958</td>\n",
       "      <td>-0.450982</td>\n",
       "      <td>-0.470588</td>\n",
       "      <td>-1.0</td>\n",
       "      <td>0</td>\n",
       "      <td>...</td>\n",
       "      <td>0.0</td>\n",
       "      <td>0.0</td>\n",
       "      <td>0.0</td>\n",
       "      <td>0.0</td>\n",
       "      <td>0.0</td>\n",
       "      <td>0.0</td>\n",
       "      <td>0.0</td>\n",
       "      <td>0.0</td>\n",
       "      <td>0.0</td>\n",
       "      <td>0.0</td>\n",
       "    </tr>\n",
       "    <tr>\n",
       "      <th>3</th>\n",
       "      <td>-0.567841</td>\n",
       "      <td>0.363636</td>\n",
       "      <td>0.588235</td>\n",
       "      <td>1.5</td>\n",
       "      <td>2.0</td>\n",
       "      <td>-0.567841</td>\n",
       "      <td>0.368710</td>\n",
       "      <td>0.423529</td>\n",
       "      <td>-1.0</td>\n",
       "      <td>0</td>\n",
       "      <td>...</td>\n",
       "      <td>0.0</td>\n",
       "      <td>0.0</td>\n",
       "      <td>0.0</td>\n",
       "      <td>0.0</td>\n",
       "      <td>1.0</td>\n",
       "      <td>0.0</td>\n",
       "      <td>0.0</td>\n",
       "      <td>0.0</td>\n",
       "      <td>0.0</td>\n",
       "      <td>0.0</td>\n",
       "    </tr>\n",
       "    <tr>\n",
       "      <th>4</th>\n",
       "      <td>-0.608518</td>\n",
       "      <td>-0.818182</td>\n",
       "      <td>-0.941176</td>\n",
       "      <td>-1.0</td>\n",
       "      <td>-2.0</td>\n",
       "      <td>-0.608518</td>\n",
       "      <td>-0.529227</td>\n",
       "      <td>-0.570588</td>\n",
       "      <td>-1.0</td>\n",
       "      <td>0</td>\n",
       "      <td>...</td>\n",
       "      <td>0.0</td>\n",
       "      <td>0.0</td>\n",
       "      <td>0.0</td>\n",
       "      <td>0.0</td>\n",
       "      <td>1.0</td>\n",
       "      <td>0.0</td>\n",
       "      <td>0.0</td>\n",
       "      <td>0.0</td>\n",
       "      <td>0.0</td>\n",
       "      <td>0.0</td>\n",
       "    </tr>\n",
       "  </tbody>\n",
       "</table>\n",
       "<p>5 rows × 41 columns</p>\n",
       "</div>"
      ],
      "text/plain": [
       "        age    height    weight  ap_hi  ap_lo  age_year       BMI  \\\n",
       "0 -0.357630  0.272727 -0.588235   -0.5    0.0 -0.357630 -0.693720   \n",
       "1  0.143325 -0.818182  0.764706    1.0    1.0  0.143325  1.348243   \n",
       "2 -0.230958  0.000000 -0.470588    0.5   -1.0 -0.230958 -0.450982   \n",
       "3 -0.567841  0.363636  0.588235    1.5    2.0 -0.567841  0.368710   \n",
       "4 -0.608518 -0.818182 -0.941176   -1.0   -2.0 -0.608518 -0.529227   \n",
       "\n",
       "   BMI_Breitman  risk_cd  age_over_60     ...      cluster_3  cluster_4  \\\n",
       "0     -0.711765      0.0            0     ...            0.0        0.0   \n",
       "1      1.135294      0.0            0     ...            0.0        0.0   \n",
       "2     -0.470588     -1.0            0     ...            0.0        0.0   \n",
       "3      0.423529     -1.0            0     ...            0.0        0.0   \n",
       "4     -0.570588     -1.0            0     ...            0.0        0.0   \n",
       "\n",
       "   cluster_5  cluster_6  cluster_7  cluster_8  cluster_9  cluster_10  \\\n",
       "0        1.0        0.0        0.0        0.0        0.0         0.0   \n",
       "1        0.0        1.0        0.0        0.0        0.0         0.0   \n",
       "2        0.0        0.0        0.0        0.0        0.0         0.0   \n",
       "3        0.0        0.0        1.0        0.0        0.0         0.0   \n",
       "4        0.0        0.0        1.0        0.0        0.0         0.0   \n",
       "\n",
       "   cluster_11  cluster_12  \n",
       "0         0.0         0.0  \n",
       "1         0.0         0.0  \n",
       "2         0.0         0.0  \n",
       "3         0.0         0.0  \n",
       "4         0.0         0.0  \n",
       "\n",
       "[5 rows x 41 columns]"
      ]
     },
     "execution_count": 143,
     "metadata": {},
     "output_type": "execute_result"
    }
   ],
   "source": [
    "train_x.head()"
   ]
  },
  {
   "cell_type": "markdown",
   "metadata": {},
   "source": [
    "Разделим обучающую выборку на обучающую и валидационную (10%)."
   ]
  },
  {
   "cell_type": "code",
   "execution_count": 144,
   "metadata": {
    "collapsed": false
   },
   "outputs": [],
   "source": [
    "X_train, X_validation, y_train, y_validation = train_test_split(train_x, train['cardio'],\n",
    "                                                                test_size=0.10, random_state=111)"
   ]
  },
  {
   "cell_type": "markdown",
   "metadata": {},
   "source": [
    "# 3. Обучение моделей"
   ]
  },
  {
   "cell_type": "markdown",
   "metadata": {},
   "source": [
    "1. Разобьем train на три фолда\n",
    "2. На двух посчитаем SL и заполним третий (и так три раза)\n",
    "3. Обучаем модель три раза, смотрим на качество\n",
    "4. Обучаем итоговую модель: считаем SL по всему тесту, для validation и test заполняем по тесту\n",
    "5. Проверяем значения log_loss на validation\n",
    "6. Прогнозируем для test"
   ]
  },
  {
   "cell_type": "code",
   "execution_count": 145,
   "metadata": {
    "collapsed": true
   },
   "outputs": [],
   "source": [
    "from sklearn.model_selection import StratifiedKFold\n",
    "from sklearn.linear_model import LogisticRegression\n",
    "from sklearn.ensemble import RandomForestClassifier"
   ]
  },
  {
   "cell_type": "code",
   "execution_count": 146,
   "metadata": {
    "collapsed": true
   },
   "outputs": [],
   "source": [
    "def smoothed_likelyhood(x_train, x_test, y_train, k=10):\n",
    "    \n",
    "    x_train['label'] = y_train\n",
    "    # вычисляем глобальное среднее у\n",
    "    global_mean = x_train['label'].mean()\n",
    "    \n",
    "    # получаем список всех признаков\n",
    "    columns =  list(x_train.columns.values)\n",
    "    columns.remove('label')\n",
    "    for column in columns:\n",
    "        print column\n",
    "        # получаем набор уникальных значений для признака\n",
    "        uniques = x_train[column].unique()\n",
    "        \n",
    "        # теперь для всех уникальных значений считаем SL\n",
    "        sl_uv = {}\n",
    "        for unique in uniques:\n",
    "            sl = (x_train[x_train[column] == unique][column].count()*x_train[x_train[column] == unique]['label'].mean() + global_mean*k)/(x_train[x_train[column] == unique][column].count() + k)\n",
    "            sl_uv[unique] = sl\n",
    "        \n",
    "        # добавляем новый столбец в x_train\n",
    "        x_train[column+'_SL'] = x_train[column].apply(lambda x: sl_uv[x])\n",
    "        \n",
    "        #добавляем новый столбец в x_test\n",
    "        x_test[column+'_SL'] = x_test[column].apply(lambda x: sl_uv[x] if x in sl_uv.keys() else global_mean)\n",
    "        #print 'Column SL: ', x_test[column+'_SL']\n",
    "        \n",
    "    return x_train.drop('label', axis=1), x_test"
   ]
  },
  {
   "cell_type": "markdown",
   "metadata": {},
   "source": [
    "## 3.1 LogisticRegression"
   ]
  },
  {
   "cell_type": "code",
   "execution_count": 147,
   "metadata": {
    "collapsed": true
   },
   "outputs": [],
   "source": [
    "from sklearn.linear_model import LogisticRegression\n",
    "from sklearn.preprocessing import PolynomialFeatures\n",
    "from hyperopt import hp, fmin, Trials, tpe, STATUS_OK"
   ]
  },
  {
   "cell_type": "code",
   "execution_count": 72,
   "metadata": {
    "collapsed": true
   },
   "outputs": [],
   "source": [
    "poly = PolynomialFeatures(2)\n",
    "\n",
    "poly_x_train = poly.fit_transform(X_train)"
   ]
  },
  {
   "cell_type": "code",
   "execution_count": 73,
   "metadata": {
    "collapsed": false
   },
   "outputs": [],
   "source": [
    "poly_x_validation = poly.transform(X_validation)\n",
    "poly_x_test = poly.transform(test_x)"
   ]
  },
  {
   "cell_type": "code",
   "execution_count": 74,
   "metadata": {
    "collapsed": false
   },
   "outputs": [
    {
     "name": "stdout",
     "output_type": "stream",
     "text": [
      "(63000, 903)\n"
     ]
    }
   ],
   "source": [
    "print poly_x_train.shape"
   ]
  },
  {
   "cell_type": "code",
   "execution_count": 77,
   "metadata": {
    "collapsed": false
   },
   "outputs": [],
   "source": [
    "def LR_learn(random_state=1):\n",
    "    def hyperopt_rf(params):\n",
    "        print \"Training with params : \"\n",
    "        print params\n",
    "        clf = LogisticRegression(**params)\n",
    "        score = cross_val_score(clf, poly_x_train, y_train, scoring='neg_log_loss', cv=3).mean()\n",
    "        print \"Score: \", score\n",
    "        return score\n",
    "\n",
    "    def f(params):\n",
    "        log_loss = hyperopt_rf(params)\n",
    "        return {'loss': -log_loss, 'status': STATUS_OK}\n",
    "\n",
    "    space4lr = {\n",
    "        'C': hp.uniform('C', 0, 1),\n",
    "        'penalty': hp.choice('penalty', ['l1', 'l2']),\n",
    "        'random_state': random_state,\n",
    "        'n_jobs': 4\n",
    "\n",
    "    }\n",
    "\n",
    "    trials = Trials()\n",
    "    best = fmin(f, space4lr, algo=tpe.suggest, max_evals=15, trials=trials)\n",
    "    print 'best:'\n",
    "    print best\n",
    "    return best"
   ]
  },
  {
   "cell_type": "markdown",
   "metadata": {},
   "source": [
    "Обучение первой модели с random_state=11."
   ]
  },
  {
   "cell_type": "code",
   "execution_count": 79,
   "metadata": {
    "collapsed": false
   },
   "outputs": [
    {
     "name": "stdout",
     "output_type": "stream",
     "text": [
      "Training with params : \n",
      "{'penalty': 'l2', 'C': 0.21022626810031264, 'random_state': 11, 'n_jobs': 4}\n",
      "Score:  -0.544431902892\n",
      "Training with params : \n",
      "{'penalty': 'l1', 'C': 0.7120726238129801, 'random_state': 11, 'n_jobs': 4}\n",
      "Score:  -0.544022046947\n",
      "Training with params : \n",
      "{'penalty': 'l1', 'C': 0.5713993065019433, 'random_state': 11, 'n_jobs': 4}\n",
      "Score:  -0.543771349619\n",
      "Training with params : \n",
      "{'penalty': 'l1', 'C': 0.8043616430748548, 'random_state': 11, 'n_jobs': 4}\n",
      "Score:  -0.544145957401\n",
      "Training with params : \n",
      "{'penalty': 'l1', 'C': 0.7370026146229589, 'random_state': 11, 'n_jobs': 4}\n",
      "Score:  -0.544054702401\n",
      "Training with params : \n",
      "{'penalty': 'l2', 'C': 0.14748957769581927, 'random_state': 11, 'n_jobs': 4}\n",
      "Score:  -0.544222804881\n",
      "Training with params : \n",
      "{'penalty': 'l2', 'C': 0.7916367399679635, 'random_state': 11, 'n_jobs': 4}\n",
      "Score:  -0.545159076383\n",
      "Training with params : \n",
      "{'penalty': 'l1', 'C': 0.6226356491652284, 'random_state': 11, 'n_jobs': 4}\n",
      "Score:  -0.5438691613\n",
      "Training with params : \n",
      "{'penalty': 'l2', 'C': 0.0765928256712376, 'random_state': 11, 'n_jobs': 4}\n",
      "Score:  -0.543925405185\n",
      "Training with params : \n",
      "{'penalty': 'l1', 'C': 0.11443045077930658, 'random_state': 11, 'n_jobs': 4}\n",
      "Score:  -0.54223547025\n",
      "Training with params : \n",
      "{'penalty': 'l2', 'C': 0.6546582453059743, 'random_state': 11, 'n_jobs': 4}\n",
      "Score:  -0.545069261569\n",
      "Training with params : \n",
      "{'penalty': 'l1', 'C': 0.9289290085291092, 'random_state': 11, 'n_jobs': 4}\n",
      "Score:  -0.544302917777\n",
      "Training with params : \n",
      "{'penalty': 'l2', 'C': 0.8287151047606071, 'random_state': 11, 'n_jobs': 4}\n",
      "Score:  -0.545178672678\n",
      "Training with params : \n",
      "{'penalty': 'l1', 'C': 0.3607381615603198, 'random_state': 11, 'n_jobs': 4}\n",
      "Score:  -0.543257696076\n",
      "Training with params : \n",
      "{'penalty': 'l1', 'C': 0.43353304695811157, 'random_state': 11, 'n_jobs': 4}\n",
      "Score:  -0.543459521204\n",
      "best:\n",
      "{'penalty': 0, 'C': 0.11443045077930658}\n"
     ]
    }
   ],
   "source": [
    "best_lr_1 = LR_learn(random_state=11)"
   ]
  },
  {
   "cell_type": "markdown",
   "metadata": {},
   "source": [
    "Проверка на валидации."
   ]
  },
  {
   "cell_type": "code",
   "execution_count": 80,
   "metadata": {
    "collapsed": false
   },
   "outputs": [
    {
     "name": "stdout",
     "output_type": "stream",
     "text": [
      "0.546570133575\n"
     ]
    }
   ],
   "source": [
    "penalty = ['l1', 'l2']\n",
    "random_state=11\n",
    "lr1 = LogisticRegression(C=best_lr_1['C'], penalty=penalty[best_lr_1['penalty']], random_state=random_state)\n",
    "lr1.fit(poly_x_train, y_train)\n",
    "\n",
    "predict_validation_lr1 = lr1.predict_proba(poly_x_validation)\n",
    "print log_loss(y_validation, predict_validation_lr1)"
   ]
  },
  {
   "cell_type": "markdown",
   "metadata": {
    "collapsed": false
   },
   "source": [
    "Прогнозируем тест."
   ]
  },
  {
   "cell_type": "code",
   "execution_count": 81,
   "metadata": {
    "collapsed": false
   },
   "outputs": [],
   "source": [
    "predict_test_lr1 = lr1.predict_proba(poly_x_test)"
   ]
  },
  {
   "cell_type": "code",
   "execution_count": 82,
   "metadata": {
    "collapsed": false
   },
   "outputs": [
    {
     "data": {
      "text/plain": [
       "array([[ 0.61580515,  0.38419485],\n",
       "       [ 0.65883644,  0.34116356],\n",
       "       [ 0.57706703,  0.42293297],\n",
       "       ..., \n",
       "       [ 0.61727601,  0.38272399],\n",
       "       [ 0.83648859,  0.16351141],\n",
       "       [ 0.68080948,  0.31919052]])"
      ]
     },
     "execution_count": 82,
     "metadata": {},
     "output_type": "execute_result"
    }
   ],
   "source": [
    "predict_test_lr1"
   ]
  },
  {
   "cell_type": "markdown",
   "metadata": {},
   "source": [
    "Еще одна модель с LR и random_state=117"
   ]
  },
  {
   "cell_type": "code",
   "execution_count": 83,
   "metadata": {
    "collapsed": false
   },
   "outputs": [
    {
     "name": "stdout",
     "output_type": "stream",
     "text": [
      "Training with params : \n",
      "{'penalty': 'l2', 'C': 0.17262339689219697, 'random_state': 117, 'n_jobs': 4}\n",
      "Score:  -0.544316229205\n",
      "Training with params : \n",
      "{'penalty': 'l2', 'C': 0.7140315295603211, 'random_state': 117, 'n_jobs': 4}\n",
      "Score:  -0.545114379167\n",
      "Training with params : \n",
      "{'penalty': 'l1', 'C': 0.5066387713612533, 'random_state': 117, 'n_jobs': 4}\n",
      "Score:  -0.543635746678\n",
      "Training with params : \n",
      "{'penalty': 'l2', 'C': 0.27131506734516453, 'random_state': 117, 'n_jobs': 4}\n",
      "Score:  -0.544581500929\n",
      "Training with params : \n",
      "{'penalty': 'l1', 'C': 0.03820732436756635, 'random_state': 117, 'n_jobs': 4}\n",
      "Score:  -0.543922652206\n",
      "Training with params : \n",
      "{'penalty': 'l2', 'C': 0.03476000472365792, 'random_state': 117, 'n_jobs': 4}\n",
      "Score:  -0.543826002028\n",
      "Training with params : \n",
      "{'penalty': 'l2', 'C': 0.4688464683629784, 'random_state': 117, 'n_jobs': 4}\n",
      "Score:  -0.544896857461\n",
      "Training with params : \n",
      "{'penalty': 'l1', 'C': 0.8918325081056311, 'random_state': 117, 'n_jobs': 4}\n",
      "Score:  -0.544266601933\n",
      "Training with params : \n",
      "{'penalty': 'l1', 'C': 0.6162660478983999, 'random_state': 117, 'n_jobs': 4}\n",
      "Score:  -0.543864130303\n",
      "Training with params : \n",
      "{'penalty': 'l1', 'C': 0.2489884496015642, 'random_state': 117, 'n_jobs': 4}\n",
      "Score:  -0.542815352103\n",
      "Training with params : \n",
      "{'penalty': 'l1', 'C': 0.05469813314204597, 'random_state': 117, 'n_jobs': 4}\n",
      "Score:  -0.542914425991\n",
      "Training with params : \n",
      "{'penalty': 'l1', 'C': 0.5761587203641818, 'random_state': 117, 'n_jobs': 4}\n",
      "Score:  -0.543783692502\n",
      "Training with params : \n",
      "{'penalty': 'l2', 'C': 0.16314729781170034, 'random_state': 117, 'n_jobs': 4}\n",
      "Score:  -0.544283813297\n",
      "Training with params : \n",
      "{'penalty': 'l1', 'C': 0.847896908334527, 'random_state': 117, 'n_jobs': 4}\n",
      "Score:  -0.544213997332\n",
      "Training with params : \n",
      "{'penalty': 'l2', 'C': 0.3781339322514844, 'random_state': 117, 'n_jobs': 4}\n",
      "Score:  -0.544777859783\n",
      "best:\n",
      "{'penalty': 0, 'C': 0.2489884496015642}\n"
     ]
    }
   ],
   "source": [
    "best_lr_2 = LR_learn(random_state=117)"
   ]
  },
  {
   "cell_type": "code",
   "execution_count": 84,
   "metadata": {
    "collapsed": false
   },
   "outputs": [
    {
     "name": "stdout",
     "output_type": "stream",
     "text": [
      "0.546570133575\n"
     ]
    }
   ],
   "source": [
    "random_state=117\n",
    "lr2 = LogisticRegression(C=best_lr_1['C'], penalty=penalty[best_lr_1['penalty']], random_state=random_state)\n",
    "lr2.fit(poly_x_train, y_train)\n",
    "\n",
    "predict_validation_lr2 = lr2.predict_proba(poly_x_validation)\n",
    "print log_loss(y_validation, predict_validation_lr1)"
   ]
  },
  {
   "cell_type": "code",
   "execution_count": 85,
   "metadata": {
    "collapsed": true
   },
   "outputs": [],
   "source": [
    "predict_test_lr2 = lr2.predict_proba(poly_x_test)"
   ]
  },
  {
   "cell_type": "markdown",
   "metadata": {},
   "source": [
    "## 3.2 RandomForest"
   ]
  },
  {
   "cell_type": "code",
   "execution_count": 86,
   "metadata": {
    "collapsed": false
   },
   "outputs": [],
   "source": [
    "from sklearn.ensemble import RandomForestClassifier"
   ]
  },
  {
   "cell_type": "code",
   "execution_count": 94,
   "metadata": {
    "collapsed": false
   },
   "outputs": [],
   "source": [
    "def RF_learn(random_state=1):\n",
    "    def hyperopt_rf(params):\n",
    "        print \"Training with params : \"\n",
    "        print params\n",
    "        clf = RandomForestClassifier(**params)\n",
    "        score = cross_val_score(clf, X_train, y_train, scoring='neg_log_loss', cv=3).mean()\n",
    "        print \"Score: \", score\n",
    "        return score\n",
    "\n",
    "    def f(params):\n",
    "        acc = hyperopt_rf(params)\n",
    "        return {'loss': -acc, 'status': STATUS_OK}\n",
    "\n",
    "    space4rf = {\n",
    "        'n_estimators': hp.choice('n_estimators', range(50,300)),\n",
    "        'max_depth': hp.choice('max_depth', range(1,30)),\n",
    "        'max_features': hp.choice('max_features', range(5,25)),\n",
    "        'criterion': hp.choice('criterion', [\"gini\", \"entropy\"]),\n",
    "        'random_state': random_state,\n",
    "        'n_jobs': 4\n",
    "\n",
    "    }\n",
    "\n",
    "    trials = Trials()\n",
    "    best = fmin(f, space4rf, algo=tpe.suggest, max_evals=100, trials=trials)\n",
    "    print 'best:'\n",
    "    print best\n",
    "    return best"
   ]
  },
  {
   "cell_type": "code",
   "execution_count": 95,
   "metadata": {
    "collapsed": false
   },
   "outputs": [
    {
     "name": "stdout",
     "output_type": "stream",
     "text": [
      "Training with params : \n",
      "{'n_estimators': 232, 'n_jobs': 4, 'criterion': 'gini', 'max_features': 23, 'random_state': 11, 'max_depth': 28}\n",
      "Score:  -0.575379458852\n",
      "Training with params : \n",
      "{'n_estimators': 297, 'n_jobs': 4, 'criterion': 'entropy', 'max_features': 19, 'random_state': 11, 'max_depth': 14}\n",
      "Score:  -0.544326839464\n",
      "Training with params : \n",
      "{'n_estimators': 170, 'n_jobs': 4, 'criterion': 'entropy', 'max_features': 5, 'random_state': 11, 'max_depth': 20}\n",
      "Score:  -0.549865579497\n",
      "Training with params : \n",
      "{'n_estimators': 295, 'n_jobs': 4, 'criterion': 'entropy', 'max_features': 17, 'random_state': 11, 'max_depth': 12}\n",
      "Score:  -0.541724623137\n",
      "Training with params : \n",
      "{'n_estimators': 89, 'n_jobs': 4, 'criterion': 'entropy', 'max_features': 21, 'random_state': 11, 'max_depth': 4}\n",
      "Score:  -0.549943561388\n",
      "Training with params : \n",
      "{'n_estimators': 178, 'n_jobs': 4, 'criterion': 'entropy', 'max_features': 11, 'random_state': 11, 'max_depth': 5}\n",
      "Score:  -0.548420978526\n",
      "Training with params : \n",
      "{'n_estimators': 147, 'n_jobs': 4, 'criterion': 'gini', 'max_features': 9, 'random_state': 11, 'max_depth': 22}\n",
      "Score:  -0.558921541234\n",
      "Training with params : \n",
      "{'n_estimators': 150, 'n_jobs': 4, 'criterion': 'gini', 'max_features': 14, 'random_state': 11, 'max_depth': 13}\n",
      "Score:  -0.543353443707\n",
      "Training with params : \n",
      "{'n_estimators': 57, 'n_jobs': 4, 'criterion': 'entropy', 'max_features': 24, 'random_state': 11, 'max_depth': 27}\n",
      "Score:  -0.58482324126\n",
      "Training with params : \n",
      "{'n_estimators': 226, 'n_jobs': 4, 'criterion': 'entropy', 'max_features': 13, 'random_state': 11, 'max_depth': 1}\n",
      "Score:  -0.607215623805\n",
      "Training with params : \n",
      "{'n_estimators': 282, 'n_jobs': 4, 'criterion': 'gini', 'max_features': 16, 'random_state': 11, 'max_depth': 8}\n",
      "Score:  -0.540799680255\n",
      "Training with params : \n",
      "{'n_estimators': 74, 'n_jobs': 4, 'criterion': 'gini', 'max_features': 12, 'random_state': 11, 'max_depth': 7}\n",
      "Score:  -0.542589288083\n",
      "Training with params : \n",
      "{'n_estimators': 178, 'n_jobs': 4, 'criterion': 'gini', 'max_features': 14, 'random_state': 11, 'max_depth': 12}\n",
      "Score:  -0.542248732236\n",
      "Training with params : \n",
      "{'n_estimators': 220, 'n_jobs': 4, 'criterion': 'entropy', 'max_features': 24, 'random_state': 11, 'max_depth': 28}\n",
      "Score:  -0.569730716897\n",
      "Training with params : \n",
      "{'n_estimators': 222, 'n_jobs': 4, 'criterion': 'gini', 'max_features': 8, 'random_state': 11, 'max_depth': 27}\n",
      "Score:  -0.5650621814\n",
      "Training with params : \n",
      "{'n_estimators': 151, 'n_jobs': 4, 'criterion': 'entropy', 'max_features': 19, 'random_state': 11, 'max_depth': 14}\n",
      "Score:  -0.544713813775\n",
      "Training with params : \n",
      "{'n_estimators': 62, 'n_jobs': 4, 'criterion': 'gini', 'max_features': 19, 'random_state': 11, 'max_depth': 27}\n",
      "Score:  -0.587681491381\n",
      "Training with params : \n",
      "{'n_estimators': 105, 'n_jobs': 4, 'criterion': 'gini', 'max_features': 22, 'random_state': 11, 'max_depth': 1}\n",
      "Score:  -0.594678968652\n",
      "Training with params : \n",
      "{'n_estimators': 205, 'n_jobs': 4, 'criterion': 'entropy', 'max_features': 20, 'random_state': 11, 'max_depth': 29}\n",
      "Score:  -0.570379114241\n",
      "Training with params : \n",
      "{'n_estimators': 178, 'n_jobs': 4, 'criterion': 'gini', 'max_features': 20, 'random_state': 11, 'max_depth': 19}\n",
      "Score:  -0.55742728644\n",
      "Training with params : \n",
      "{'n_estimators': 141, 'n_jobs': 4, 'criterion': 'entropy', 'max_features': 16, 'random_state': 11, 'max_depth': 12}\n",
      "Score:  -0.541829063564\n",
      "Training with params : \n",
      "{'n_estimators': 295, 'n_jobs': 4, 'criterion': 'gini', 'max_features': 17, 'random_state': 11, 'max_depth': 8}\n",
      "Score:  -0.540726541501\n",
      "Training with params : \n",
      "{'n_estimators': 198, 'n_jobs': 4, 'criterion': 'gini', 'max_features': 18, 'random_state': 11, 'max_depth': 8}\n",
      "Score:  -0.540718015876\n",
      "Training with params : \n",
      "{'n_estimators': 110, 'n_jobs': 4, 'criterion': 'gini', 'max_features': 18, 'random_state': 11, 'max_depth': 8}\n",
      "Score:  -0.540845687843\n",
      "Training with params : \n",
      "{'n_estimators': 156, 'n_jobs': 4, 'criterion': 'gini', 'max_features': 6, 'random_state': 11, 'max_depth': 17}\n",
      "Score:  -0.547016779313\n",
      "Training with params : \n",
      "{'n_estimators': 252, 'n_jobs': 4, 'criterion': 'gini', 'max_features': 10, 'random_state': 11, 'max_depth': 16}\n",
      "Score:  -0.546694662978\n",
      "Training with params : \n",
      "{'n_estimators': 166, 'n_jobs': 4, 'criterion': 'gini', 'max_features': 7, 'random_state': 11, 'max_depth': 21}\n",
      "Score:  -0.554559814468\n",
      "Training with params : \n",
      "{'n_estimators': 67, 'n_jobs': 4, 'criterion': 'gini', 'max_features': 15, 'random_state': 11, 'max_depth': 9}\n",
      "Score:  -0.540758233433\n",
      "Training with params : \n",
      "{'n_estimators': 51, 'n_jobs': 4, 'criterion': 'gini', 'max_features': 18, 'random_state': 11, 'max_depth': 24}\n",
      "Score:  -0.58023689671\n",
      "Training with params : \n",
      "{'n_estimators': 55, 'n_jobs': 4, 'criterion': 'gini', 'max_features': 17, 'random_state': 11, 'max_depth': 8}\n",
      "Score:  -0.541155124636\n",
      "Training with params : \n",
      "{'n_estimators': 198, 'n_jobs': 4, 'criterion': 'gini', 'max_features': 17, 'random_state': 11, 'max_depth': 26}\n",
      "Score:  -0.570693318701\n",
      "Training with params : \n",
      "{'n_estimators': 263, 'n_jobs': 4, 'criterion': 'gini', 'max_features': 18, 'random_state': 11, 'max_depth': 6}\n",
      "Score:  -0.543049855536\n",
      "Training with params : \n",
      "{'n_estimators': 206, 'n_jobs': 4, 'criterion': 'gini', 'max_features': 23, 'random_state': 11, 'max_depth': 18}\n",
      "Score:  -0.555691397119\n",
      "Training with params : \n",
      "{'n_estimators': 296, 'n_jobs': 4, 'criterion': 'gini', 'max_features': 17, 'random_state': 11, 'max_depth': 10}\n",
      "Score:  -0.540703662932\n",
      "Training with params : \n",
      "{'n_estimators': 296, 'n_jobs': 4, 'criterion': 'gini', 'max_features': 21, 'random_state': 11, 'max_depth': 10}\n",
      "Score:  -0.541134024611\n",
      "Training with params : \n",
      "{'n_estimators': 198, 'n_jobs': 4, 'criterion': 'gini', 'max_features': 5, 'random_state': 11, 'max_depth': 10}\n",
      "Score:  -0.544420862141\n",
      "Training with params : \n",
      "{'n_estimators': 161, 'n_jobs': 4, 'criterion': 'gini', 'max_features': 11, 'random_state': 11, 'max_depth': 15}\n",
      "Score:  -0.545560509405\n",
      "Training with params : \n",
      "{'n_estimators': 296, 'n_jobs': 4, 'criterion': 'gini', 'max_features': 9, 'random_state': 11, 'max_depth': 11}\n",
      "Score:  -0.54082370115\n",
      "Training with params : \n",
      "{'n_estimators': 75, 'n_jobs': 4, 'criterion': 'gini', 'max_features': 7, 'random_state': 11, 'max_depth': 3}\n",
      "Score:  -0.573986172612\n",
      "Training with params : \n",
      "{'n_estimators': 140, 'n_jobs': 4, 'criterion': 'entropy', 'max_features': 8, 'random_state': 11, 'max_depth': 25}\n",
      "Score:  -0.559716672249\n",
      "Training with params : \n",
      "{'n_estimators': 246, 'n_jobs': 4, 'criterion': 'gini', 'max_features': 12, 'random_state': 11, 'max_depth': 2}\n",
      "Score:  -0.577294887753\n",
      "Training with params : \n",
      "{'n_estimators': 273, 'n_jobs': 4, 'criterion': 'gini', 'max_features': 10, 'random_state': 11, 'max_depth': 23}\n",
      "Score:  -0.559811761177\n",
      "Training with params : \n",
      "{'n_estimators': 219, 'n_jobs': 4, 'criterion': 'entropy', 'max_features': 13, 'random_state': 11, 'max_depth': 20}\n",
      "Score:  -0.553217084091\n",
      "Training with params : \n",
      "{'n_estimators': 131, 'n_jobs': 4, 'criterion': 'gini', 'max_features': 6, 'random_state': 11, 'max_depth': 5}\n",
      "Score:  -0.55879418298\n",
      "Training with params : \n",
      "{'n_estimators': 50, 'n_jobs': 4, 'criterion': 'entropy', 'max_features': 18, 'random_state': 11, 'max_depth': 22}\n",
      "Score:  -0.566306058741\n",
      "Training with params : \n",
      "{'n_estimators': 254, 'n_jobs': 4, 'criterion': 'gini', 'max_features': 22, 'random_state': 11, 'max_depth': 13}\n",
      "Score:  -0.544565963434\n",
      "Training with params : \n",
      "{'n_estimators': 137, 'n_jobs': 4, 'criterion': 'gini', 'max_features': 15, 'random_state': 11, 'max_depth': 4}\n",
      "Score:  -0.551117511903\n",
      "Training with params : \n",
      "{'n_estimators': 65, 'n_jobs': 4, 'criterion': 'entropy', 'max_features': 23, 'random_state': 11, 'max_depth': 10}\n",
      "Score:  -0.541716190433\n",
      "Training with params : \n",
      "{'n_estimators': 250, 'n_jobs': 4, 'criterion': 'gini', 'max_features': 14, 'random_state': 11, 'max_depth': 10}\n",
      "Score:  -0.540669132309\n",
      "Training with params : \n",
      "{'n_estimators': 168, 'n_jobs': 4, 'criterion': 'gini', 'max_features': 14, 'random_state': 11, 'max_depth': 10}\n",
      "Score:  -0.540822487675\n",
      "Training with params : \n",
      "{'n_estimators': 77, 'n_jobs': 4, 'criterion': 'entropy', 'max_features': 14, 'random_state': 11, 'max_depth': 7}\n",
      "Score:  -0.542185620349\n",
      "Training with params : \n",
      "{'n_estimators': 240, 'n_jobs': 4, 'criterion': 'gini', 'max_features': 14, 'random_state': 11, 'max_depth': 28}\n",
      "Score:  -0.570928060382\n",
      "Training with params : \n",
      "{'n_estimators': 250, 'n_jobs': 4, 'criterion': 'gini', 'max_features': 24, 'random_state': 11, 'max_depth': 10}\n",
      "Score:  -0.54131578505\n",
      "Training with params : \n",
      "{'n_estimators': 64, 'n_jobs': 4, 'criterion': 'entropy', 'max_features': 5, 'random_state': 11, 'max_depth': 24}\n",
      "Score:  -0.561931166084\n",
      "Training with params : \n",
      "{'n_estimators': 172, 'n_jobs': 4, 'criterion': 'gini', 'max_features': 17, 'random_state': 11, 'max_depth': 14}\n",
      "Score:  -0.546049659591\n",
      "Training with params : \n",
      "{'n_estimators': 237, 'n_jobs': 4, 'criterion': 'gini', 'max_features': 16, 'random_state': 11, 'max_depth': 17}\n",
      "Score:  -0.551388635351\n",
      "Training with params : \n",
      "{'n_estimators': 292, 'n_jobs': 4, 'criterion': 'gini', 'max_features': 19, 'random_state': 11, 'max_depth': 21}\n",
      "Score:  -0.560766707371\n",
      "Training with params : \n",
      "{'n_estimators': 116, 'n_jobs': 4, 'criterion': 'entropy', 'max_features': 21, 'random_state': 11, 'max_depth': 19}\n",
      "Score:  -0.554477329987\n",
      "Training with params : \n",
      "{'n_estimators': 107, 'n_jobs': 4, 'criterion': 'gini', 'max_features': 11, 'random_state': 11, 'max_depth': 16}\n",
      "Score:  -0.54792141286\n",
      "Training with params : \n",
      "{'n_estimators': 63, 'n_jobs': 4, 'criterion': 'gini', 'max_features': 20, 'random_state': 11, 'max_depth': 26}\n",
      "Score:  -0.584086157068\n",
      "Training with params : \n",
      "{'n_estimators': 104, 'n_jobs': 4, 'criterion': 'gini', 'max_features': 9, 'random_state': 11, 'max_depth': 29}\n",
      "Score:  -0.575458976775\n",
      "Training with params : \n",
      "{'n_estimators': 253, 'n_jobs': 4, 'criterion': 'gini', 'max_features': 17, 'random_state': 11, 'max_depth': 23}\n",
      "Score:  -0.564585565616\n",
      "Training with params : \n",
      "{'n_estimators': 225, 'n_jobs': 4, 'criterion': 'entropy', 'max_features': 14, 'random_state': 11, 'max_depth': 1}\n",
      "Score:  -0.6058485582\n",
      "Training with params : \n",
      "{'n_estimators': 294, 'n_jobs': 4, 'criterion': 'gini', 'max_features': 13, 'random_state': 11, 'max_depth': 9}\n",
      "Score:  -0.540412805387\n",
      "Training with params : \n",
      "{'n_estimators': 99, 'n_jobs': 4, 'criterion': 'gini', 'max_features': 13, 'random_state': 11, 'max_depth': 9}\n",
      "Score:  -0.540743451091\n",
      "Training with params : \n",
      "{'n_estimators': 272, 'n_jobs': 4, 'criterion': 'gini', 'max_features': 12, 'random_state': 11, 'max_depth': 9}\n",
      "Score:  -0.540588271465\n",
      "Training with params : \n",
      "{'n_estimators': 280, 'n_jobs': 4, 'criterion': 'gini', 'max_features': 12, 'random_state': 11, 'max_depth': 9}\n",
      "Score:  -0.540584700158\n",
      "Training with params : \n",
      "{'n_estimators': 152, 'n_jobs': 4, 'criterion': 'gini', 'max_features': 12, 'random_state': 11, 'max_depth': 9}\n",
      "Score:  -0.540684283108\n",
      "Training with params : \n",
      "{'n_estimators': 294, 'n_jobs': 4, 'criterion': 'gini', 'max_features': 12, 'random_state': 11, 'max_depth': 9}\n",
      "Score:  -0.54058723687\n",
      "Training with params : \n",
      "{'n_estimators': 294, 'n_jobs': 4, 'criterion': 'gini', 'max_features': 12, 'random_state': 11, 'max_depth': 9}\n",
      "Score:  -0.54058723687\n",
      "Training with params : \n",
      "{'n_estimators': 294, 'n_jobs': 4, 'criterion': 'gini', 'max_features': 13, 'random_state': 11, 'max_depth': 9}\n",
      "Score:  -0.540412805387\n",
      "Training with params : \n",
      "{'n_estimators': 280, 'n_jobs': 4, 'criterion': 'gini', 'max_features': 13, 'random_state': 11, 'max_depth': 9}\n",
      "Score:  -0.540427093952\n",
      "Training with params : \n",
      "{'n_estimators': 213, 'n_jobs': 4, 'criterion': 'gini', 'max_features': 13, 'random_state': 11, 'max_depth': 18}\n",
      "Score:  -0.552139331886\n",
      "Training with params : \n",
      "{'n_estimators': 72, 'n_jobs': 4, 'criterion': 'gini', 'max_features': 13, 'random_state': 11, 'max_depth': 15}\n",
      "Score:  -0.547182726215\n",
      "Training with params : \n",
      "{'n_estimators': 189, 'n_jobs': 4, 'criterion': 'gini', 'max_features': 13, 'random_state': 11, 'max_depth': 6}\n",
      "Score:  -0.544029751606\n",
      "Training with params : \n",
      "{'n_estimators': 265, 'n_jobs': 4, 'criterion': 'gini', 'max_features': 13, 'random_state': 11, 'max_depth': 12}\n",
      "Score:  -0.541766074182\n",
      "Training with params : \n",
      "{'n_estimators': 242, 'n_jobs': 4, 'criterion': 'gini', 'max_features': 13, 'random_state': 11, 'max_depth': 11}\n",
      "Score:  -0.540857918406\n",
      "Training with params : \n",
      "{'n_estimators': 163, 'n_jobs': 4, 'criterion': 'gini', 'max_features': 13, 'random_state': 11, 'max_depth': 25}\n",
      "Score:  -0.566526267632\n",
      "Training with params : \n",
      "{'n_estimators': 287, 'n_jobs': 4, 'criterion': 'gini', 'max_features': 13, 'random_state': 11, 'max_depth': 3}\n",
      "Score:  -0.561081942466\n",
      "Training with params : \n",
      "{'n_estimators': 169, 'n_jobs': 4, 'criterion': 'entropy', 'max_features': 8, 'random_state': 11, 'max_depth': 27}\n",
      "Score:  -0.563146102515\n",
      "Training with params : \n",
      "{'n_estimators': 106, 'n_jobs': 4, 'criterion': 'gini', 'max_features': 7, 'random_state': 11, 'max_depth': 9}\n",
      "Score:  -0.542721053918\n",
      "Training with params : \n",
      "{'n_estimators': 76, 'n_jobs': 4, 'criterion': 'gini', 'max_features': 13, 'random_state': 11, 'max_depth': 2}\n",
      "Score:  -0.576628990199\n",
      "Training with params : \n",
      "{'n_estimators': 179, 'n_jobs': 4, 'criterion': 'gini', 'max_features': 22, 'random_state': 11, 'max_depth': 22}\n",
      "Score:  -0.565044725224\n",
      "Training with params : \n",
      "{'n_estimators': 200, 'n_jobs': 4, 'criterion': 'gini', 'max_features': 10, 'random_state': 11, 'max_depth': 5}\n",
      "Score:  -0.54941317694\n",
      "Training with params : \n",
      "{'n_estimators': 92, 'n_jobs': 4, 'criterion': 'entropy', 'max_features': 6, 'random_state': 11, 'max_depth': 4}\n",
      "Score:  -0.567853067386\n",
      "Training with params : \n",
      "{'n_estimators': 100, 'n_jobs': 4, 'criterion': 'gini', 'max_features': 15, 'random_state': 11, 'max_depth': 13}\n",
      "Score:  -0.544001928399\n",
      "Training with params : \n",
      "{'n_estimators': 115, 'n_jobs': 4, 'criterion': 'gini', 'max_features': 24, 'random_state': 11, 'max_depth': 20}\n",
      "Score:  -0.562229002622\n",
      "Training with params : \n",
      "{'n_estimators': 82, 'n_jobs': 4, 'criterion': 'gini', 'max_features': 16, 'random_state': 11, 'max_depth': 7}\n",
      "Score:  -0.54168834245\n",
      "Training with params : \n",
      "{'n_estimators': 209, 'n_jobs': 4, 'criterion': 'entropy', 'max_features': 23, 'random_state': 11, 'max_depth': 28}\n",
      "Score:  -0.57092077516\n",
      "Training with params : \n",
      "{'n_estimators': 194, 'n_jobs': 4, 'criterion': 'gini', 'max_features': 19, 'random_state': 11, 'max_depth': 9}\n",
      "Score:  -0.540607686052\n",
      "Training with params : \n",
      "{'n_estimators': 294, 'n_jobs': 4, 'criterion': 'gini', 'max_features': 5, 'random_state': 11, 'max_depth': 14}\n",
      "Score:  -0.542977967455\n",
      "Training with params : \n",
      "{'n_estimators': 221, 'n_jobs': 4, 'criterion': 'gini', 'max_features': 21, 'random_state': 11, 'max_depth': 17}\n",
      "Score:  -0.552487341614\n",
      "Training with params : \n",
      "{'n_estimators': 190, 'n_jobs': 4, 'criterion': 'gini', 'max_features': 20, 'random_state': 11, 'max_depth': 19}\n",
      "Score:  -0.557447381028\n",
      "Training with params : \n",
      "{'n_estimators': 148, 'n_jobs': 4, 'criterion': 'entropy', 'max_features': 11, 'random_state': 11, 'max_depth': 24}\n",
      "Score:  -0.559977860426\n",
      "Training with params : \n",
      "{'n_estimators': 143, 'n_jobs': 4, 'criterion': 'gini', 'max_features': 9, 'random_state': 11, 'max_depth': 16}\n",
      "Score:  -0.54665445148\n",
      "Training with params : \n",
      "{'n_estimators': 56, 'n_jobs': 4, 'criterion': 'gini', 'max_features': 13, 'random_state': 11, 'max_depth': 21}\n",
      "Score:  -0.565636617755\n",
      "Training with params : \n",
      "{'n_estimators': 290, 'n_jobs': 4, 'criterion': 'gini', 'max_features': 8, 'random_state': 11, 'max_depth': 9}\n",
      "Score:  -0.541930241887\n",
      "Training with params : \n",
      "{'n_estimators': 187, 'n_jobs': 4, 'criterion': 'entropy', 'max_features': 13, 'random_state': 11, 'max_depth': 29}\n",
      "Score:  -0.568232279386\n",
      "Training with params : \n",
      "{'n_estimators': 122, 'n_jobs': 4, 'criterion': 'gini', 'max_features': 22, 'random_state': 11, 'max_depth': 1}\n",
      "Score:  -0.59429943163\n",
      "Training with params : \n",
      "{'n_estimators': 185, 'n_jobs': 4, 'criterion': 'gini', 'max_features': 6, 'random_state': 11, 'max_depth': 26}\n",
      "Score:  -0.563112421256\n",
      "best:\n",
      "{'max_features': 8, 'n_estimators': 244, 'criterion': 0, 'max_depth': 8}\n"
     ]
    }
   ],
   "source": [
    "best_rf_1 = RF_learn(random_state=11)"
   ]
  },
  {
   "cell_type": "markdown",
   "metadata": {},
   "source": [
    "Проверка на валидации."
   ]
  },
  {
   "cell_type": "code",
   "execution_count": 98,
   "metadata": {
    "collapsed": false
   },
   "outputs": [
    {
     "name": "stdout",
     "output_type": "stream",
     "text": [
      "0.546638611852\n"
     ]
    }
   ],
   "source": [
    "criterion = [\"gini\", \"entropy\"]\n",
    "rf1 = RandomForestClassifier(max_features=best_rf_1['max_features'], n_estimators=best_rf_1['n_estimators'], \n",
    "                            criterion=criterion[best_rf_1['criterion']], max_depth=best_rf_1['max_depth'], \n",
    "                            random_state=11, n_jobs=4)\n",
    "\n",
    "rf1.fit(X_train, y_train)\n",
    "\n",
    "predict_validation_rf1 = rf1.predict_proba(X_validation)\n",
    "print log_loss(y_validation, predict)"
   ]
  },
  {
   "cell_type": "markdown",
   "metadata": {},
   "source": [
    "Прогнозируем тест."
   ]
  },
  {
   "cell_type": "code",
   "execution_count": 100,
   "metadata": {
    "collapsed": true
   },
   "outputs": [],
   "source": [
    "predict_test_rf1 = rf1.predict_proba(test_x)"
   ]
  },
  {
   "cell_type": "code",
   "execution_count": 102,
   "metadata": {
    "collapsed": false
   },
   "outputs": [
    {
     "name": "stdout",
     "output_type": "stream",
     "text": [
      "0.546638611852\n"
     ]
    }
   ],
   "source": [
    "criterion = [\"gini\", \"entropy\"]\n",
    "rf2 = RandomForestClassifier(max_features=12, n_estimators=272, \n",
    "                            criterion='gini', max_depth=15, \n",
    "                            random_state=117, n_jobs=4)\n",
    "\n",
    "rf2.fit(X_train, y_train)\n",
    "\n",
    "predict_validation_rf2 = rf2.predict_proba(X_validation)\n",
    "print log_loss(y_validation, predict)"
   ]
  },
  {
   "cell_type": "code",
   "execution_count": 103,
   "metadata": {
    "collapsed": true
   },
   "outputs": [],
   "source": [
    "predict_test_rf2 = rf2.predict_proba(test_x)"
   ]
  },
  {
   "cell_type": "markdown",
   "metadata": {},
   "source": [
    "## 3.4 XgBoost"
   ]
  },
  {
   "cell_type": "code",
   "execution_count": 148,
   "metadata": {
    "collapsed": true
   },
   "outputs": [],
   "source": [
    "import xgboost as xgb\n",
    "from xgboost.sklearn import XGBClassifier"
   ]
  },
  {
   "cell_type": "code",
   "execution_count": 150,
   "metadata": {
    "collapsed": false
   },
   "outputs": [],
   "source": [
    "def XGB_learn(random_state=1):\n",
    "    def hyperopt_xgb(params):\n",
    "        print \"Training with params : \"\n",
    "        print params\n",
    "        clf = XGBClassifier(**params)\n",
    "        score = cross_val_score(clf, X_train, y_train, scoring='neg_log_loss', cv=3).mean()\n",
    "        print \"Score: \", score\n",
    "        return score\n",
    "\n",
    "    def f(params):\n",
    "        acc = hyperopt_xgb(params)\n",
    "        return {'loss': -acc, 'status': STATUS_OK}\n",
    "\n",
    "    random_state= 11\n",
    "    space4xgb = {\n",
    "        'n_estimators': hp.choice('n_estimators', range(50,150)),\n",
    "        'max_depth': hp.choice('max_depth', range(1,7)),\n",
    "        'learning_rate': hp.uniform('learning_rate', 0, 1),\n",
    "        'min_child_weight': hp.choice('min_child_weight', range(10,20)),\n",
    "        'reg_alpha': hp.uniform('reg_alpha', 1, 3),\n",
    "        'subsample': hp.uniform('subsample', 0, 1),\n",
    "        'colsample_bytree': hp.uniform('colsample_bytree', 0.2, 1),\n",
    "        'objective': 'binary:logistic',\n",
    "        'seed': random_state,\n",
    "        'nthread': 4\n",
    "\n",
    "    }\n",
    "\n",
    "    trials = Trials()\n",
    "    best = fmin(f, space4xgb, algo=tpe.suggest, max_evals=300, trials=trials)\n",
    "    print 'best:'\n",
    "    print best\n",
    "    return best"
   ]
  },
  {
   "cell_type": "code",
   "execution_count": 151,
   "metadata": {
    "collapsed": false
   },
   "outputs": [
    {
     "name": "stdout",
     "output_type": "stream",
     "text": [
      "Training with params : \n",
      "{'reg_alpha': 1.8403617677586532, 'colsample_bytree': 0.6377915471372693, 'learning_rate': 0.7023423477608088, 'nthread': 4, 'min_child_weight': 14, 'n_estimators': 95, 'subsample': 0.02511793836213727, 'seed': 11, 'objective': 'binary:logistic', 'max_depth': 5}\n",
      "Score:  -0.67151048597\n",
      "Training with params : \n",
      "{'reg_alpha': 1.666608883566014, 'colsample_bytree': 0.2207997747667971, 'learning_rate': 0.49359928020365107, 'nthread': 4, 'min_child_weight': 14, 'n_estimators': 73, 'subsample': 0.7729582269713277, 'seed': 11, 'objective': 'binary:logistic', 'max_depth': 2}\n",
      "Score:  -0.542477422207\n",
      "Training with params : \n",
      "{'reg_alpha': 2.9204441528119665, 'colsample_bytree': 0.2962429942966015, 'learning_rate': 0.40577683989152735, 'nthread': 4, 'min_child_weight': 11, 'n_estimators': 139, 'subsample': 0.40504384793562076, 'seed': 11, 'objective': 'binary:logistic', 'max_depth': 3}\n",
      "Score:  -0.54585084952\n",
      "Training with params : \n",
      "{'reg_alpha': 1.270727040361451, 'colsample_bytree': 0.37868162557772034, 'learning_rate': 0.10746340215884775, 'nthread': 4, 'min_child_weight': 13, 'n_estimators': 91, 'subsample': 0.5892992126388099, 'seed': 11, 'objective': 'binary:logistic', 'max_depth': 2}\n",
      "Score:  -0.54325970991\n",
      "Training with params : \n",
      "{'reg_alpha': 1.233053761609704, 'colsample_bytree': 0.4360076732346745, 'learning_rate': 0.16069131577538975, 'nthread': 4, 'min_child_weight': 15, 'n_estimators': 54, 'subsample': 0.6870541795277612, 'seed': 11, 'objective': 'binary:logistic', 'max_depth': 3}\n",
      "Score:  -0.539939713877\n",
      "Training with params : \n",
      "{'reg_alpha': 2.789654276334929, 'colsample_bytree': 0.22213139246952932, 'learning_rate': 0.17720984487376168, 'nthread': 4, 'min_child_weight': 13, 'n_estimators': 72, 'subsample': 0.025116963167104545, 'seed': 11, 'objective': 'binary:logistic', 'max_depth': 5}\n",
      "Score:  -0.549490178029\n",
      "Training with params : \n",
      "{'reg_alpha': 1.169156445935323, 'colsample_bytree': 0.6824856225756122, 'learning_rate': 0.20943978858794288, 'nthread': 4, 'min_child_weight': 13, 'n_estimators': 141, 'subsample': 0.9552898612793467, 'seed': 11, 'objective': 'binary:logistic', 'max_depth': 1}\n",
      "Score:  -0.548058447907\n",
      "Training with params : \n",
      "{'reg_alpha': 2.8724258114547956, 'colsample_bytree': 0.4840587988791663, 'learning_rate': 0.4634249176867884, 'nthread': 4, 'min_child_weight': 11, 'n_estimators': 61, 'subsample': 0.5135139320208274, 'seed': 11, 'objective': 'binary:logistic', 'max_depth': 1}\n",
      "Score:  -0.548885637253\n",
      "Training with params : \n",
      "{'reg_alpha': 1.1702440346155567, 'colsample_bytree': 0.2904251145547736, 'learning_rate': 0.8036008347651785, 'nthread': 4, 'min_child_weight': 19, 'n_estimators': 119, 'subsample': 0.9879352786679975, 'seed': 11, 'objective': 'binary:logistic', 'max_depth': 4}\n",
      "Score:  -0.554633324462\n",
      "Training with params : \n",
      "{'reg_alpha': 1.5482596427506377, 'colsample_bytree': 0.7197151986634369, 'learning_rate': 0.43703055364290366, 'nthread': 4, 'min_child_weight': 11, 'n_estimators': 132, 'subsample': 0.6869582902942318, 'seed': 11, 'objective': 'binary:logistic', 'max_depth': 4}\n",
      "Score:  -0.550398254518\n",
      "Training with params : \n",
      "{'reg_alpha': 2.7282225185855653, 'colsample_bytree': 0.8306877430001804, 'learning_rate': 0.6431015031794838, 'nthread': 4, 'min_child_weight': 18, 'n_estimators': 63, 'subsample': 0.6706988623863314, 'seed': 11, 'objective': 'binary:logistic', 'max_depth': 2}\n",
      "Score:  -0.543007494671\n",
      "Training with params : \n",
      "{'reg_alpha': 1.6976402353212219, 'colsample_bytree': 0.5452279979701762, 'learning_rate': 0.3084782858901409, 'nthread': 4, 'min_child_weight': 18, 'n_estimators': 52, 'subsample': 0.3882425299680644, 'seed': 11, 'objective': 'binary:logistic', 'max_depth': 5}\n",
      "Score:  -0.543843812531\n",
      "Training with params : \n",
      "{'reg_alpha': 1.2588460800892485, 'colsample_bytree': 0.6970346562739305, 'learning_rate': 0.9541666023780871, 'nthread': 4, 'min_child_weight': 13, 'n_estimators': 135, 'subsample': 0.45110542797182607, 'seed': 11, 'objective': 'binary:logistic', 'max_depth': 5}\n",
      "Score:  -0.63508365649\n",
      "Training with params : \n",
      "{'reg_alpha': 1.6679735551489374, 'colsample_bytree': 0.7854498226592559, 'learning_rate': 0.23887871730701793, 'nthread': 4, 'min_child_weight': 19, 'n_estimators': 57, 'subsample': 0.2015752791440013, 'seed': 11, 'objective': 'binary:logistic', 'max_depth': 4}\n",
      "Score:  -0.542446174097\n",
      "Training with params : \n",
      "{'reg_alpha': 1.5026271154762467, 'colsample_bytree': 0.2288666691023293, 'learning_rate': 0.9475944944828305, 'nthread': 4, 'min_child_weight': 19, 'n_estimators': 128, 'subsample': 0.19848601449259973, 'seed': 11, 'objective': 'binary:logistic', 'max_depth': 3}\n",
      "Score:  -0.575555732672\n",
      "Training with params : \n",
      "{'reg_alpha': 1.3623981111008059, 'colsample_bytree': 0.31358296405026503, 'learning_rate': 0.8240594423481803, 'nthread': 4, 'min_child_weight': 10, 'n_estimators': 109, 'subsample': 0.7830424754764167, 'seed': 11, 'objective': 'binary:logistic', 'max_depth': 4}\n",
      "Score:  -0.561384045544\n",
      "Training with params : \n",
      "{'reg_alpha': 2.453463299402579, 'colsample_bytree': 0.8441322847697801, 'learning_rate': 0.04104068321807508, 'nthread': 4, 'min_child_weight': 10, 'n_estimators': 113, 'subsample': 0.47564841132298386, 'seed': 11, 'objective': 'binary:logistic', 'max_depth': 4}\n",
      "Score:  -0.539295983679\n",
      "Training with params : \n",
      "{'reg_alpha': 2.907280242619755, 'colsample_bytree': 0.336883694465217, 'learning_rate': 0.0518215482074047, 'nthread': 4, 'min_child_weight': 16, 'n_estimators': 125, 'subsample': 0.8946294183326563, 'seed': 11, 'objective': 'binary:logistic', 'max_depth': 6}\n",
      "Score:  -0.541045521769\n",
      "Training with params : \n",
      "{'reg_alpha': 2.7031550250971623, 'colsample_bytree': 0.6588896077174964, 'learning_rate': 0.20340325452239405, 'nthread': 4, 'min_child_weight': 13, 'n_estimators': 112, 'subsample': 0.6104342252269754, 'seed': 11, 'objective': 'binary:logistic', 'max_depth': 5}\n",
      "Score:  -0.542896236587\n",
      "Training with params : \n",
      "{'reg_alpha': 2.5621170035334577, 'colsample_bytree': 0.2001777447699925, 'learning_rate': 0.4553518873071142, 'nthread': 4, 'min_child_weight': 11, 'n_estimators': 115, 'subsample': 0.607866461063743, 'seed': 11, 'objective': 'binary:logistic', 'max_depth': 1}\n",
      "Score:  -0.548790788725\n",
      "Training with params : \n",
      "{'reg_alpha': 2.3193773308512657, 'colsample_bytree': 0.4506383582708713, 'learning_rate': 0.030261057911576822, 'nthread': 4, 'min_child_weight': 15, 'n_estimators': 87, 'subsample': 0.3167035862219282, 'seed': 11, 'objective': 'binary:logistic', 'max_depth': 3}\n",
      "Score:  -0.552324878025\n",
      "Training with params : \n",
      "{'reg_alpha': 2.3680855180578746, 'colsample_bytree': 0.9650696309495818, 'learning_rate': 0.32121623037811664, 'nthread': 4, 'min_child_weight': 17, 'n_estimators': 113, 'subsample': 0.8215244795993442, 'seed': 11, 'objective': 'binary:logistic', 'max_depth': 6}\n",
      "Score:  -0.550721609327\n",
      "Training with params : \n",
      "{'reg_alpha': 2.0794722645546315, 'colsample_bytree': 0.9955712135887725, 'learning_rate': 0.00020339193301870812, 'nthread': 4, 'min_child_weight': 12, 'n_estimators': 64, 'subsample': 0.2530237086236705, 'seed': 11, 'objective': 'binary:logistic', 'max_depth': 3}\n",
      "Score:  -0.689916835188\n",
      "Training with params : \n",
      "{'reg_alpha': 2.068997519596525, 'colsample_bytree': 0.9215167330108949, 'learning_rate': 0.10272188271122809, 'nthread': 4, 'min_child_weight': 10, 'n_estimators': 89, 'subsample': 0.5268490653323828, 'seed': 11, 'objective': 'binary:logistic', 'max_depth': 3}\n",
      "Score:  -0.539246176267\n",
      "Training with params : \n",
      "{'reg_alpha': 2.0909342714591257, 'colsample_bytree': 0.9338023037021549, 'learning_rate': 0.08384251372816703, 'nthread': 4, 'min_child_weight': 10, 'n_estimators': 62, 'subsample': 0.5068422652782066, 'seed': 11, 'objective': 'binary:logistic', 'max_depth': 4}\n",
      "Score:  -0.539233290628\n",
      "Training with params : \n",
      "{'reg_alpha': 2.0863502823144966, 'colsample_bytree': 0.9335513673978322, 'learning_rate': 0.5613644857814553, 'nthread': 4, 'min_child_weight': 10, 'n_estimators': 89, 'subsample': 0.5248719397520888, 'seed': 11, 'objective': 'binary:logistic', 'max_depth': 6}\n",
      "Score:  -0.579636193195\n",
      "Training with params : \n",
      "{'reg_alpha': 2.2137522640076104, 'colsample_bytree': 0.8794234294133854, 'learning_rate': 0.31149609225004227, 'nthread': 4, 'min_child_weight': 10, 'n_estimators': 62, 'subsample': 0.29804715896435685, 'seed': 11, 'objective': 'binary:logistic', 'max_depth': 4}\n",
      "Score:  -0.544616335931\n",
      "Training with params : \n",
      "{'reg_alpha': 1.8686645173759404, 'colsample_bytree': 0.913216882675061, 'learning_rate': 0.1076490796713349, 'nthread': 4, 'min_child_weight': 10, 'n_estimators': 138, 'subsample': 0.1185533632930666, 'seed': 11, 'objective': 'binary:logistic', 'max_depth': 3}\n",
      "Score:  -0.540870498308\n",
      "Training with params : \n",
      "{'reg_alpha': 1.8976529052608784, 'colsample_bytree': 0.7645081940602867, 'learning_rate': 0.10367918073472938, 'nthread': 4, 'min_child_weight': 10, 'n_estimators': 67, 'subsample': 0.3736799626771238, 'seed': 11, 'objective': 'binary:logistic', 'max_depth': 4}\n",
      "Score:  -0.538944501488\n",
      "Training with params : \n",
      "{'reg_alpha': 1.8443183344104797, 'colsample_bytree': 0.7787398411422759, 'learning_rate': 0.6075614512670625, 'nthread': 4, 'min_child_weight': 17, 'n_estimators': 71, 'subsample': 0.10201365932633605, 'seed': 11, 'objective': 'binary:logistic', 'max_depth': 4}\n",
      "Score:  -0.579053131548\n",
      "Training with params : \n",
      "{'reg_alpha': 1.975287074742288, 'colsample_bytree': 0.5746679927015651, 'learning_rate': 0.36450741098149714, 'nthread': 4, 'min_child_weight': 14, 'n_estimators': 131, 'subsample': 0.36167320727089713, 'seed': 11, 'objective': 'binary:logistic', 'max_depth': 4}\n",
      "Score:  -0.550924883977\n",
      "Training with params : \n",
      "{'reg_alpha': 2.205506837792451, 'colsample_bytree': 0.757073958496229, 'learning_rate': 0.26239006570374673, 'nthread': 4, 'min_child_weight': 12, 'n_estimators': 67, 'subsample': 0.12376269032425485, 'seed': 11, 'objective': 'binary:logistic', 'max_depth': 4}\n",
      "Score:  -0.546394478182\n",
      "Training with params : \n",
      "{'reg_alpha': 1.0467557450185923, 'colsample_bytree': 0.6177221700822155, 'learning_rate': 0.1293891093232573, 'nthread': 4, 'min_child_weight': 16, 'n_estimators': 99, 'subsample': 0.42965794094789633, 'seed': 11, 'objective': 'binary:logistic', 'max_depth': 2}\n",
      "Score:  -0.540959452205\n",
      "Training with params : \n",
      "{'reg_alpha': 1.9434418867443541, 'colsample_bytree': 0.8339313274185087, 'learning_rate': 0.370812312467808, 'nthread': 4, 'min_child_weight': 14, 'n_estimators': 106, 'subsample': 0.33314652818864576, 'seed': 11, 'objective': 'binary:logistic', 'max_depth': 4}\n",
      "Score:  -0.549086301137\n",
      "Training with params : \n",
      "{'reg_alpha': 1.725833836744051, 'colsample_bytree': 0.9954718468913001, 'learning_rate': 0.5481853492476543, 'nthread': 4, 'min_child_weight': 10, 'n_estimators': 101, 'subsample': 0.2583416735748606, 'seed': 11, 'objective': 'binary:logistic', 'max_depth': 4}\n",
      "Score:  -0.569505367029\n",
      "Training with params : \n",
      "{'reg_alpha': 2.1934633015764264, 'colsample_bytree': 0.7369406296444037, 'learning_rate': 0.00788905351374923, 'nthread': 4, 'min_child_weight': 15, 'n_estimators': 78, 'subsample': 0.7277344253559119, 'seed': 11, 'objective': 'binary:logistic', 'max_depth': 2}\n",
      "Score:  -0.611138563844\n",
      "Training with params : \n",
      "{'reg_alpha': 1.484000262861088, 'colsample_bytree': 0.8867301568729529, 'learning_rate': 0.15765988453116586, 'nthread': 4, 'min_child_weight': 10, 'n_estimators': 67, 'subsample': 0.5414726197164279, 'seed': 11, 'objective': 'binary:logistic', 'max_depth': 1}\n",
      "Score:  -0.551111752288\n",
      "Training with params : \n",
      "{'reg_alpha': 2.5389487998260742, 'colsample_bytree': 0.6410581546090409, 'learning_rate': 0.7545636600435511, 'nthread': 4, 'min_child_weight': 10, 'n_estimators': 85, 'subsample': 0.4134081699862228, 'seed': 11, 'objective': 'binary:logistic', 'max_depth': 4}\n",
      "Score:  -0.565902147618\n",
      "Training with params : \n",
      "{'reg_alpha': 1.3868470421058923, 'colsample_bytree': 0.7989685482766389, 'learning_rate': 0.07439993616477968, 'nthread': 4, 'min_child_weight': 18, 'n_estimators': 60, 'subsample': 0.6242305625626157, 'seed': 11, 'objective': 'binary:logistic', 'max_depth': 6}\n",
      "Score:  -0.539040753918\n",
      "Training with params : \n",
      "{'reg_alpha': 1.0023378654943864, 'colsample_bytree': 0.5851506384440551, 'learning_rate': 0.2586695431482333, 'nthread': 4, 'min_child_weight': 18, 'n_estimators': 102, 'subsample': 0.8890945305799213, 'seed': 11, 'objective': 'binary:logistic', 'max_depth': 6}\n",
      "Score:  -0.5457719603\n",
      "Training with params : \n",
      "{'reg_alpha': 1.3621302115422254, 'colsample_bytree': 0.534157151206887, 'learning_rate': 0.3960860315081114, 'nthread': 4, 'min_child_weight': 18, 'n_estimators': 114, 'subsample': 0.5677230630162139, 'seed': 11, 'objective': 'binary:logistic', 'max_depth': 6}\n",
      "Score:  -0.559557935059\n",
      "Training with params : \n",
      "{'reg_alpha': 1.7724943957756805, 'colsample_bytree': 0.8014680592513094, 'learning_rate': 0.19776782047826497, 'nthread': 4, 'min_child_weight': 18, 'n_estimators': 80, 'subsample': 0.6399378518208475, 'seed': 11, 'objective': 'binary:logistic', 'max_depth': 6}\n",
      "Score:  -0.543173477608\n",
      "Training with params : \n",
      "{'reg_alpha': 1.5887737708625032, 'colsample_bytree': 0.6931925832006779, 'learning_rate': 0.5116637257115888, 'nthread': 4, 'min_child_weight': 18, 'n_estimators': 127, 'subsample': 0.7322881047201039, 'seed': 11, 'objective': 'binary:logistic', 'max_depth': 6}\n",
      "Score:  -0.568142615879\n",
      "Training with params : \n",
      "{'reg_alpha': 1.095783468306169, 'colsample_bytree': 0.3984993307937287, 'learning_rate': 0.15158374337169117, 'nthread': 4, 'min_child_weight': 12, 'n_estimators': 60, 'subsample': 0.05293443085961197, 'seed': 11, 'objective': 'binary:logistic', 'max_depth': 1}\n",
      "Score:  -0.552297262602\n",
      "Training with params : \n",
      "{'reg_alpha': 1.3848758917316983, 'colsample_bytree': 0.5048566116337323, 'learning_rate': 0.7131696221125968, 'nthread': 4, 'min_child_weight': 16, 'n_estimators': 126, 'subsample': 0.18711537082768792, 'seed': 11, 'objective': 'binary:logistic', 'max_depth': 5}\n",
      "Score:  -0.616925039499\n",
      "Training with params : \n",
      "{'reg_alpha': 1.575950947377952, 'colsample_bytree': 0.7205495634697597, 'learning_rate': 0.05444014432644602, 'nthread': 4, 'min_child_weight': 17, 'n_estimators': 93, 'subsample': 0.8563438687115921, 'seed': 11, 'objective': 'binary:logistic', 'max_depth': 2}\n",
      "Score:  -0.545787641274\n",
      "Training with params : \n",
      "{'reg_alpha': 1.1516256612166014, 'colsample_bytree': 0.8087542067294438, 'learning_rate': 0.2427898298497982, 'nthread': 4, 'min_child_weight': 19, 'n_estimators': 147, 'subsample': 0.9921033790111227, 'seed': 11, 'objective': 'binary:logistic', 'max_depth': 6}\n",
      "Score:  -0.546814391805\n",
      "Training with params : \n",
      "{'reg_alpha': 1.2817013856161887, 'colsample_bytree': 0.86725573998451, 'learning_rate': 0.897491660217058, 'nthread': 4, 'min_child_weight': 11, 'n_estimators': 98, 'subsample': 0.4746644646679613, 'seed': 11, 'objective': 'binary:logistic', 'max_depth': 6}\n",
      "Score:  -0.644526579372\n",
      "Training with params : \n",
      "{'reg_alpha': 1.4341585466264406, 'colsample_bytree': 0.6604587001578681, 'learning_rate': 0.6424830526817115, 'nthread': 4, 'min_child_weight': 18, 'n_estimators': 118, 'subsample': 0.380542115739281, 'seed': 11, 'objective': 'binary:logistic', 'max_depth': 5}\n",
      "Score:  -0.580896210314\n",
      "Training with params : \n",
      "{'reg_alpha': 1.6203868729105189, 'colsample_bytree': 0.7580280751152687, 'learning_rate': 0.2828763413496585, 'nthread': 4, 'min_child_weight': 14, 'n_estimators': 103, 'subsample': 0.666826595110467, 'seed': 11, 'objective': 'binary:logistic', 'max_depth': 1}\n",
      "Score:  -0.54785741655\n",
      "Training with params : \n",
      "{'reg_alpha': 1.8082805949951666, 'colsample_bytree': 0.621134222926972, 'learning_rate': 0.42422238253959216, 'nthread': 4, 'min_child_weight': 13, 'n_estimators': 60, 'subsample': 0.9402193898839898, 'seed': 11, 'objective': 'binary:logistic', 'max_depth': 2}\n",
      "Score:  -0.54090003105\n",
      "Training with params : \n",
      "{'reg_alpha': 1.8892377914786618, 'colsample_bytree': 0.974405216096665, 'learning_rate': 0.4804687085883132, 'nthread': 4, 'min_child_weight': 15, 'n_estimators': 65, 'subsample': 0.004459223180563021, 'seed': 11, 'objective': 'binary:logistic', 'max_depth': 6}\n",
      "Score:  -0.589712455542\n",
      "Training with params : \n",
      "{'reg_alpha': 1.7306972820723867, 'colsample_bytree': 0.5621892794933573, 'learning_rate': 0.20916365886493793, 'nthread': 4, 'min_child_weight': 18, 'n_estimators': 134, 'subsample': 0.7682518068132956, 'seed': 11, 'objective': 'binary:logistic', 'max_depth': 5}\n",
      "Score:  -0.543592363796\n",
      "Training with params : \n",
      "{'reg_alpha': 1.4892780196174897, 'colsample_bytree': 0.4701566743239492, 'learning_rate': 0.06944244682076088, 'nthread': 4, 'min_child_weight': 19, 'n_estimators': 84, 'subsample': 0.25791855538730624, 'seed': 11, 'objective': 'binary:logistic', 'max_depth': 6}\n",
      "Score:  -0.540289046718\n",
      "Training with params : \n",
      "{'reg_alpha': 1.2733595497528787, 'colsample_bytree': 0.4105182173659976, 'learning_rate': 0.0002159990961617536, 'nthread': 4, 'min_child_weight': 11, 'n_estimators': 83, 'subsample': 0.5802701127265759, 'seed': 11, 'objective': 'binary:logistic', 'max_depth': 1}\n",
      "Score:  -0.691001424339\n",
      "Training with params : \n",
      "{'reg_alpha': 2.286298299673053, 'colsample_bytree': 0.8531747603004723, 'learning_rate': 0.33783286463633994, 'nthread': 4, 'min_child_weight': 16, 'n_estimators': 68, 'subsample': 0.4511837189187859, 'seed': 11, 'objective': 'binary:logistic', 'max_depth': 3}\n",
      "Score:  -0.541578507385\n",
      "Training with params : \n",
      "{'reg_alpha': 1.6461271701530635, 'colsample_bytree': 0.5218154706935606, 'learning_rate': 0.1297992591645899, 'nthread': 4, 'min_child_weight': 12, 'n_estimators': 116, 'subsample': 0.722501479279686, 'seed': 11, 'objective': 'binary:logistic', 'max_depth': 4}\n",
      "Score:  -0.539370130009\n",
      "Training with params : \n",
      "{'reg_alpha': 2.9717989815468036, 'colsample_bytree': 0.8966302647977873, 'learning_rate': 0.9943843753205935, 'nthread': 4, 'min_child_weight': 13, 'n_estimators': 110, 'subsample': 0.15360679532254334, 'seed': 11, 'objective': 'binary:logistic', 'max_depth': 2}\n",
      "Score:  -0.567576959763\n",
      "Training with params : \n",
      "{'reg_alpha': 2.785036816307009, 'colsample_bytree': 0.6744713914136258, 'learning_rate': 0.024253404542159504, 'nthread': 4, 'min_child_weight': 17, 'n_estimators': 97, 'subsample': 0.7850153199176293, 'seed': 11, 'objective': 'binary:logistic', 'max_depth': 6}\n",
      "Score:  -0.544330317441\n",
      "Training with params : \n",
      "{'reg_alpha': 2.4021831362135924, 'colsample_bytree': 0.81895709172451, 'learning_rate': 0.18377839498835724, 'nthread': 4, 'min_child_weight': 15, 'n_estimators': 108, 'subsample': 0.6155393983100608, 'seed': 11, 'objective': 'binary:logistic', 'max_depth': 5}\n",
      "Score:  -0.542540954892\n",
      "Training with params : \n",
      "{'reg_alpha': 1.1970379504445932, 'colsample_bytree': 0.7129002161949488, 'learning_rate': 0.5145302956297942, 'nthread': 4, 'min_child_weight': 18, 'n_estimators': 50, 'subsample': 0.28943970686103193, 'seed': 11, 'objective': 'binary:logistic', 'max_depth': 3}\n",
      "Score:  -0.545312403385\n",
      "Training with params : \n",
      "{'reg_alpha': 2.0233067928109096, 'colsample_bytree': 0.7717279568419939, 'learning_rate': 0.08607883141522658, 'nthread': 4, 'min_child_weight': 14, 'n_estimators': 96, 'subsample': 0.4808298494209021, 'seed': 11, 'objective': 'binary:logistic', 'max_depth': 4}\n",
      "Score:  -0.538824716031\n",
      "Training with params : \n",
      "{'reg_alpha': 2.0337105566275855, 'colsample_bytree': 0.7700871262117085, 'learning_rate': 0.28534931373365136, 'nthread': 4, 'min_child_weight': 14, 'n_estimators': 129, 'subsample': 0.34889052186191893, 'seed': 11, 'objective': 'binary:logistic', 'max_depth': 4}\n",
      "Score:  -0.546217405047\n",
      "Training with params : \n",
      "{'reg_alpha': 2.6163833287402563, 'colsample_bytree': 0.7341474762634252, 'learning_rate': 0.8331608412306781, 'nthread': 4, 'min_child_weight': 14, 'n_estimators': 56, 'subsample': 0.0546319892953504, 'seed': 11, 'objective': 'binary:logistic', 'max_depth': 4}\n",
      "Score:  -0.618232992541\n",
      "Training with params : \n",
      "{'reg_alpha': 2.1307743946255275, 'colsample_bytree': 0.9530987524701743, 'learning_rate': 0.22547952411701622, 'nthread': 4, 'min_child_weight': 14, 'n_estimators': 96, 'subsample': 0.48235465609319794, 'seed': 11, 'objective': 'binary:logistic', 'max_depth': 4}\n",
      "Score:  -0.541680260668\n",
      "Training with params : \n",
      "{'reg_alpha': 2.2589023022931123, 'colsample_bytree': 0.7861453117162375, 'learning_rate': 0.09163661711480439, 'nthread': 4, 'min_child_weight': 14, 'n_estimators': 77, 'subsample': 0.5582642718865418, 'seed': 11, 'objective': 'binary:logistic', 'max_depth': 4}\n",
      "Score:  -0.538648404463\n",
      "Training with params : \n",
      "{'reg_alpha': 2.26892086598013, 'colsample_bytree': 0.6095775758494215, 'learning_rate': 0.11504469639018794, 'nthread': 4, 'min_child_weight': 14, 'n_estimators': 77, 'subsample': 0.5536717519394909, 'seed': 11, 'objective': 'binary:logistic', 'max_depth': 4}\n",
      "Score:  -0.53896262804\n",
      "Training with params : \n",
      "{'reg_alpha': 1.9289817439327992, 'colsample_bytree': 0.849976335491586, 'learning_rate': 0.16181169624079306, 'nthread': 4, 'min_child_weight': 14, 'n_estimators': 107, 'subsample': 0.4411855705133315, 'seed': 11, 'objective': 'binary:logistic', 'max_depth': 4}\n",
      "Score:  -0.540560649043\n",
      "Training with params : \n",
      "{'reg_alpha': 2.460427851232394, 'colsample_bytree': 0.7484740659996871, 'learning_rate': 0.09347247529182895, 'nthread': 4, 'min_child_weight': 14, 'n_estimators': 55, 'subsample': 0.21648905493411225, 'seed': 11, 'objective': 'binary:logistic', 'max_depth': 4}\n",
      "Score:  -0.539660882439\n",
      "Training with params : \n",
      "{'reg_alpha': 2.1518250083554236, 'colsample_bytree': 0.695499488208932, 'learning_rate': 0.35422750495926447, 'nthread': 4, 'min_child_weight': 14, 'n_estimators': 136, 'subsample': 0.4150988068781114, 'seed': 11, 'objective': 'binary:logistic', 'max_depth': 4}\n",
      "Score:  -0.549038393273\n",
      "Training with params : \n",
      "{'reg_alpha': 2.3915210682014196, 'colsample_bytree': 0.6368472529588405, 'learning_rate': 0.022267687300476235, 'nthread': 4, 'min_child_weight': 14, 'n_estimators': 86, 'subsample': 0.39416541605497246, 'seed': 11, 'objective': 'binary:logistic', 'max_depth': 4}\n",
      "Score:  -0.552166667927\n",
      "Training with params : \n",
      "{'reg_alpha': 2.0065950584164343, 'colsample_bytree': 0.7789055499500124, 'learning_rate': 0.3879757343804554, 'nthread': 4, 'min_child_weight': 10, 'n_estimators': 77, 'subsample': 0.5017723819510201, 'seed': 11, 'objective': 'binary:logistic', 'max_depth': 4}\n",
      "Score:  -0.545953067866\n",
      "Training with params : \n",
      "{'reg_alpha': 2.3331022420584278, 'colsample_bytree': 0.9096813802527648, 'learning_rate': 0.1405819033567673, 'nthread': 4, 'min_child_weight': 14, 'n_estimators': 133, 'subsample': 0.6507951281621633, 'seed': 11, 'objective': 'binary:logistic', 'max_depth': 4}\n",
      "Score:  -0.540273536682\n",
      "Training with params : \n",
      "{'reg_alpha': 2.479445055442265, 'colsample_bytree': 0.8220184394757473, 'learning_rate': 0.17519939052350264, 'nthread': 4, 'min_child_weight': 10, 'n_estimators': 51, 'subsample': 0.36789330817232707, 'seed': 11, 'objective': 'binary:logistic', 'max_depth': 4}\n",
      "Score:  -0.539312971467\n",
      "Training with params : \n",
      "{'reg_alpha': 2.6115640609363964, 'colsample_bytree': 0.8651128642492079, 'learning_rate': 0.054479714054048785, 'nthread': 4, 'min_child_weight': 19, 'n_estimators': 130, 'subsample': 0.6901293788295266, 'seed': 11, 'objective': 'binary:logistic', 'max_depth': 4}\n",
      "Score:  -0.538577313306\n",
      "Training with params : \n",
      "{'reg_alpha': 2.638339970780332, 'colsample_bytree': 0.9898232576014262, 'learning_rate': 0.04820584612434346, 'nthread': 4, 'min_child_weight': 19, 'n_estimators': 130, 'subsample': 0.7056275733171643, 'seed': 11, 'objective': 'binary:logistic', 'max_depth': 4}\n",
      "Score:  -0.538598390356\n",
      "Training with params : \n",
      "{'reg_alpha': 2.638875329603044, 'colsample_bytree': 0.9869286798901147, 'learning_rate': 0.29224712666842595, 'nthread': 4, 'min_child_weight': 19, 'n_estimators': 130, 'subsample': 0.812414211088974, 'seed': 11, 'objective': 'binary:logistic', 'max_depth': 4}\n",
      "Score:  -0.544057086038\n",
      "Training with params : \n",
      "{'reg_alpha': 2.84522681133525, 'colsample_bytree': 0.9473748481231861, 'learning_rate': 0.0038196766245932393, 'nthread': 4, 'min_child_weight': 19, 'n_estimators': 130, 'subsample': 0.7006414451902264, 'seed': 11, 'objective': 'binary:logistic', 'max_depth': 1}\n",
      "Score:  -0.63224725235\n",
      "Training with params : \n",
      "{'reg_alpha': 2.7031741839467296, 'colsample_bytree': 0.877533957790058, 'learning_rate': 0.049061075599275174, 'nthread': 4, 'min_child_weight': 19, 'n_estimators': 92, 'subsample': 0.9592656606434286, 'seed': 11, 'objective': 'binary:logistic', 'max_depth': 3}\n",
      "Score:  -0.541996267499\n",
      "Training with params : \n",
      "{'reg_alpha': 2.5333203483996862, 'colsample_bytree': 0.9205991823337415, 'learning_rate': 0.23711154371717133, 'nthread': 4, 'min_child_weight': 19, 'n_estimators': 121, 'subsample': 0.7558321045588559, 'seed': 11, 'objective': 'binary:logistic', 'max_depth': 4}\n",
      "Score:  -0.541829776143\n",
      "Training with params : \n",
      "{'reg_alpha': 2.7712535124253277, 'colsample_bytree': 0.9663455899207449, 'learning_rate': 0.442379597475805, 'nthread': 4, 'min_child_weight': 19, 'n_estimators': 66, 'subsample': 0.8838550547206028, 'seed': 11, 'objective': 'binary:logistic', 'max_depth': 2}\n",
      "Score:  -0.540818995326\n",
      "Training with params : \n",
      "{'reg_alpha': 2.637249909814993, 'colsample_bytree': 0.8624613869691405, 'learning_rate': 0.327082845343865, 'nthread': 4, 'min_child_weight': 19, 'n_estimators': 120, 'subsample': 0.8484522698319495, 'seed': 11, 'objective': 'binary:logistic', 'max_depth': 4}\n",
      "Score:  -0.544413328691\n",
      "Training with params : \n",
      "{'reg_alpha': 2.975539941468846, 'colsample_bytree': 0.9994643789732955, 'learning_rate': 0.5728335602141292, 'nthread': 4, 'min_child_weight': 19, 'n_estimators': 146, 'subsample': 0.594620671183532, 'seed': 11, 'objective': 'binary:logistic', 'max_depth': 5}\n",
      "Score:  -0.569477971306\n",
      "Training with params : \n",
      "{'reg_alpha': 2.2565613575998946, 'colsample_bytree': 0.8401068546358758, 'learning_rate': 0.05968958378909275, 'nthread': 4, 'min_child_weight': 19, 'n_estimators': 76, 'subsample': 0.6803372159748314, 'seed': 11, 'objective': 'binary:logistic', 'max_depth': 4}\n",
      "Score:  -0.539503158896\n",
      "Training with params : \n",
      "{'reg_alpha': 2.8310847815740403, 'colsample_bytree': 0.9380526301240526, 'learning_rate': 0.1868731393939026, 'nthread': 4, 'min_child_weight': 11, 'n_estimators': 140, 'subsample': 0.709607771142793, 'seed': 11, 'objective': 'binary:logistic', 'max_depth': 1}\n",
      "Score:  -0.548255703726\n",
      "Training with params : \n",
      "{'reg_alpha': 2.67988550962212, 'colsample_bytree': 0.2641146352854995, 'learning_rate': 0.03986665696723564, 'nthread': 4, 'min_child_weight': 16, 'n_estimators': 117, 'subsample': 0.804123660144787, 'seed': 11, 'objective': 'binary:logistic', 'max_depth': 4}\n",
      "Score:  -0.547360164088\n",
      "Training with params : \n",
      "{'reg_alpha': 2.9349025414973218, 'colsample_bytree': 0.8958321232764258, 'learning_rate': 0.12711440451564793, 'nthread': 4, 'min_child_weight': 17, 'n_estimators': 130, 'subsample': 0.7468540848954275, 'seed': 11, 'objective': 'binary:logistic', 'max_depth': 3}\n",
      "Score:  -0.539154828741\n",
      "Training with params : \n",
      "{'reg_alpha': 2.3515419858230704, 'colsample_bytree': 0.7924867901994429, 'learning_rate': 0.2728509238250513, 'nthread': 4, 'min_child_weight': 12, 'n_estimators': 145, 'subsample': 0.9227389468461797, 'seed': 11, 'objective': 'binary:logistic', 'max_depth': 2}\n",
      "Score:  -0.540468867164\n",
      "Training with params : \n",
      "{'reg_alpha': 2.581331678627183, 'colsample_bytree': 0.7154426867674999, 'learning_rate': 0.4140917850663627, 'nthread': 4, 'min_child_weight': 13, 'n_estimators': 123, 'subsample': 0.6391443912006411, 'seed': 11, 'objective': 'binary:logistic', 'max_depth': 4}\n",
      "Score:  -0.548864624109\n",
      "Training with params : \n",
      "{'reg_alpha': 2.8897919882167775, 'colsample_bytree': 0.9146376975496635, 'learning_rate': 0.305561659964007, 'nthread': 4, 'min_child_weight': 19, 'n_estimators': 124, 'subsample': 0.5377991148484126, 'seed': 11, 'objective': 'binary:logistic', 'max_depth': 5}\n",
      "Score:  -0.549548480494\n",
      "Training with params : \n",
      "{'reg_alpha': 2.4979200116354128, 'colsample_bytree': 0.9773963136779807, 'learning_rate': 0.21639675704066796, 'nthread': 4, 'min_child_weight': 15, 'n_estimators': 81, 'subsample': 0.6665499248093347, 'seed': 11, 'objective': 'binary:logistic', 'max_depth': 4}\n",
      "Score:  -0.540468509081\n",
      "Training with params : \n",
      "{'reg_alpha': 2.427033372679679, 'colsample_bytree': 0.3670582074838199, 'learning_rate': 0.6791284979501919, 'nthread': 4, 'min_child_weight': 19, 'n_estimators': 137, 'subsample': 0.8529893872105088, 'seed': 11, 'objective': 'binary:logistic', 'max_depth': 1}\n",
      "Score:  -0.547891956276\n",
      "Training with params : \n",
      "{'reg_alpha': 2.588094276163804, 'colsample_bytree': 0.591527524999559, 'learning_rate': 0.25043005742824437, 'nthread': 4, 'min_child_weight': 16, 'n_estimators': 69, 'subsample': 0.5742120157142626, 'seed': 11, 'objective': 'binary:logistic', 'max_depth': 4}\n",
      "Score:  -0.541017296651\n",
      "Training with params : \n",
      "{'reg_alpha': 2.7305304458261697, 'colsample_bytree': 0.8747354439773986, 'learning_rate': 0.01774298781539408, 'nthread': 4, 'min_child_weight': 11, 'n_estimators': 82, 'subsample': 0.8321205003203735, 'seed': 11, 'objective': 'binary:logistic', 'max_depth': 3}\n",
      "Score:  -0.562623932717\n",
      "Training with params : \n",
      "{'reg_alpha': 2.2289265130372513, 'colsample_bytree': 0.6779753638553825, 'learning_rate': 0.07585539384956616, 'nthread': 4, 'min_child_weight': 12, 'n_estimators': 105, 'subsample': 0.7907165785516385, 'seed': 11, 'objective': 'binary:logistic', 'max_depth': 2}\n",
      "Score:  -0.54268964457\n",
      "Training with params : \n",
      "{'reg_alpha': 2.1652770563380774, 'colsample_bytree': 0.8116416969372761, 'learning_rate': 0.16427606480110438, 'nthread': 4, 'min_child_weight': 17, 'n_estimators': 111, 'subsample': 0.6002473471881388, 'seed': 11, 'objective': 'binary:logistic', 'max_depth': 4}\n",
      "Score:  -0.540311045944\n",
      "Training with params : \n",
      "{'reg_alpha': 2.5161415667263825, 'colsample_bytree': 0.65283671298487, 'learning_rate': 0.7886293807858314, 'nthread': 4, 'min_child_weight': 13, 'n_estimators': 94, 'subsample': 0.9711226359454546, 'seed': 11, 'objective': 'binary:logistic', 'max_depth': 5}\n",
      "Score:  -0.563847669613\n",
      "Training with params : \n",
      "{'reg_alpha': 2.7400494937120117, 'colsample_bytree': 0.8340790901222084, 'learning_rate': 0.11778377750209593, 'nthread': 4, 'min_child_weight': 19, 'n_estimators': 59, 'subsample': 0.621493841468982, 'seed': 11, 'objective': 'binary:logistic', 'max_depth': 4}\n",
      "Score:  -0.538649177769\n",
      "Training with params : \n",
      "{'reg_alpha': 2.9340928777851554, 'colsample_bytree': 0.9009739211311723, 'learning_rate': 0.470583499669449, 'nthread': 4, 'min_child_weight': 15, 'n_estimators': 143, 'subsample': 0.9129313733130073, 'seed': 11, 'objective': 'binary:logistic', 'max_depth': 4}\n",
      "Score:  -0.54937449062\n",
      "Training with params : \n",
      "{'reg_alpha': 2.301582005966676, 'colsample_bytree': 0.9385782109742167, 'learning_rate': 0.09767787517824823, 'nthread': 4, 'min_child_weight': 19, 'n_estimators': 58, 'subsample': 0.5538892645313344, 'seed': 11, 'objective': 'binary:logistic', 'max_depth': 1}\n",
      "Score:  -0.55732269522\n",
      "Training with params : \n",
      "{'reg_alpha': 2.8310301159623363, 'colsample_bytree': 0.7403993736421087, 'learning_rate': 0.0005725979241092138, 'nthread': 4, 'min_child_weight': 19, 'n_estimators': 75, 'subsample': 0.5164036039025361, 'seed': 11, 'objective': 'binary:logistic', 'max_depth': 4}\n",
      "Score:  -0.683214014556\n",
      "Training with params : \n",
      "{'reg_alpha': 2.103621365755055, 'colsample_bytree': 0.9484822785913665, 'learning_rate': 0.8986689264459403, 'nthread': 4, 'min_child_weight': 11, 'n_estimators': 104, 'subsample': 0.7033080563152061, 'seed': 11, 'objective': 'binary:logistic', 'max_depth': 3}\n",
      "Score:  -0.555114094779\n",
      "Training with params : \n",
      "{'reg_alpha': 2.670992023674211, 'colsample_bytree': 0.5523925886679474, 'learning_rate': 0.14746231093720708, 'nthread': 4, 'min_child_weight': 16, 'n_estimators': 53, 'subsample': 0.7709769585938869, 'seed': 11, 'objective': 'binary:logistic', 'max_depth': 2}\n",
      "Score:  -0.543317244199\n",
      "Training with params : \n",
      "{'reg_alpha': 2.439843569196919, 'colsample_bytree': 0.9859126627234065, 'learning_rate': 0.3528749989652842, 'nthread': 4, 'min_child_weight': 12, 'n_estimators': 91, 'subsample': 0.45950195327530197, 'seed': 11, 'objective': 'binary:logistic', 'max_depth': 4}\n",
      "Score:  -0.545773048981\n",
      "Training with params : \n",
      "{'reg_alpha': 1.9552493978008219, 'colsample_bytree': 0.44695208771455125, 'learning_rate': 0.5341617529885715, 'nthread': 4, 'min_child_weight': 17, 'n_estimators': 90, 'subsample': 0.7367842609367877, 'seed': 11, 'objective': 'binary:logistic', 'max_depth': 5}\n",
      "Score:  -0.553228811246\n",
      "Training with params : \n",
      "{'reg_alpha': 2.371933600532143, 'colsample_bytree': 0.49180124170933504, 'learning_rate': 0.20282422270445233, 'nthread': 4, 'min_child_weight': 13, 'n_estimators': 74, 'subsample': 0.6535243234783414, 'seed': 11, 'objective': 'binary:logistic', 'max_depth': 4}\n",
      "Score:  -0.539809003818\n",
      "Training with params : \n",
      "{'reg_alpha': 2.5559719157826937, 'colsample_bytree': 0.8585276726582715, 'learning_rate': 0.37713806689210905, 'nthread': 4, 'min_child_weight': 19, 'n_estimators': 73, 'subsample': 0.8732593948655162, 'seed': 11, 'objective': 'binary:logistic', 'max_depth': 4}\n",
      "Score:  -0.542794442156\n",
      "Training with params : \n",
      "{'reg_alpha': 1.8117837084645658, 'colsample_bytree': 0.8849590139915727, 'learning_rate': 0.6066536988521419, 'nthread': 4, 'min_child_weight': 15, 'n_estimators': 148, 'subsample': 0.6797199072197418, 'seed': 11, 'objective': 'binary:logistic', 'max_depth': 6}\n",
      "Score:  -0.587955289916\n",
      "Training with params : \n",
      "{'reg_alpha': 2.0563452154221644, 'colsample_bytree': 0.962321542880645, 'learning_rate': 0.04804261194856831, 'nthread': 4, 'min_child_weight': 14, 'n_estimators': 79, 'subsample': 0.6310985640094862, 'seed': 11, 'objective': 'binary:logistic', 'max_depth': 1}\n",
      "Score:  -0.565046234326\n",
      "Training with params : \n",
      "{'reg_alpha': 2.194443125931633, 'colsample_bytree': 0.7891633361068575, 'learning_rate': 0.032799091670294794, 'nthread': 4, 'min_child_weight': 19, 'n_estimators': 52, 'subsample': 0.8267217139669802, 'seed': 11, 'objective': 'binary:logistic', 'max_depth': 4}\n",
      "Score:  -0.553257853407\n",
      "Training with params : \n",
      "{'reg_alpha': 2.795516062010604, 'colsample_bytree': 0.9294413527403161, 'learning_rate': 0.22346891458884474, 'nthread': 4, 'min_child_weight': 11, 'n_estimators': 88, 'subsample': 0.3222701818645597, 'seed': 11, 'objective': 'binary:logistic', 'max_depth': 3}\n",
      "Score:  -0.54039325142\n",
      "Training with params : \n",
      "{'reg_alpha': 2.245582278683443, 'colsample_bytree': 0.7261000040300889, 'learning_rate': 0.1748540246975952, 'nthread': 4, 'min_child_weight': 18, 'n_estimators': 100, 'subsample': 0.2921133462420227, 'seed': 11, 'objective': 'binary:logistic', 'max_depth': 2}\n",
      "Score:  -0.540897732969\n",
      "Training with params : \n",
      "{'reg_alpha': 2.41424374783404, 'colsample_bytree': 0.7616913570480028, 'learning_rate': 0.0671086307714435, 'nthread': 4, 'min_child_weight': 14, 'n_estimators': 72, 'subsample': 0.5830565970821244, 'seed': 11, 'objective': 'binary:logistic', 'max_depth': 4}\n",
      "Score:  -0.539281000809\n",
      "Training with params : \n",
      "{'reg_alpha': 2.9979977008870855, 'colsample_bytree': 0.6344267856858183, 'learning_rate': 0.10129420543339751, 'nthread': 4, 'min_child_weight': 19, 'n_estimators': 70, 'subsample': 0.49884248794438524, 'seed': 11, 'objective': 'binary:logistic', 'max_depth': 5}\n",
      "Score:  -0.538823435545\n",
      "Training with params : \n",
      "{'reg_alpha': 2.328807740249476, 'colsample_bytree': 0.8187916821973585, 'learning_rate': 0.13590995591128424, 'nthread': 4, 'min_child_weight': 16, 'n_estimators': 122, 'subsample': 0.4238103218054647, 'seed': 11, 'objective': 'binary:logistic', 'max_depth': 4}\n",
      "Score:  -0.539724473396\n",
      "Training with params : \n",
      "{'reg_alpha': 2.6117005578018535, 'colsample_bytree': 0.8433601186628082, 'learning_rate': 0.2546258136815601, 'nthread': 4, 'min_child_weight': 12, 'n_estimators': 63, 'subsample': 0.7152248858980013, 'seed': 11, 'objective': 'binary:logistic', 'max_depth': 6}\n",
      "Score:  -0.544682740236\n",
      "Training with params : \n",
      "{'reg_alpha': 1.9831334771597033, 'colsample_bytree': 0.7014688483905456, 'learning_rate': 0.7358599377950807, 'nthread': 4, 'min_child_weight': 13, 'n_estimators': 144, 'subsample': 0.5508044149689574, 'seed': 11, 'objective': 'binary:logistic', 'max_depth': 4}\n",
      "Score:  -0.57144596543\n",
      "Training with params : \n",
      "{'reg_alpha': 2.4626552815635185, 'colsample_bytree': 0.6626794710207786, 'learning_rate': 0.30804604971737526, 'nthread': 4, 'min_child_weight': 17, 'n_estimators': 141, 'subsample': 0.6892323111387548, 'seed': 11, 'objective': 'binary:logistic', 'max_depth': 1}\n",
      "Score:  -0.547765862541\n",
      "Training with params : \n",
      "{'reg_alpha': 2.8776572059346757, 'colsample_bytree': 0.9951523622183339, 'learning_rate': 0.4942323898125578, 'nthread': 4, 'min_child_weight': 19, 'n_estimators': 149, 'subsample': 0.7597244400852738, 'seed': 11, 'objective': 'binary:logistic', 'max_depth': 4}\n",
      "Score:  -0.551936349863\n",
      "Training with params : \n",
      "{'reg_alpha': 2.778581799369876, 'colsample_bytree': 0.8017180787478939, 'learning_rate': 0.3336445401061749, 'nthread': 4, 'min_child_weight': 14, 'n_estimators': 142, 'subsample': 0.4016105429130789, 'seed': 11, 'objective': 'binary:logistic', 'max_depth': 3}\n",
      "Score:  -0.544174196795\n",
      "Training with params : \n",
      "{'reg_alpha': 2.6600247284045357, 'colsample_bytree': 0.7524875675011402, 'learning_rate': 0.4412482611126308, 'nthread': 4, 'min_child_weight': 10, 'n_estimators': 135, 'subsample': 0.5264723034648793, 'seed': 11, 'objective': 'binary:logistic', 'max_depth': 4}\n",
      "Score:  -0.551979538712\n",
      "Training with params : \n",
      "{'reg_alpha': 1.7047938040772015, 'colsample_bytree': 0.9039913921676227, 'learning_rate': 0.19145314855573847, 'nthread': 4, 'min_child_weight': 15, 'n_estimators': 57, 'subsample': 0.7939410913666098, 'seed': 11, 'objective': 'binary:logistic', 'max_depth': 2}\n",
      "Score:  -0.541175661599\n",
      "Training with params : \n",
      "{'reg_alpha': 2.120923164360815, 'colsample_bytree': 0.8660363125752443, 'learning_rate': 0.40094867991036104, 'nthread': 4, 'min_child_weight': 19, 'n_estimators': 132, 'subsample': 0.921114192241506, 'seed': 11, 'objective': 'binary:logistic', 'max_depth': 4}\n",
      "Score:  -0.547183875319\n",
      "Training with params : \n",
      "{'reg_alpha': 2.7005000546054507, 'colsample_bytree': 0.5720357618354734, 'learning_rate': 0.5914654138754797, 'nthread': 4, 'min_child_weight': 18, 'n_estimators': 54, 'subsample': 0.3425662340778113, 'seed': 11, 'objective': 'binary:logistic', 'max_depth': 5}\n",
      "Score:  -0.560068371474\n",
      "Training with params : \n",
      "{'reg_alpha': 2.499570915502983, 'colsample_bytree': 0.9598546311751176, 'learning_rate': 0.0831854159958356, 'nthread': 4, 'min_child_weight': 14, 'n_estimators': 112, 'subsample': 0.9966789491081616, 'seed': 11, 'objective': 'binary:logistic', 'max_depth': 6}\n",
      "Score:  -0.539602678948\n",
      "Training with params : \n",
      "{'reg_alpha': 2.2921103724987284, 'colsample_bytree': 0.32418169701794336, 'learning_rate': 0.9967810959657435, 'nthread': 4, 'min_child_weight': 19, 'n_estimators': 139, 'subsample': 0.46423649017133845, 'seed': 11, 'objective': 'binary:logistic', 'max_depth': 4}\n",
      "Score:  -0.58257733634\n",
      "Training with params : \n",
      "{'reg_alpha': 2.375348894487181, 'colsample_bytree': 0.6066492735387424, 'learning_rate': 0.030466266232873275, 'nthread': 4, 'min_child_weight': 16, 'n_estimators': 109, 'subsample': 0.6098741643802476, 'seed': 11, 'objective': 'binary:logistic', 'max_depth': 4}\n",
      "Score:  -0.542666647158\n",
      "Training with params : \n",
      "{'reg_alpha': 1.9103398430301652, 'colsample_bytree': 0.5127346678610332, 'learning_rate': 0.6730647252383976, 'nthread': 4, 'min_child_weight': 11, 'n_estimators': 77, 'subsample': 0.49774582327190164, 'seed': 11, 'objective': 'binary:logistic', 'max_depth': 1}\n",
      "Score:  -0.548521456442\n",
      "Training with params : \n",
      "{'reg_alpha': 1.8639744717459463, 'colsample_bytree': 0.5345977309760919, 'learning_rate': 0.007723968443324139, 'nthread': 4, 'min_child_weight': 12, 'n_estimators': 61, 'subsample': 0.8994391136877018, 'seed': 11, 'objective': 'binary:logistic', 'max_depth': 3}\n",
      "Score:  -0.625342295346\n",
      "Training with params : \n",
      "{'reg_alpha': 2.553033005169536, 'colsample_bytree': 0.9987853728013644, 'learning_rate': 0.23183361228852262, 'nthread': 4, 'min_child_weight': 19, 'n_estimators': 95, 'subsample': 0.5706536907038706, 'seed': 11, 'objective': 'binary:logistic', 'max_depth': 4}\n",
      "Score:  -0.541613615957\n",
      "Training with params : \n",
      "{'reg_alpha': 2.171615301112075, 'colsample_bytree': 0.8303892277210057, 'learning_rate': 0.8528693753759973, 'nthread': 4, 'min_child_weight': 17, 'n_estimators': 115, 'subsample': 0.865271919296913, 'seed': 11, 'objective': 'binary:logistic', 'max_depth': 2}\n",
      "Score:  -0.54522665348\n",
      "Training with params : \n",
      "{'reg_alpha': 2.741912863067223, 'colsample_bytree': 0.9775548917752221, 'learning_rate': 0.28932624907452625, 'nthread': 4, 'min_child_weight': 14, 'n_estimators': 130, 'subsample': 0.23414254941106538, 'seed': 11, 'objective': 'binary:logistic', 'max_depth': 4}\n",
      "Score:  -0.548582591117\n",
      "Training with params : \n",
      "{'reg_alpha': 2.9274389023784546, 'colsample_bytree': 0.27972304377914753, 'learning_rate': 0.14676583257959921, 'nthread': 4, 'min_child_weight': 13, 'n_estimators': 101, 'subsample': 0.8385631504295553, 'seed': 11, 'objective': 'binary:logistic', 'max_depth': 5}\n",
      "Score:  -0.540199852624\n",
      "Training with params : \n",
      "{'reg_alpha': 2.602835146103545, 'colsample_bytree': 0.21513443804958843, 'learning_rate': 0.11926204264182007, 'nthread': 4, 'min_child_weight': 10, 'n_estimators': 138, 'subsample': 0.7359109173627475, 'seed': 11, 'objective': 'binary:logistic', 'max_depth': 6}\n",
      "Score:  -0.541693232277\n",
      "Training with params : \n",
      "{'reg_alpha': 1.7532294669684916, 'colsample_bytree': 0.9225117317033171, 'learning_rate': 0.26870402239919944, 'nthread': 4, 'min_child_weight': 15, 'n_estimators': 80, 'subsample': 0.8068450865164118, 'seed': 11, 'objective': 'binary:logistic', 'max_depth': 4}\n",
      "Score:  -0.541013060348\n",
      "Training with params : \n",
      "{'reg_alpha': 2.8586205982463744, 'colsample_bytree': 0.8886410745717241, 'learning_rate': 0.06861219287358948, 'nthread': 4, 'min_child_weight': 19, 'n_estimators': 125, 'subsample': 0.6532565107684105, 'seed': 11, 'objective': 'binary:logistic', 'max_depth': 4}\n",
      "Score:  -0.538640257673\n",
      "Training with params : \n",
      "{'reg_alpha': 2.8304312594179004, 'colsample_bytree': 0.8901129645728982, 'learning_rate': 0.05466738982529762, 'nthread': 4, 'min_child_weight': 19, 'n_estimators': 125, 'subsample': 0.940525183746389, 'seed': 11, 'objective': 'binary:logistic', 'max_depth': 1}\n",
      "Score:  -0.555610665812\n",
      "Training with params : \n",
      "{'reg_alpha': 2.866759109987758, 'colsample_bytree': 0.6874098477744167, 'learning_rate': 0.6298389346434419, 'nthread': 4, 'min_child_weight': 19, 'n_estimators': 87, 'subsample': 0.655513464856516, 'seed': 11, 'objective': 'binary:logistic', 'max_depth': 4}\n",
      "Score:  -0.550797647029\n",
      "Training with params : \n",
      "{'reg_alpha': 2.971036494921383, 'colsample_bytree': 0.9452543281021119, 'learning_rate': 0.07058992863219553, 'nthread': 4, 'min_child_weight': 19, 'n_estimators': 119, 'subsample': 0.7651979967855301, 'seed': 11, 'objective': 'binary:logistic', 'max_depth': 3}\n",
      "Score:  -0.539374437964\n",
      "Training with params : \n",
      "{'reg_alpha': 2.806677653954937, 'colsample_bytree': 0.8511025503045957, 'learning_rate': 0.0011447566273619786, 'nthread': 4, 'min_child_weight': 19, 'n_estimators': 102, 'subsample': 0.4395147844408597, 'seed': 11, 'objective': 'binary:logistic', 'max_depth': 2}\n",
      "Score:  -0.66998675923\n",
      "Training with params : \n",
      "{'reg_alpha': 2.9976939513747842, 'colsample_bytree': 0.40109959688105573, 'learning_rate': 0.35973112755662967, 'nthread': 4, 'min_child_weight': 19, 'n_estimators': 128, 'subsample': 0.7030700277476006, 'seed': 11, 'objective': 'binary:logistic', 'max_depth': 4}\n",
      "Score:  -0.545321313005\n",
      "Training with params : \n",
      "{'reg_alpha': 2.740912236470148, 'colsample_bytree': 0.7053599066341221, 'learning_rate': 0.20711180585932637, 'nthread': 4, 'min_child_weight': 19, 'n_estimators': 125, 'subsample': 0.9731127955450405, 'seed': 11, 'objective': 'binary:logistic', 'max_depth': 5}\n",
      "Score:  -0.542387811787\n",
      "Training with params : \n",
      "{'reg_alpha': 2.8968799080630308, 'colsample_bytree': 0.9689602170504737, 'learning_rate': 0.16307919912121432, 'nthread': 4, 'min_child_weight': 19, 'n_estimators': 131, 'subsample': 0.6333500407672141, 'seed': 11, 'objective': 'binary:logistic', 'max_depth': 4}\n",
      "Score:  -0.54069268754\n",
      "Training with params : \n",
      "{'reg_alpha': 2.6263180567653928, 'colsample_bytree': 0.2485730146575884, 'learning_rate': 0.9728891238553785, 'nthread': 4, 'min_child_weight': 18, 'n_estimators': 130, 'subsample': 0.7814490825928583, 'seed': 11, 'objective': 'binary:logistic', 'max_depth': 4}\n",
      "Score:  -0.563400355793\n",
      "Training with params : \n",
      "{'reg_alpha': 2.9694902002761037, 'colsample_bytree': 0.3680243394368626, 'learning_rate': 0.7770989367513259, 'nthread': 4, 'min_child_weight': 19, 'n_estimators': 134, 'subsample': 0.5908706757910996, 'seed': 11, 'objective': 'binary:logistic', 'max_depth': 6}\n",
      "Score:  -0.587268250239\n",
      "Training with params : \n",
      "{'reg_alpha': 2.692466692985963, 'colsample_bytree': 0.7892395922288195, 'learning_rate': 0.10550509809187773, 'nthread': 4, 'min_child_weight': 14, 'n_estimators': 71, 'subsample': 0.6647913016644894, 'seed': 11, 'objective': 'binary:logistic', 'max_depth': 4}\n",
      "Score:  -0.538564836838\n",
      "Training with params : \n",
      "{'reg_alpha': 2.7098339360247197, 'colsample_bytree': 0.7755837836233254, 'learning_rate': 0.1004872244450141, 'nthread': 4, 'min_child_weight': 11, 'n_estimators': 78, 'subsample': 0.6761529170842687, 'seed': 11, 'objective': 'binary:logistic', 'max_depth': 4}\n",
      "Score:  -0.53885948779\n",
      "Training with params : \n",
      "{'reg_alpha': 2.5805194366091753, 'colsample_bytree': 0.878445482485698, 'learning_rate': 0.020234151795165217, 'nthread': 4, 'min_child_weight': 14, 'n_estimators': 71, 'subsample': 0.7257801115672615, 'seed': 11, 'objective': 'binary:logistic', 'max_depth': 4}\n",
      "Score:  -0.558281693064\n",
      "Training with params : \n",
      "{'reg_alpha': 2.5206812762678585, 'colsample_bytree': 0.9213799612730821, 'learning_rate': 0.0448495199628018, 'nthread': 4, 'min_child_weight': 19, 'n_estimators': 64, 'subsample': 0.6143125696800334, 'seed': 11, 'objective': 'binary:logistic', 'max_depth': 4}\n",
      "Score:  -0.542595417075\n",
      "Training with params : \n",
      "{'reg_alpha': 2.64755639980798, 'colsample_bytree': 0.811044684580274, 'learning_rate': 0.12369415098761953, 'nthread': 4, 'min_child_weight': 16, 'n_estimators': 127, 'subsample': 0.6536233642441456, 'seed': 11, 'objective': 'binary:logistic', 'max_depth': 4}\n",
      "Score:  -0.539603779042\n",
      "Training with params : \n",
      "{'reg_alpha': 2.7758138933778738, 'colsample_bytree': 0.9082342092331351, 'learning_rate': 0.18184626317775354, 'nthread': 4, 'min_child_weight': 12, 'n_estimators': 71, 'subsample': 0.750107984572085, 'seed': 11, 'objective': 'binary:logistic', 'max_depth': 4}\n",
      "Score:  -0.539152518892\n",
      "Training with params : \n",
      "{'reg_alpha': 2.930297098708512, 'colsample_bytree': 0.7407685213668189, 'learning_rate': 0.1449723087153128, 'nthread': 4, 'min_child_weight': 17, 'n_estimators': 106, 'subsample': 0.5213834210056977, 'seed': 11, 'objective': 'binary:logistic', 'max_depth': 4}\n",
      "Score:  -0.539495742507\n",
      "Training with params : \n",
      "{'reg_alpha': 2.8456093769024293, 'colsample_bytree': 0.9326641294551188, 'learning_rate': 0.08484953766704775, 'nthread': 4, 'min_child_weight': 10, 'n_estimators': 114, 'subsample': 0.666704872389087, 'seed': 11, 'objective': 'binary:logistic', 'max_depth': 4}\n",
      "Score:  -0.538700563872\n",
      "Training with params : \n",
      "{'reg_alpha': 2.681025777792122, 'colsample_bytree': 0.8258035778069829, 'learning_rate': 0.10993392954145256, 'nthread': 4, 'min_child_weight': 13, 'n_estimators': 85, 'subsample': 0.8102509042493022, 'seed': 11, 'objective': 'binary:logistic', 'max_depth': 4}\n",
      "Score:  -0.538586061284\n",
      "Training with params : \n",
      "{'reg_alpha': 2.479240535685129, 'colsample_bytree': 0.8282163444086404, 'learning_rate': 0.2504238265980982, 'nthread': 4, 'min_child_weight': 13, 'n_estimators': 147, 'subsample': 0.8241749322622386, 'seed': 11, 'objective': 'binary:logistic', 'max_depth': 4}\n",
      "Score:  -0.543109649922\n",
      "Training with params : \n",
      "{'reg_alpha': 2.684282712691578, 'colsample_bytree': 0.7675748250368886, 'learning_rate': 0.0025468661064081966, 'nthread': 4, 'min_child_weight': 13, 'n_estimators': 118, 'subsample': 0.8722161472790595, 'seed': 11, 'objective': 'binary:logistic', 'max_depth': 4}\n",
      "Score:  -0.636121711703\n",
      "Training with params : \n",
      "{'reg_alpha': 2.4245743313649935, 'colsample_bytree': 0.7958159672355599, 'learning_rate': 0.21670016544343346, 'nthread': 4, 'min_child_weight': 13, 'n_estimators': 85, 'subsample': 0.8470455549632948, 'seed': 11, 'objective': 'binary:logistic', 'max_depth': 1}\n",
      "Score:  -0.548888361444\n",
      "Training with params : \n",
      "{'reg_alpha': 2.554520593644371, 'colsample_bytree': 0.6732718036006885, 'learning_rate': 0.16682067057022787, 'nthread': 4, 'min_child_weight': 13, 'n_estimators': 85, 'subsample': 0.6930153978341659, 'seed': 11, 'objective': 'binary:logistic', 'max_depth': 3}\n",
      "Score:  -0.539156162837\n",
      "Training with params : \n",
      "{'reg_alpha': 2.3253195394838775, 'colsample_bytree': 0.6237070085466718, 'learning_rate': 0.3022624342026635, 'nthread': 4, 'min_child_weight': 13, 'n_estimators': 113, 'subsample': 0.8078858442607362, 'seed': 11, 'objective': 'binary:logistic', 'max_depth': 4}\n",
      "Score:  -0.543253839645\n",
      "Training with params : \n",
      "{'reg_alpha': 2.3785559056972283, 'colsample_bytree': 0.8594318535454786, 'learning_rate': 0.1185490284776864, 'nthread': 4, 'min_child_weight': 13, 'n_estimators': 126, 'subsample': 0.9043369476683096, 'seed': 11, 'objective': 'binary:logistic', 'max_depth': 2}\n",
      "Score:  -0.540446929675\n",
      "Training with params : \n",
      "{'reg_alpha': 2.2164289827340973, 'colsample_bytree': 0.7268604460522542, 'learning_rate': 0.03159208839290359, 'nthread': 4, 'min_child_weight': 13, 'n_estimators': 98, 'subsample': 0.9433854635418741, 'seed': 11, 'objective': 'binary:logistic', 'max_depth': 4}\n",
      "Score:  -0.542603097016\n",
      "Training with params : \n",
      "{'reg_alpha': 2.755552504433545, 'colsample_bytree': 0.8411962703157512, 'learning_rate': 0.27290924288124924, 'nthread': 4, 'min_child_weight': 14, 'n_estimators': 89, 'subsample': 0.7735113238401425, 'seed': 11, 'objective': 'binary:logistic', 'max_depth': 5}\n",
      "Score:  -0.54389828288\n",
      "Training with params : \n",
      "{'reg_alpha': 2.4602665113135087, 'colsample_bytree': 0.7826612586299503, 'learning_rate': 0.18597385255129928, 'nthread': 4, 'min_child_weight': 15, 'n_estimators': 103, 'subsample': 0.7252745105229134, 'seed': 11, 'objective': 'binary:logistic', 'max_depth': 4}\n",
      "Score:  -0.540471090988\n",
      "Training with params : \n",
      "{'reg_alpha': 2.7970605220247107, 'colsample_bytree': 0.6469417003882219, 'learning_rate': 0.24091170816412205, 'nthread': 4, 'min_child_weight': 13, 'n_estimators': 65, 'subsample': 0.7542846153625025, 'seed': 11, 'objective': 'binary:logistic', 'max_depth': 6}\n",
      "Score:  -0.543279300605\n",
      "Training with params : \n",
      "{'reg_alpha': 2.5205644935534073, 'colsample_bytree': 0.8708969878027927, 'learning_rate': 0.42071471755348655, 'nthread': 4, 'min_child_weight': 18, 'n_estimators': 84, 'subsample': 0.5974229563368927, 'seed': 11, 'objective': 'binary:logistic', 'max_depth': 4}\n",
      "Score:  -0.545589769303\n",
      "Training with params : \n",
      "{'reg_alpha': 2.6538806886832647, 'colsample_bytree': 0.999988910020071, 'learning_rate': 0.057265191769028195, 'nthread': 4, 'min_child_weight': 11, 'n_estimators': 97, 'subsample': 0.7831323188472413, 'seed': 11, 'objective': 'binary:logistic', 'max_depth': 1}\n",
      "Score:  -0.558193120234\n",
      "Training with params : \n",
      "{'reg_alpha': 2.589166140881755, 'colsample_bytree': 0.7510444130684215, 'learning_rate': 0.017845905833067006, 'nthread': 4, 'min_child_weight': 14, 'n_estimators': 83, 'subsample': 0.8889729212910512, 'seed': 11, 'objective': 'binary:logistic', 'max_depth': 4}\n",
      "Score:  -0.558776087257\n",
      "Training with params : \n",
      "{'reg_alpha': 2.901417336212357, 'colsample_bytree': 0.9543610141872684, 'learning_rate': 0.32548164737533963, 'nthread': 4, 'min_child_weight': 16, 'n_estimators': 93, 'subsample': 0.538049825812581, 'seed': 11, 'objective': 'binary:logistic', 'max_depth': 3}\n",
      "Score:  -0.541956687226\n",
      "Training with params : \n",
      "{'reg_alpha': 2.700293360049821, 'colsample_bytree': 0.4732533989901678, 'learning_rate': 0.20444486139849638, 'nthread': 4, 'min_child_weight': 12, 'n_estimators': 62, 'subsample': 0.7137937112374011, 'seed': 11, 'objective': 'binary:logistic', 'max_depth': 4}\n",
      "Score:  -0.53977276744\n",
      "Training with params : \n",
      "{'reg_alpha': 2.414331626219415, 'colsample_bytree': 0.8104598145170555, 'learning_rate': 0.00011205078389291134, 'nthread': 4, 'min_child_weight': 17, 'n_estimators': 50, 'subsample': 0.6252676711753503, 'seed': 11, 'objective': 'binary:logistic', 'max_depth': 4}\n",
      "Score:  -0.691759858534\n",
      "Training with params : \n",
      "{'reg_alpha': 2.0675238075153293, 'colsample_bytree': 0.7115701795046431, 'learning_rate': 0.45861232382100314, 'nthread': 4, 'min_child_weight': 13, 'n_estimators': 99, 'subsample': 0.8141372459499536, 'seed': 11, 'objective': 'binary:logistic', 'max_depth': 2}\n",
      "Score:  -0.542014648623\n",
      "Training with params : \n",
      "{'reg_alpha': 1.5256737684209454, 'colsample_bytree': 0.8925744732986532, 'learning_rate': 0.10326446416305791, 'nthread': 4, 'min_child_weight': 10, 'n_estimators': 68, 'subsample': 0.740676619472285, 'seed': 11, 'objective': 'binary:logistic', 'max_depth': 5}\n",
      "Score:  -0.538899414307\n",
      "Training with params : \n",
      "{'reg_alpha': 2.272680154918571, 'colsample_bytree': 0.5884463399116892, 'learning_rate': 0.14831613693540757, 'nthread': 4, 'min_child_weight': 15, 'n_estimators': 110, 'subsample': 0.9800866629669692, 'seed': 11, 'objective': 'binary:logistic', 'max_depth': 6}\n",
      "Score:  -0.541072681628\n",
      "Training with params : \n",
      "{'reg_alpha': 2.994744328013513, 'colsample_bytree': 0.8297721930571973, 'learning_rate': 0.3411567005130179, 'nthread': 4, 'min_child_weight': 14, 'n_estimators': 116, 'subsample': 0.5697132225627128, 'seed': 11, 'objective': 'binary:logistic', 'max_depth': 4}\n",
      "Score:  -0.546210996331\n",
      "Training with params : \n",
      "{'reg_alpha': 2.6209536452137954, 'colsample_bytree': 0.9048488204232004, 'learning_rate': 0.3780662307178689, 'nthread': 4, 'min_child_weight': 18, 'n_estimators': 108, 'subsample': 0.6829408141175916, 'seed': 11, 'objective': 'binary:logistic', 'max_depth': 4}\n",
      "Score:  -0.546326012869\n",
      "Training with params : \n",
      "{'reg_alpha': 2.3396911238136684, 'colsample_bytree': 0.9779381180684523, 'learning_rate': 0.9201272349372837, 'nthread': 4, 'min_child_weight': 13, 'n_estimators': 129, 'subsample': 0.8572119908456828, 'seed': 11, 'objective': 'binary:logistic', 'max_depth': 1}\n",
      "Score:  -0.5483334043\n",
      "Training with params : \n",
      "{'reg_alpha': 2.817565450647688, 'colsample_bytree': 0.6630848440082935, 'learning_rate': 0.5361616956130677, 'nthread': 4, 'min_child_weight': 14, 'n_estimators': 136, 'subsample': 0.9570655202456151, 'seed': 11, 'objective': 'binary:logistic', 'max_depth': 4}\n",
      "Score:  -0.549961200241\n",
      "Training with params : \n",
      "{'reg_alpha': 2.488807387655048, 'colsample_bytree': 0.8480994139786353, 'learning_rate': 0.22845114011431128, 'nthread': 4, 'min_child_weight': 11, 'n_estimators': 92, 'subsample': 0.4790141059430828, 'seed': 11, 'objective': 'binary:logistic', 'max_depth': 3}\n",
      "Score:  -0.540256657375\n",
      "Training with params : \n",
      "{'reg_alpha': 2.952666991557713, 'colsample_bytree': 0.7983719329095559, 'learning_rate': 0.04348270445089087, 'nthread': 4, 'min_child_weight': 16, 'n_estimators': 56, 'subsample': 0.9183401993137703, 'seed': 11, 'objective': 'binary:logistic', 'max_depth': 2}\n",
      "Score:  -0.556504991371\n",
      "Training with params : \n",
      "{'reg_alpha': 2.5471124031146335, 'colsample_bytree': 0.6880886159496924, 'learning_rate': 0.12970896279665756, 'nthread': 4, 'min_child_weight': 12, 'n_estimators': 86, 'subsample': 0.7936008904826924, 'seed': 11, 'objective': 'binary:logistic', 'max_depth': 4}\n",
      "Score:  -0.538871441701\n",
      "Training with params : \n",
      "{'reg_alpha': 2.7300536621646065, 'colsample_bytree': 0.9400233877207822, 'learning_rate': 0.08223426680981137, 'nthread': 4, 'min_child_weight': 17, 'n_estimators': 130, 'subsample': 0.839839479047968, 'seed': 11, 'objective': 'binary:logistic', 'max_depth': 5}\n",
      "Score:  -0.539055141102\n",
      "Training with params : \n",
      "{'reg_alpha': 2.879667981325829, 'colsample_bytree': 0.8692497122371341, 'learning_rate': 0.16722479909542193, 'nthread': 4, 'min_child_weight': 10, 'n_estimators': 51, 'subsample': 0.6407346314093393, 'seed': 11, 'objective': 'binary:logistic', 'max_depth': 4}\n",
      "Score:  -0.539072031365\n",
      "Training with params : \n",
      "{'reg_alpha': 2.6803214395488517, 'colsample_bytree': 0.7623113903093566, 'learning_rate': 0.06897576471757902, 'nthread': 4, 'min_child_weight': 14, 'n_estimators': 133, 'subsample': 0.702113742707605, 'seed': 11, 'objective': 'binary:logistic', 'max_depth': 6}\n",
      "Score:  -0.539381419743\n",
      "Training with params : \n",
      "{'reg_alpha': 2.304684875285065, 'colsample_bytree': 0.7315238138958897, 'learning_rate': 0.10801023346512924, 'nthread': 4, 'min_child_weight': 15, 'n_estimators': 137, 'subsample': 0.8799676711858866, 'seed': 11, 'objective': 'binary:logistic', 'max_depth': 4}\n",
      "Score:  -0.53888883024\n",
      "Training with params : \n",
      "{'reg_alpha': 2.146192494793684, 'colsample_bytree': 0.9619549805283842, 'learning_rate': 0.19752191309179284, 'nthread': 4, 'min_child_weight': 13, 'n_estimators': 146, 'subsample': 0.5882182429513443, 'seed': 11, 'objective': 'binary:logistic', 'max_depth': 4}\n",
      "Score:  -0.542036478955\n",
      "Training with params : \n",
      "{'reg_alpha': 1.429163528280159, 'colsample_bytree': 0.9169240831339814, 'learning_rate': 0.2855966417946985, 'nthread': 4, 'min_child_weight': 19, 'n_estimators': 66, 'subsample': 0.5009833156229594, 'seed': 11, 'objective': 'binary:logistic', 'max_depth': 1}\n",
      "Score:  -0.548688992595\n",
      "Training with params : \n",
      "{'reg_alpha': 2.445049200107073, 'colsample_bytree': 0.8240426271112098, 'learning_rate': 0.031336003555471864, 'nthread': 4, 'min_child_weight': 19, 'n_estimators': 120, 'subsample': 0.8240796819785554, 'seed': 11, 'objective': 'binary:logistic', 'max_depth': 4}\n",
      "Score:  -0.540471385485\n",
      "Training with params : \n",
      "{'reg_alpha': 2.39128621409912, 'colsample_bytree': 0.4271368026281691, 'learning_rate': 0.25897920131241847, 'nthread': 4, 'min_child_weight': 18, 'n_estimators': 107, 'subsample': 0.6685583733790534, 'seed': 11, 'objective': 'binary:logistic', 'max_depth': 3}\n",
      "Score:  -0.540149358216\n",
      "Training with params : \n",
      "{'reg_alpha': 1.107289068777813, 'colsample_bytree': 0.9869700286736989, 'learning_rate': 0.12915354958096542, 'nthread': 4, 'min_child_weight': 14, 'n_estimators': 71, 'subsample': 0.7583925904201321, 'seed': 11, 'objective': 'binary:logistic', 'max_depth': 2}\n",
      "Score:  -0.541452056502\n",
      "Training with params : \n",
      "{'reg_alpha': 2.580849010258907, 'colsample_bytree': 0.7828048663166064, 'learning_rate': 0.08390574183732093, 'nthread': 4, 'min_child_weight': 11, 'n_estimators': 140, 'subsample': 0.559585554409523, 'seed': 11, 'objective': 'binary:logistic', 'max_depth': 4}\n",
      "Score:  -0.538792665481\n",
      "Training with params : \n",
      "{'reg_alpha': 2.7621181307439118, 'colsample_bytree': 0.6253034496369324, 'learning_rate': 0.00085102195661034, 'nthread': 4, 'min_child_weight': 13, 'n_estimators': 143, 'subsample': 0.6173970025406745, 'seed': 11, 'objective': 'binary:logistic', 'max_depth': 4}\n",
      "Score:  -0.668190374974\n",
      "Training with params : \n",
      "{'reg_alpha': 2.644218197006683, 'colsample_bytree': 0.5616067597602252, 'learning_rate': 0.15949923865145327, 'nthread': 4, 'min_child_weight': 16, 'n_estimators': 124, 'subsample': 0.7234669159969831, 'seed': 11, 'objective': 'binary:logistic', 'max_depth': 5}\n",
      "Score:  -0.541147791676\n",
      "Training with params : \n",
      "{'reg_alpha': 2.0308541837388234, 'colsample_bytree': 0.876997468081579, 'learning_rate': 0.05169478667608773, 'nthread': 4, 'min_child_weight': 19, 'n_estimators': 55, 'subsample': 0.8028290897054953, 'seed': 11, 'objective': 'binary:logistic', 'max_depth': 6}\n",
      "Score:  -0.540660367036\n",
      "Training with params : \n",
      "{'reg_alpha': 2.9089075846244996, 'colsample_bytree': 0.7457159743705593, 'learning_rate': 0.5129949529776836, 'nthread': 4, 'min_child_weight': 17, 'n_estimators': 76, 'subsample': 0.9342303712772355, 'seed': 11, 'objective': 'binary:logistic', 'max_depth': 4}\n",
      "Score:  -0.545362591399\n",
      "Training with params : \n",
      "{'reg_alpha': 2.513459004647068, 'colsample_bytree': 0.9270021325394466, 'learning_rate': 0.3112348088390914, 'nthread': 4, 'min_child_weight': 12, 'n_estimators': 85, 'subsample': 0.6900384302717648, 'seed': 11, 'objective': 'binary:logistic', 'max_depth': 4}\n",
      "Score:  -0.542914452228\n",
      "Training with params : \n",
      "{'reg_alpha': 2.2107270884496124, 'colsample_bytree': 0.8457600923588229, 'learning_rate': 0.7054710526944019, 'nthread': 4, 'min_child_weight': 10, 'n_estimators': 111, 'subsample': 0.8987803214257706, 'seed': 11, 'objective': 'binary:logistic', 'max_depth': 1}\n",
      "Score:  -0.548099547818\n",
      "Training with params : \n",
      "{'reg_alpha': 2.84726514114005, 'colsample_bytree': 0.9982843338738994, 'learning_rate': 0.22152205039214773, 'nthread': 4, 'min_child_weight': 19, 'n_estimators': 69, 'subsample': 0.6393458799845766, 'seed': 11, 'objective': 'binary:logistic', 'max_depth': 4}\n",
      "Score:  -0.539892381808\n",
      "Training with params : \n",
      "{'reg_alpha': 2.3651275350664243, 'colsample_bytree': 0.7175196180893527, 'learning_rate': 0.5679342704360539, 'nthread': 4, 'min_child_weight': 14, 'n_estimators': 121, 'subsample': 0.9952227235597212, 'seed': 11, 'objective': 'binary:logistic', 'max_depth': 3}\n",
      "Score:  -0.544846009596\n",
      "Training with params : \n",
      "{'reg_alpha': 2.7938337009425314, 'colsample_bytree': 0.8072684118288451, 'learning_rate': 0.3982862688277482, 'nthread': 4, 'min_child_weight': 15, 'n_estimators': 123, 'subsample': 0.5372913241676445, 'seed': 11, 'objective': 'binary:logistic', 'max_depth': 4}\n",
      "Score:  -0.548427858128\n",
      "Training with params : \n",
      "{'reg_alpha': 2.7231284759160226, 'colsample_bytree': 0.9561215611200123, 'learning_rate': 0.1865377239452953, 'nthread': 4, 'min_child_weight': 13, 'n_estimators': 145, 'subsample': 0.7768109599088728, 'seed': 11, 'objective': 'binary:logistic', 'max_depth': 2}\n",
      "Score:  -0.539928450823\n",
      "Training with params : \n",
      "{'reg_alpha': 2.1040847368949214, 'colsample_bytree': 0.8901322999442841, 'learning_rate': 0.6716672111651368, 'nthread': 4, 'min_child_weight': 19, 'n_estimators': 59, 'subsample': 0.7432756029669072, 'seed': 11, 'objective': 'binary:logistic', 'max_depth': 4}\n",
      "Score:  -0.550122458691\n",
      "Training with params : \n",
      "{'reg_alpha': 1.6280697829448576, 'colsample_bytree': 0.7019743997645531, 'learning_rate': 0.10344638079161438, 'nthread': 4, 'min_child_weight': 18, 'n_estimators': 67, 'subsample': 0.5966428989645944, 'seed': 11, 'objective': 'binary:logistic', 'max_depth': 5}\n",
      "Score:  -0.538695801307\n",
      "Training with params : \n",
      "{'reg_alpha': 2.242962417222548, 'colsample_bytree': 0.9075785485957424, 'learning_rate': 0.4832028487054144, 'nthread': 4, 'min_child_weight': 14, 'n_estimators': 82, 'subsample': 0.7063587241706952, 'seed': 11, 'objective': 'binary:logistic', 'max_depth': 4}\n",
      "Score:  -0.54771903982\n",
      "Training with params : \n",
      "{'reg_alpha': 2.614808549636537, 'colsample_bytree': 0.8594696041723018, 'learning_rate': 0.13688040082428682, 'nthread': 4, 'min_child_weight': 13, 'n_estimators': 53, 'subsample': 0.3818499500464508, 'seed': 11, 'objective': 'binary:logistic', 'max_depth': 6}\n",
      "Score:  -0.540106759782\n",
      "Training with params : \n",
      "{'reg_alpha': 2.681457815055162, 'colsample_bytree': 0.7710251565443598, 'learning_rate': 0.8491943248007715, 'nthread': 4, 'min_child_weight': 11, 'n_estimators': 75, 'subsample': 0.8647056868954561, 'seed': 11, 'objective': 'binary:logistic', 'max_depth': 4}\n",
      "Score:  -0.556063165043\n",
      "Training with params : \n",
      "{'reg_alpha': 1.8252498549954232, 'colsample_bytree': 0.5982904235515502, 'learning_rate': 0.017344216854620696, 'nthread': 4, 'min_child_weight': 19, 'n_estimators': 95, 'subsample': 0.673901010251616, 'seed': 11, 'objective': 'binary:logistic', 'max_depth': 1}\n",
      "Score:  -0.591410232536\n",
      "Training with params : \n",
      "{'reg_alpha': 1.3278795657161706, 'colsample_bytree': 0.9418047351718851, 'learning_rate': 0.2459358092068118, 'nthread': 4, 'min_child_weight': 16, 'n_estimators': 73, 'subsample': 0.8466437485275387, 'seed': 11, 'objective': 'binary:logistic', 'max_depth': 4}\n",
      "Score:  -0.540408240808\n",
      "Training with params : \n",
      "{'reg_alpha': 1.0058566087792167, 'colsample_bytree': 0.6738596335516265, 'learning_rate': 0.3553081741115175, 'nthread': 4, 'min_child_weight': 12, 'n_estimators': 105, 'subsample': 0.4206904956972072, 'seed': 11, 'objective': 'binary:logistic', 'max_depth': 3}\n",
      "Score:  -0.543916017455\n",
      "Training with params : \n",
      "{'reg_alpha': 2.5545330162590614, 'colsample_bytree': 0.7931550922983849, 'learning_rate': 0.15289437266619366, 'nthread': 4, 'min_child_weight': 17, 'n_estimators': 81, 'subsample': 0.4474278254083414, 'seed': 11, 'objective': 'binary:logistic', 'max_depth': 4}\n",
      "Score:  -0.539437160274\n",
      "Training with params : \n",
      "{'reg_alpha': 2.178479961820136, 'colsample_bytree': 0.8229141908968015, 'learning_rate': 0.033141428799752064, 'nthread': 4, 'min_child_weight': 10, 'n_estimators': 148, 'subsample': 0.5721336341867018, 'seed': 11, 'objective': 'binary:logistic', 'max_depth': 2}\n",
      "Score:  -0.54552951752\n",
      "Training with params : \n",
      "{'reg_alpha': 2.4646593571403947, 'colsample_bytree': 0.8367964580419927, 'learning_rate': 0.06779842434521237, 'nthread': 4, 'min_child_weight': 19, 'n_estimators': 94, 'subsample': 0.6090121934696626, 'seed': 11, 'objective': 'binary:logistic', 'max_depth': 4}\n",
      "Score:  -0.538718609969\n",
      "Training with params : \n",
      "{'reg_alpha': 2.997897668137166, 'colsample_bytree': 0.7290152476492266, 'learning_rate': 0.09527370072535647, 'nthread': 4, 'min_child_weight': 14, 'n_estimators': 104, 'subsample': 0.7345692740462137, 'seed': 11, 'objective': 'binary:logistic', 'max_depth': 5}\n",
      "Score:  -0.538930741173\n",
      "Training with params : \n",
      "{'reg_alpha': 2.9373055756979465, 'colsample_bytree': 0.9743338161912429, 'learning_rate': 0.27799084895001425, 'nthread': 4, 'min_child_weight': 13, 'n_estimators': 117, 'subsample': 0.1792172959141714, 'seed': 11, 'objective': 'binary:logistic', 'max_depth': 6}\n",
      "Score:  -0.560191268053\n",
      "Training with params : \n",
      "{'reg_alpha': 2.8151885865151547, 'colsample_bytree': 0.6415471438459193, 'learning_rate': 0.20383281904405864, 'nthread': 4, 'min_child_weight': 15, 'n_estimators': 74, 'subsample': 0.791165810721275, 'seed': 11, 'objective': 'binary:logistic', 'max_depth': 4}\n",
      "Score:  -0.539561110027\n",
      "Training with params : \n",
      "{'reg_alpha': 1.9847115945537463, 'colsample_bytree': 0.9232998775955683, 'learning_rate': 0.11971028440488236, 'nthread': 4, 'min_child_weight': 19, 'n_estimators': 91, 'subsample': 0.829641569266833, 'seed': 11, 'objective': 'binary:logistic', 'max_depth': 4}\n",
      "Score:  -0.538833703591\n",
      "Training with params : \n",
      "{'reg_alpha': 2.867171643734671, 'colsample_bytree': 0.49576763303801147, 'learning_rate': 0.17614574336256456, 'nthread': 4, 'min_child_weight': 18, 'n_estimators': 130, 'subsample': 0.6551325240800734, 'seed': 11, 'objective': 'binary:logistic', 'max_depth': 1}\n",
      "Score:  -0.548520577562\n",
      "Training with params : \n",
      "{'reg_alpha': 2.42881298034095, 'colsample_bytree': 0.8651851227901789, 'learning_rate': 0.015866270972020494, 'nthread': 4, 'min_child_weight': 14, 'n_estimators': 58, 'subsample': 0.05119027528180642, 'seed': 11, 'objective': 'binary:logistic', 'max_depth': 4}\n",
      "Score:  -0.581389333982\n",
      "Training with params : \n",
      "{'reg_alpha': 2.5229786834819086, 'colsample_bytree': 0.8958781776085551, 'learning_rate': 0.43906662468052965, 'nthread': 4, 'min_child_weight': 13, 'n_estimators': 90, 'subsample': 0.5083281453915914, 'seed': 11, 'objective': 'binary:logistic', 'max_depth': 3}\n",
      "Score:  -0.544486444997\n",
      "Training with params : \n",
      "{'reg_alpha': 2.2953222892905334, 'colsample_bytree': 0.7629791716924694, 'learning_rate': 0.05394237518020015, 'nthread': 4, 'min_child_weight': 11, 'n_estimators': 88, 'subsample': 0.7594566824552914, 'seed': 11, 'objective': 'binary:logistic', 'max_depth': 4}\n",
      "Score:  -0.539332539842\n",
      "Training with params : \n",
      "{'reg_alpha': 2.7607480067328813, 'colsample_bytree': 0.98370671111509, 'learning_rate': 0.3255440423399935, 'nthread': 4, 'min_child_weight': 19, 'n_estimators': 79, 'subsample': 0.9565710774881264, 'seed': 11, 'objective': 'binary:logistic', 'max_depth': 2}\n",
      "Score:  -0.540006998902\n",
      "Training with params : \n",
      "{'reg_alpha': 2.650471067416836, 'colsample_bytree': 0.8120256451619239, 'learning_rate': 0.7519400425421892, 'nthread': 4, 'min_child_weight': 16, 'n_estimators': 100, 'subsample': 0.6370518629487976, 'seed': 11, 'objective': 'binary:logistic', 'max_depth': 4}\n",
      "Score:  -0.561285190874\n",
      "Training with params : \n",
      "{'reg_alpha': 2.582730285514991, 'colsample_bytree': 0.5205827072154935, 'learning_rate': 0.2240398942714096, 'nthread': 4, 'min_child_weight': 12, 'n_estimators': 141, 'subsample': 0.4686037615205398, 'seed': 11, 'objective': 'binary:logistic', 'max_depth': 5}\n",
      "Score:  -0.546780666182\n",
      "Training with params : \n",
      "{'reg_alpha': 2.339153086973283, 'colsample_bytree': 0.5780271547938571, 'learning_rate': 0.2625534858978089, 'nthread': 4, 'min_child_weight': 17, 'n_estimators': 144, 'subsample': 0.5505352981251774, 'seed': 11, 'objective': 'binary:logistic', 'max_depth': 4}\n",
      "Score:  -0.544753238791\n",
      "Training with params : \n",
      "{'reg_alpha': 2.7117624351230787, 'colsample_bytree': 0.5389574471837902, 'learning_rate': 0.0028865381569849052, 'nthread': 4, 'min_child_weight': 19, 'n_estimators': 149, 'subsample': 0.8800131898215007, 'seed': 11, 'objective': 'binary:logistic', 'max_depth': 6}\n",
      "Score:  -0.623505550031\n",
      "Training with params : \n",
      "{'reg_alpha': 2.9608403259019447, 'colsample_bytree': 0.693574254615602, 'learning_rate': 0.2985376447986473, 'nthread': 4, 'min_child_weight': 14, 'n_estimators': 122, 'subsample': 0.712476917073381, 'seed': 11, 'objective': 'binary:logistic', 'max_depth': 4}\n",
      "Score:  -0.543899280893\n",
      "Training with params : \n",
      "{'reg_alpha': 2.39789335276442, 'colsample_bytree': 0.7535372234649889, 'learning_rate': 0.8094397999341869, 'nthread': 4, 'min_child_weight': 10, 'n_estimators': 54, 'subsample': 0.27551830880734396, 'seed': 11, 'objective': 'binary:logistic', 'max_depth': 1}\n",
      "Score:  -0.550046306536\n",
      "Training with params : \n",
      "{'reg_alpha': 2.489773442075936, 'colsample_bytree': 0.8794907164196922, 'learning_rate': 0.08122680700868357, 'nthread': 4, 'min_child_weight': 13, 'n_estimators': 63, 'subsample': 0.77627837987328, 'seed': 11, 'objective': 'binary:logistic', 'max_depth': 4}\n",
      "Score:  -0.539263756446\n",
      "Training with params : \n",
      "{'reg_alpha': 2.9161899099279296, 'colsample_bytree': 0.7824192063578859, 'learning_rate': 0.14897129064423686, 'nthread': 4, 'min_child_weight': 15, 'n_estimators': 72, 'subsample': 0.49009087172470905, 'seed': 11, 'objective': 'binary:logistic', 'max_depth': 3}\n",
      "Score:  -0.539412791903\n",
      "Training with params : \n",
      "{'reg_alpha': 2.6070889360650185, 'colsample_bytree': 0.9416068056829525, 'learning_rate': 0.17568539206539144, 'nthread': 4, 'min_child_weight': 19, 'n_estimators': 142, 'subsample': 0.6859762021686054, 'seed': 11, 'objective': 'binary:logistic', 'max_depth': 4}\n",
      "Score:  -0.541076415381\n",
      "Training with params : \n",
      "{'reg_alpha': 2.835520524571148, 'colsample_bytree': 0.9647965097135126, 'learning_rate': 0.05276908711713671, 'nthread': 4, 'min_child_weight': 14, 'n_estimators': 130, 'subsample': 0.8129772207701085, 'seed': 11, 'objective': 'binary:logistic', 'max_depth': 2}\n",
      "Score:  -0.543227897547\n",
      "Training with params : \n",
      "{'reg_alpha': 1.5869014101168248, 'colsample_bytree': 0.3004402362519121, 'learning_rate': 0.10708039254079305, 'nthread': 4, 'min_child_weight': 18, 'n_estimators': 52, 'subsample': 0.36433888111847373, 'seed': 11, 'objective': 'binary:logistic', 'max_depth': 4}\n",
      "Score:  -0.543937887129\n",
      "Training with params : \n",
      "{'reg_alpha': 2.6713465544668296, 'colsample_bytree': 0.8435961967379509, 'learning_rate': 8.323464321359497e-05, 'nthread': 4, 'min_child_weight': 13, 'n_estimators': 139, 'subsample': 0.9337672611633268, 'seed': 11, 'objective': 'binary:logistic', 'max_depth': 5}\n",
      "Score:  -0.690213741189\n",
      "Training with params : \n",
      "{'reg_alpha': 2.7623546651868565, 'colsample_bytree': 0.9986506099543487, 'learning_rate': 0.2352402104973167, 'nthread': 4, 'min_child_weight': 11, 'n_estimators': 132, 'subsample': 0.5307044364065532, 'seed': 11, 'objective': 'binary:logistic', 'max_depth': 4}\n",
      "Score:  -0.543830001804\n",
      "Training with params : \n",
      "{'reg_alpha': 2.257200103027792, 'colsample_bytree': 0.9155320995647793, 'learning_rate': 0.3730591116561542, 'nthread': 4, 'min_child_weight': 19, 'n_estimators': 119, 'subsample': 0.5764055502753966, 'seed': 11, 'objective': 'binary:logistic', 'max_depth': 6}\n",
      "Score:  -0.559203788539\n",
      "Training with params : \n",
      "{'reg_alpha': 1.6812120937859536, 'colsample_bytree': 0.7360331403329958, 'learning_rate': 0.1970769828554252, 'nthread': 4, 'min_child_weight': 17, 'n_estimators': 135, 'subsample': 0.6152734258928739, 'seed': 11, 'objective': 'binary:logistic', 'max_depth': 4}\n",
      "Score:  -0.542066162543\n",
      "Training with params : \n",
      "{'reg_alpha': 1.225130082030383, 'colsample_bytree': 0.6091973513212686, 'learning_rate': 0.027332865618510643, 'nthread': 4, 'min_child_weight': 16, 'n_estimators': 70, 'subsample': 0.9014631523565846, 'seed': 11, 'objective': 'binary:logistic', 'max_depth': 1}\n",
      "Score:  -0.586007588935\n",
      "Training with params : \n",
      "{'reg_alpha': 2.5539115071705134, 'colsample_bytree': 0.7948635316010528, 'learning_rate': 0.4124883381843113, 'nthread': 4, 'min_child_weight': 12, 'n_estimators': 71, 'subsample': 0.7284931617866091, 'seed': 11, 'objective': 'binary:logistic', 'max_depth': 4}\n",
      "Score:  -0.544331428287\n",
      "Training with params : \n",
      "{'reg_alpha': 1.7889592454968373, 'colsample_bytree': 0.6489538409758652, 'learning_rate': 0.13444420650516326, 'nthread': 4, 'min_child_weight': 10, 'n_estimators': 113, 'subsample': 0.6649372506833429, 'seed': 11, 'objective': 'binary:logistic', 'max_depth': 3}\n",
      "Score:  -0.539068279656\n",
      "Training with params : \n",
      "{'reg_alpha': 2.454987889614196, 'colsample_bytree': 0.9047673314251673, 'learning_rate': 0.34013150353269517, 'nthread': 4, 'min_child_weight': 19, 'n_estimators': 99, 'subsample': 0.6967486492987791, 'seed': 11, 'objective': 'binary:logistic', 'max_depth': 4}\n",
      "Score:  -0.54410150292\n",
      "Training with params : \n",
      "{'reg_alpha': 2.878483253457779, 'colsample_bytree': 0.8203383884149233, 'learning_rate': 0.6442683601638753, 'nthread': 4, 'min_child_weight': 14, 'n_estimators': 57, 'subsample': 0.7501664630766324, 'seed': 11, 'objective': 'binary:logistic', 'max_depth': 4}\n",
      "Score:  -0.549077688587\n",
      "Training with params : \n",
      "{'reg_alpha': 1.9239342066827074, 'colsample_bytree': 0.35148231838424304, 'learning_rate': 0.09079761626024156, 'nthread': 4, 'min_child_weight': 13, 'n_estimators': 60, 'subsample': 0.40261998778195796, 'seed': 11, 'objective': 'binary:logistic', 'max_depth': 2}\n",
      "Score:  -0.548732382344\n",
      "Training with params : \n",
      "{'reg_alpha': 2.9913508903512493, 'colsample_bytree': 0.8505792220617925, 'learning_rate': 0.0739008461226019, 'nthread': 4, 'min_child_weight': 15, 'n_estimators': 64, 'subsample': 0.9972216035830673, 'seed': 11, 'objective': 'binary:logistic', 'max_depth': 5}\n",
      "Score:  -0.538966378506\n",
      "Training with params : \n",
      "{'reg_alpha': 2.7998758521704215, 'colsample_bytree': 0.7115592590447292, 'learning_rate': 0.03700910260830525, 'nthread': 4, 'min_child_weight': 19, 'n_estimators': 112, 'subsample': 0.8390661815791405, 'seed': 11, 'objective': 'binary:logistic', 'max_depth': 4}\n",
      "Score:  -0.540099534132\n",
      "Training with params : \n",
      "{'reg_alpha': 2.724902677461207, 'colsample_bytree': 0.46278522106002506, 'learning_rate': 0.21239980783531687, 'nthread': 4, 'min_child_weight': 14, 'n_estimators': 138, 'subsample': 0.7990904298518086, 'seed': 11, 'objective': 'binary:logistic', 'max_depth': 6}\n",
      "Score:  -0.545244911946\n",
      "Training with params : \n",
      "{'reg_alpha': 2.347230140814683, 'colsample_bytree': 0.6637850472771849, 'learning_rate': 0.11351365411223766, 'nthread': 4, 'min_child_weight': 18, 'n_estimators': 109, 'subsample': 0.861377255566574, 'seed': 11, 'objective': 'binary:logistic', 'max_depth': 4}\n",
      "Score:  -0.538644841527\n",
      "Training with params : \n",
      "{'reg_alpha': 2.5010135061003007, 'colsample_bytree': 0.9568715886544457, 'learning_rate': 0.15617333973148217, 'nthread': 4, 'min_child_weight': 13, 'n_estimators': 96, 'subsample': 0.6349451559775607, 'seed': 11, 'objective': 'binary:logistic', 'max_depth': 1}\n",
      "Score:  -0.549583477496\n",
      "Training with params : \n",
      "{'reg_alpha': 2.077875360707113, 'colsample_bytree': 0.9310906548157256, 'learning_rate': 0.2722774657142074, 'nthread': 4, 'min_child_weight': 11, 'n_estimators': 128, 'subsample': 0.11191479503520463, 'seed': 11, 'objective': 'binary:logistic', 'max_depth': 4}\n",
      "Score:  -0.554904295808\n",
      "Training with params : \n",
      "{'reg_alpha': 2.6325324810056534, 'colsample_bytree': 0.8785500089247072, 'learning_rate': 8.82356241915655e-05, 'nthread': 4, 'min_child_weight': 19, 'n_estimators': 85, 'subsample': 0.587874066635766, 'seed': 11, 'objective': 'binary:logistic', 'max_depth': 3}\n",
      "Score:  -0.69132395844\n",
      "Training with params : \n",
      "{'reg_alpha': 1.874285905297346, 'colsample_bytree': 0.6817154005958086, 'learning_rate': 0.5871280910683873, 'nthread': 4, 'min_child_weight': 16, 'n_estimators': 115, 'subsample': 0.9727534368382076, 'seed': 11, 'objective': 'binary:logistic', 'max_depth': 4}\n",
      "Score:  -0.550169750208\n",
      "Training with params : \n",
      "{'reg_alpha': 2.4005847577009485, 'colsample_bytree': 0.9986665995962329, 'learning_rate': 0.24844382564894438, 'nthread': 4, 'min_child_weight': 12, 'n_estimators': 101, 'subsample': 0.7763101516659758, 'seed': 11, 'objective': 'binary:logistic', 'max_depth': 2}\n",
      "Score:  -0.539972617486\n",
      "Training with params : \n",
      "{'reg_alpha': 2.9992691585337785, 'colsample_bytree': 0.8638033150357706, 'learning_rate': 0.17236237542320448, 'nthread': 4, 'min_child_weight': 17, 'n_estimators': 106, 'subsample': 0.8184623103122322, 'seed': 11, 'objective': 'binary:logistic', 'max_depth': 4}\n",
      "Score:  -0.540396088775\n",
      "Training with params : \n",
      "{'reg_alpha': 2.1399254518629878, 'colsample_bytree': 0.7767440002093763, 'learning_rate': 0.057662831385651786, 'nthread': 4, 'min_child_weight': 19, 'n_estimators': 127, 'subsample': 0.5529315488382847, 'seed': 11, 'objective': 'binary:logistic', 'max_depth': 5}\n",
      "Score:  -0.538738526155\n",
      "Training with params : \n",
      "{'reg_alpha': 2.6789890806243073, 'colsample_bytree': 0.8961557807292703, 'learning_rate': 0.2902915006812654, 'nthread': 4, 'min_child_weight': 10, 'n_estimators': 80, 'subsample': 0.31047627469300704, 'seed': 11, 'objective': 'binary:logistic', 'max_depth': 4}\n",
      "Score:  -0.544245110595\n",
      "Training with params : \n",
      "{'reg_alpha': 2.285973214892042, 'colsample_bytree': 0.8341333085661304, 'learning_rate': 0.5504873467179875, 'nthread': 4, 'min_child_weight': 14, 'n_estimators': 87, 'subsample': 0.7197615286283162, 'seed': 11, 'objective': 'binary:logistic', 'max_depth': 6}\n",
      "Score:  -0.56652921591\n",
      "Training with params : \n",
      "{'reg_alpha': 2.5840562189180694, 'colsample_bytree': 0.7399751393269747, 'learning_rate': 0.1385068639414812, 'nthread': 4, 'min_child_weight': 13, 'n_estimators': 78, 'subsample': 0.5186040145070588, 'seed': 11, 'objective': 'binary:logistic', 'max_depth': 4}\n",
      "Score:  -0.538746345364\n",
      "Training with params : \n",
      "{'reg_alpha': 2.91153571191997, 'colsample_bytree': 0.7995550732934813, 'learning_rate': 0.19444275172703052, 'nthread': 4, 'min_child_weight': 15, 'n_estimators': 126, 'subsample': 0.9165888999907067, 'seed': 11, 'objective': 'binary:logistic', 'max_depth': 4}\n",
      "Score:  -0.540523164372\n",
      "Training with params : \n",
      "{'reg_alpha': 2.779146190697981, 'colsample_bytree': 0.6292309419700082, 'learning_rate': 0.315536639054856, 'nthread': 4, 'min_child_weight': 19, 'n_estimators': 118, 'subsample': 0.6852198251621442, 'seed': 11, 'objective': 'binary:logistic', 'max_depth': 1}\n",
      "Score:  -0.547853937137\n",
      "Training with params : \n",
      "{'reg_alpha': 2.8432031545028416, 'colsample_bytree': 0.8947122406701733, 'learning_rate': 0.07547000831742193, 'nthread': 4, 'min_child_weight': 19, 'n_estimators': 125, 'subsample': 0.6590164633486921, 'seed': 11, 'objective': 'binary:logistic', 'max_depth': 4}\n",
      "Score:  -0.538618998751\n",
      "Training with params : \n",
      "{'reg_alpha': 2.849528608217581, 'colsample_bytree': 0.9741037372257997, 'learning_rate': 0.03437299940601634, 'nthread': 4, 'min_child_weight': 19, 'n_estimators': 125, 'subsample': 0.6597131291255719, 'seed': 11, 'objective': 'binary:logistic', 'max_depth': 4}\n",
      "Score:  -0.539622544491\n",
      "Training with params : \n",
      "{'reg_alpha': 2.722953391510818, 'colsample_bytree': 0.9427257868814566, 'learning_rate': 0.09089585264557937, 'nthread': 4, 'min_child_weight': 19, 'n_estimators': 61, 'subsample': 0.6091438116531753, 'seed': 11, 'objective': 'binary:logistic', 'max_depth': 4}\n",
      "Score:  -0.538959249879\n",
      "Training with params : \n",
      "{'reg_alpha': 2.958557873446992, 'colsample_bytree': 0.885733189033993, 'learning_rate': 0.11557271515247758, 'nthread': 4, 'min_child_weight': 19, 'n_estimators': 125, 'subsample': 0.7407821610046011, 'seed': 11, 'objective': 'binary:logistic', 'max_depth': 4}\n",
      "Score:  -0.53897949423\n",
      "Training with params : \n",
      "{'reg_alpha': 2.8125709367673073, 'colsample_bytree': 0.913818245469191, 'learning_rate': 0.06905574617173077, 'nthread': 4, 'min_child_weight': 19, 'n_estimators': 134, 'subsample': 0.6465149185565322, 'seed': 11, 'objective': 'binary:logistic', 'max_depth': 4}\n",
      "Score:  -0.5384472019\n",
      "Training with params : \n",
      "{'reg_alpha': 2.539477950063864, 'colsample_bytree': 0.9111485282577486, 'learning_rate': 0.013616926262750684, 'nthread': 4, 'min_child_weight': 19, 'n_estimators': 102, 'subsample': 0.7055483541436425, 'seed': 11, 'objective': 'binary:logistic', 'max_depth': 4}\n",
      "Score:  -0.559180035292\n",
      "Training with params : \n",
      "{'reg_alpha': 2.637478614661859, 'colsample_bytree': 0.9255781693690434, 'learning_rate': 0.055316831399075096, 'nthread': 4, 'min_child_weight': 19, 'n_estimators': 98, 'subsample': 0.6286857213819721, 'seed': 11, 'objective': 'binary:logistic', 'max_depth': 4}\n",
      "Score:  -0.538939435682\n",
      "Training with params : \n",
      "{'reg_alpha': 2.75041820248053, 'colsample_bytree': 0.8614012457845657, 'learning_rate': 0.12806878685759654, 'nthread': 4, 'min_child_weight': 19, 'n_estimators': 147, 'subsample': 0.5829133100311138, 'seed': 11, 'objective': 'binary:logistic', 'max_depth': 4}\n",
      "Score:  -0.539507378358\n",
      "Training with params : \n",
      "{'reg_alpha': 2.8871254845040046, 'colsample_bytree': 0.9482589478012524, 'learning_rate': 0.0016477446003707735, 'nthread': 4, 'min_child_weight': 19, 'n_estimators': 134, 'subsample': 0.7627349453179061, 'seed': 11, 'objective': 'binary:logistic', 'max_depth': 4}\n",
      "Score:  -0.646551562891\n",
      "Training with params : \n",
      "{'reg_alpha': 2.8059687768045865, 'colsample_bytree': 0.9834992454983023, 'learning_rate': 0.09812467296402037, 'nthread': 4, 'min_child_weight': 19, 'n_estimators': 134, 'subsample': 0.6439726447500174, 'seed': 11, 'objective': 'binary:logistic', 'max_depth': 4}\n",
      "Score:  -0.539047734442\n",
      "Training with params : \n",
      "{'reg_alpha': 2.6981209205778214, 'colsample_bytree': 0.8283491319548356, 'learning_rate': 0.03665907868230791, 'nthread': 4, 'min_child_weight': 19, 'n_estimators': 114, 'subsample': 0.6787104176057182, 'seed': 11, 'objective': 'binary:logistic', 'max_depth': 4}\n",
      "Score:  -0.539873958065\n",
      "Training with params : \n",
      "{'reg_alpha': 2.6080747342873245, 'colsample_bytree': 0.8536992001161868, 'learning_rate': 0.151641228874061, 'nthread': 4, 'min_child_weight': 18, 'n_estimators': 131, 'subsample': 0.7942544302572341, 'seed': 11, 'objective': 'binary:logistic', 'max_depth': 4}\n",
      "Score:  -0.540142375311\n",
      "Training with params : \n",
      "{'reg_alpha': 2.449112472460395, 'colsample_bytree': 0.8087716871549313, 'learning_rate': 0.18000934456645631, 'nthread': 4, 'min_child_weight': 14, 'n_estimators': 93, 'subsample': 0.5989200366961996, 'seed': 11, 'objective': 'binary:logistic', 'max_depth': 4}\n",
      "Score:  -0.540566461657\n",
      "Training with params : \n",
      "{'reg_alpha': 2.6620957011122917, 'colsample_bytree': 0.9647951415692746, 'learning_rate': 0.06946325636595463, 'nthread': 4, 'min_child_weight': 13, 'n_estimators': 62, 'subsample': 0.719293648665333, 'seed': 11, 'objective': 'binary:logistic', 'max_depth': 4}\n",
      "Score:  -0.539771098076\n",
      "Training with params : \n",
      "{'reg_alpha': 2.942226276941629, 'colsample_bytree': 0.7625594776877321, 'learning_rate': 0.019854611587185808, 'nthread': 4, 'min_child_weight': 19, 'n_estimators': 103, 'subsample': 0.741869393565855, 'seed': 11, 'objective': 'binary:logistic', 'max_depth': 4}\n",
      "Score:  -0.548941080097\n",
      "Training with params : \n",
      "{'reg_alpha': 2.498569289136632, 'colsample_bytree': 0.8803278101961816, 'learning_rate': 0.11263465445984369, 'nthread': 4, 'min_child_weight': 11, 'n_estimators': 134, 'subsample': 0.5334247046549614, 'seed': 11, 'objective': 'binary:logistic', 'max_depth': 3}\n",
      "Score:  -0.539258502384\n",
      "Training with params : \n",
      "{'reg_alpha': 2.7520449439750774, 'colsample_bytree': 0.9326624772792294, 'learning_rate': 0.21285775993964723, 'nthread': 4, 'min_child_weight': 16, 'n_estimators': 89, 'subsample': 0.6973316972546738, 'seed': 11, 'objective': 'binary:logistic', 'max_depth': 4}\n",
      "Score:  -0.540652454656\n",
      "Training with params : \n",
      "{'reg_alpha': 2.566105404574259, 'colsample_bytree': 0.9972277828130038, 'learning_rate': 0.16014333942273967, 'nthread': 4, 'min_child_weight': 12, 'n_estimators': 86, 'subsample': 0.46436237739002467, 'seed': 11, 'objective': 'binary:logistic', 'max_depth': 2}\n",
      "Score:  -0.540385956175\n",
      "Training with params : \n",
      "{'reg_alpha': 2.8140796108679527, 'colsample_bytree': 0.8358236357427814, 'learning_rate': 0.04469329599940971, 'nthread': 4, 'min_child_weight': 17, 'n_estimators': 130, 'subsample': 0.5671630321375755, 'seed': 11, 'objective': 'binary:logistic', 'max_depth': 4}\n",
      "Score:  -0.53871875081\n",
      "Training with params : \n",
      "{'reg_alpha': 2.999980460342992, 'colsample_bytree': 0.910078424037397, 'learning_rate': 0.13388782842410585, 'nthread': 4, 'min_child_weight': 19, 'n_estimators': 97, 'subsample': 0.8826689558350725, 'seed': 11, 'objective': 'binary:logistic', 'max_depth': 5}\n",
      "Score:  -0.53957403152\n",
      "Training with params : \n",
      "{'reg_alpha': 2.8846644188137014, 'colsample_bytree': 0.7862195216876093, 'learning_rate': 0.2320617918479005, 'nthread': 4, 'min_child_weight': 10, 'n_estimators': 84, 'subsample': 0.6199857222416595, 'seed': 11, 'objective': 'binary:logistic', 'max_depth': 4}\n",
      "Score:  -0.541101119548\n",
      "Training with params : \n",
      "{'reg_alpha': 2.60980012681611, 'colsample_bytree': 0.8165698255638754, 'learning_rate': 0.09308259048966712, 'nthread': 4, 'min_child_weight': 14, 'n_estimators': 65, 'subsample': 0.7685040619726127, 'seed': 11, 'objective': 'binary:logistic', 'max_depth': 6}\n",
      "Score:  -0.538957468496\n",
      "Training with params : \n",
      "{'reg_alpha': 2.7045753445406953, 'colsample_bytree': 0.8690378128814906, 'learning_rate': 0.07623539578967209, 'nthread': 4, 'min_child_weight': 13, 'n_estimators': 108, 'subsample': 0.8320482570181654, 'seed': 11, 'objective': 'binary:logistic', 'max_depth': 4}\n",
      "Score:  -0.538611718141\n",
      "Training with params : \n",
      "{'reg_alpha': 2.529373954392353, 'colsample_bytree': 0.7221026391403813, 'learning_rate': 0.18845617641997092, 'nthread': 4, 'min_child_weight': 19, 'n_estimators': 68, 'subsample': 0.4858819207436057, 'seed': 11, 'objective': 'binary:logistic', 'max_depth': 4}\n",
      "Score:  -0.539776468866\n",
      "Training with params : \n",
      "{'reg_alpha': 2.4203799730716904, 'colsample_bytree': 0.7515945389805015, 'learning_rate': 0.012595988749663, 'nthread': 4, 'min_child_weight': 15, 'n_estimators': 110, 'subsample': 0.5108327849341863, 'seed': 11, 'objective': 'binary:logistic', 'max_depth': 1}\n",
      "Score:  -0.59481323223\n",
      "Training with params : \n",
      "{'reg_alpha': 2.472882758246725, 'colsample_bytree': 0.9142802338897106, 'learning_rate': 0.0007057513705986257, 'nthread': 4, 'min_child_weight': 19, 'n_estimators': 116, 'subsample': 0.792321359701677, 'seed': 11, 'objective': 'binary:logistic', 'max_depth': 4}\n",
      "Score:  -0.673672492338\n",
      "Training with params : \n",
      "{'reg_alpha': 2.7827426432709177, 'colsample_bytree': 0.9616607595335153, 'learning_rate': 0.05367184342583396, 'nthread': 4, 'min_child_weight': 14, 'n_estimators': 66, 'subsample': 0.6731266004521894, 'seed': 11, 'objective': 'binary:logistic', 'max_depth': 3}\n",
      "Score:  -0.543669124018\n",
      "Training with params : \n",
      "{'reg_alpha': 2.3809094585403145, 'colsample_bytree': 0.9868415942431064, 'learning_rate': 0.25415610449880255, 'nthread': 4, 'min_child_weight': 18, 'n_estimators': 56, 'subsample': 0.6417943464440353, 'seed': 11, 'objective': 'binary:logistic', 'max_depth': 4}\n",
      "Score:  -0.540534110758\n",
      "Training with params : \n",
      "{'reg_alpha': 2.657237317508336, 'colsample_bytree': 0.8546593389914378, 'learning_rate': 0.12516475016302508, 'nthread': 4, 'min_child_weight': 13, 'n_estimators': 51, 'subsample': 0.7282026366380936, 'seed': 11, 'objective': 'binary:logistic', 'max_depth': 2}\n",
      "Score:  -0.54352254124\n",
      "Training with params : \n",
      "{'reg_alpha': 2.9278505919127826, 'colsample_bytree': 0.9487125953883255, 'learning_rate': 0.17144948193587534, 'nthread': 4, 'min_child_weight': 11, 'n_estimators': 71, 'subsample': 0.44281316361217116, 'seed': 11, 'objective': 'binary:logistic', 'max_depth': 4}\n",
      "Score:  -0.53981346543\n",
      "Training with params : \n",
      "{'reg_alpha': 2.3248532256940355, 'colsample_bytree': 0.928325758550966, 'learning_rate': 0.10555416217450769, 'nthread': 4, 'min_child_weight': 19, 'n_estimators': 85, 'subsample': 0.8594437437833493, 'seed': 11, 'objective': 'binary:logistic', 'max_depth': 5}\n",
      "Score:  -0.538664500856\n",
      "Training with params : \n",
      "{'reg_alpha': 2.854174900389192, 'colsample_bytree': 0.8038676093183424, 'learning_rate': 0.9251044022447611, 'nthread': 4, 'min_child_weight': 16, 'n_estimators': 50, 'subsample': 0.548965175300241, 'seed': 11, 'objective': 'binary:logistic', 'max_depth': 4}\n",
      "Score:  -0.56024527097\n",
      "Training with params : \n",
      "{'reg_alpha': 2.7372616227684894, 'colsample_bytree': 0.8970676108744611, 'learning_rate': 0.03157426094873894, 'nthread': 4, 'min_child_weight': 17, 'n_estimators': 83, 'subsample': 0.816843475060048, 'seed': 11, 'objective': 'binary:logistic', 'max_depth': 6}\n",
      "Score:  -0.541459429146\n",
      "Training with params : \n",
      "{'reg_alpha': 2.5823901743885087, 'colsample_bytree': 0.7712685779122376, 'learning_rate': 0.15084593039650268, 'nthread': 4, 'min_child_weight': 19, 'n_estimators': 92, 'subsample': 0.6141359894406864, 'seed': 11, 'objective': 'binary:logistic', 'max_depth': 4}\n",
      "Score:  -0.539554786\n",
      "Training with params : \n",
      "{'reg_alpha': 2.2101176382882453, 'colsample_bytree': 0.8464763029231268, 'learning_rate': 0.07751829236189971, 'nthread': 4, 'min_child_weight': 10, 'n_estimators': 107, 'subsample': 0.7589031144382477, 'seed': 11, 'objective': 'binary:logistic', 'max_depth': 1}\n",
      "Score:  -0.553308469129\n",
      "Training with params : \n",
      "{'reg_alpha': 2.5450484240448703, 'colsample_bytree': 0.7046433097373819, 'learning_rate': 0.21536066773106127, 'nthread': 4, 'min_child_weight': 12, 'n_estimators': 120, 'subsample': 0.5928971830180287, 'seed': 11, 'objective': 'binary:logistic', 'max_depth': 4}\n",
      "Score:  -0.542164739702\n",
      "Training with params : \n",
      "{'reg_alpha': 2.694563437569389, 'colsample_bytree': 0.8768335778370171, 'learning_rate': 0.062452511506258065, 'nthread': 4, 'min_child_weight': 14, 'n_estimators': 137, 'subsample': 0.6914283064766742, 'seed': 11, 'objective': 'binary:logistic', 'max_depth': 4}\n",
      "Score:  -0.538520567156\n",
      "Training with params : \n",
      "{'reg_alpha': 2.7908303561979477, 'colsample_bytree': 0.8251836847714217, 'learning_rate': 0.20015965790424067, 'nthread': 4, 'min_child_weight': 14, 'n_estimators': 136, 'subsample': 0.6954942710409594, 'seed': 11, 'objective': 'binary:logistic', 'max_depth': 3}\n",
      "Score:  -0.540048889628\n",
      "Training with params : \n",
      "{'reg_alpha': 2.903376292353467, 'colsample_bytree': 0.7948600645361092, 'learning_rate': 0.4593685082499931, 'nthread': 4, 'min_child_weight': 14, 'n_estimators': 55, 'subsample': 0.5639692308058581, 'seed': 11, 'objective': 'binary:logistic', 'max_depth': 4}\n",
      "Score:  -0.545526608706\n",
      "Training with params : \n",
      "{'reg_alpha': 2.692044805524702, 'colsample_bytree': 0.8768626435204695, 'learning_rate': 0.06276419908209027, 'nthread': 4, 'min_child_weight': 14, 'n_estimators': 140, 'subsample': 0.6511964503721396, 'seed': 11, 'objective': 'binary:logistic', 'max_depth': 2}\n",
      "Score:  -0.541846255873\n",
      "Training with params : \n",
      "{'reg_alpha': 2.963699237409689, 'colsample_bytree': 0.730805469540232, 'learning_rate': 0.23456327642197444, 'nthread': 4, 'min_child_weight': 14, 'n_estimators': 137, 'subsample': 0.7166980442323334, 'seed': 11, 'objective': 'binary:logistic', 'max_depth': 4}\n",
      "Score:  -0.542286966369\n",
      "Training with params : \n",
      "{'reg_alpha': 2.812687137115166, 'colsample_bytree': 0.8387842011712755, 'learning_rate': 0.8770773075449908, 'nthread': 4, 'min_child_weight': 14, 'n_estimators': 76, 'subsample': 0.8454954957478915, 'seed': 11, 'objective': 'binary:logistic', 'max_depth': 4}\n",
      "Score:  -0.557592952228\n",
      "Training with params : \n",
      "{'reg_alpha': 2.494182911793173, 'colsample_bytree': 0.7447549931206942, 'learning_rate': 0.26920429212682695, 'nthread': 4, 'min_child_weight': 14, 'n_estimators': 69, 'subsample': 0.7799650681907152, 'seed': 11, 'objective': 'binary:logistic', 'max_depth': 6}\n",
      "Score:  -0.544789083311\n",
      "best:\n",
      "{'reg_alpha': 2.8125709367673073, 'colsample_bytree': 0.913818245469191, 'learning_rate': 0.06905574617173077, 'min_child_weight': 9, 'n_estimators': 84, 'subsample': 0.6465149185565322, 'max_depth': 3}\n"
     ]
    }
   ],
   "source": [
    "best_xgb_1 = XGB_learn(random_state=114)"
   ]
  },
  {
   "cell_type": "code",
   "execution_count": 152,
   "metadata": {
    "collapsed": false
   },
   "outputs": [
    {
     "name": "stdout",
     "output_type": "stream",
     "text": [
      "0.543102587373\n"
     ]
    }
   ],
   "source": [
    "xgb1 = XGBClassifier(reg_alpha=best_xgb_1['reg_alpha'], colsample_bytree=best_xgb_1['colsample_bytree'], \n",
    "                    learning_rate=best_xgb_1['learning_rate'], nthread=4, min_child_weight=best_xgb_1['min_child_weight'],\n",
    "                   n_estimators=best_xgb_1['n_estimators'], subsample=best_xgb_1['subsample'], seed=114, \n",
    "                   objective='binary:logistic', max_depth=best_xgb_1['max_depth'])\n",
    "#{'reg_alpha': 2.8125709367673073, 'colsample_bytree': 0.913818245469191, 'learning_rate': 0.06905574617173077, \n",
    "# 'min_child_weight': 9, 'n_estimators': 84, 'subsample': 0.6465149185565322, 'max_depth': 3}\n",
    "xgb1.fit(X_train, y_train)\n",
    "\n",
    "predict_validation_xgb1 = xgb1.predict_proba(X_validation)\n",
    "print log_loss(y_validation, predict_validation_xgb1)"
   ]
  },
  {
   "cell_type": "markdown",
   "metadata": {},
   "source": [
    "Прогнозируем тест."
   ]
  },
  {
   "cell_type": "code",
   "execution_count": 153,
   "metadata": {
    "collapsed": false
   },
   "outputs": [],
   "source": [
    "predict_test_xgb1 = xgb1.predict_proba(test_x)"
   ]
  },
  {
   "cell_type": "markdown",
   "metadata": {},
   "source": [
    "Вторая модель."
   ]
  },
  {
   "cell_type": "code",
   "execution_count": 154,
   "metadata": {
    "collapsed": false
   },
   "outputs": [
    {
     "name": "stdout",
     "output_type": "stream",
     "text": [
      "0.541695628415\n"
     ]
    }
   ],
   "source": [
    "xgb2 = XGBClassifier(reg_alpha=2.694563437569389, colsample_bytree=0.8768335778370171, \n",
    "                    learning_rate=0.062452511506258065, nthread=4, min_child_weight=14,\n",
    "                   n_estimators=137, subsample=0.6914283064766742, seed=115, \n",
    "                   objective='binary:logistic', max_depth=4)\n",
    "\n",
    "xgb2.fit(X_train, y_train)\n",
    "\n",
    "predict_validation_xgb2 = xgb2.predict_proba(X_validation)\n",
    "print log_loss(y_validation, predict_validation_xgb2)"
   ]
  },
  {
   "cell_type": "code",
   "execution_count": 155,
   "metadata": {
    "collapsed": true
   },
   "outputs": [],
   "source": [
    "predict_test_xgb2 = xgb2.predict_proba(test_x)"
   ]
  },
  {
   "cell_type": "markdown",
   "metadata": {},
   "source": [
    "Третья модель."
   ]
  },
  {
   "cell_type": "code",
   "execution_count": 157,
   "metadata": {
    "collapsed": false
   },
   "outputs": [
    {
     "name": "stdout",
     "output_type": "stream",
     "text": [
      "0.541734756713\n"
     ]
    }
   ],
   "source": [
    "xgb3 = XGBClassifier(reg_alpha=2.3248532256940355, colsample_bytree=0.928325758550966, \n",
    "                    learning_rate=0.10555416217450769, nthread=4, min_child_weight=19,\n",
    "                   n_estimators=85, subsample=0.8594437437833493, seed=114, \n",
    "                   objective='binary:logistic', max_depth=5)\n",
    "\n",
    "\n",
    "xgb3.fit(X_train, y_train)\n",
    "\n",
    "predict_validation_xgb3 = xgb3.predict_proba(X_validation)\n",
    "print log_loss(y_validation, predict_validation_xgb3)"
   ]
  },
  {
   "cell_type": "code",
   "execution_count": 158,
   "metadata": {
    "collapsed": true
   },
   "outputs": [],
   "source": [
    "predict_test_xgb3 = xgb3.predict_proba(test_x)"
   ]
  },
  {
   "cell_type": "markdown",
   "metadata": {},
   "source": [
    "Четвертая модель."
   ]
  },
  {
   "cell_type": "code",
   "execution_count": 162,
   "metadata": {
    "collapsed": false
   },
   "outputs": [
    {
     "name": "stdout",
     "output_type": "stream",
     "text": [
      "0.54201328085\n"
     ]
    }
   ],
   "source": [
    "xgb4 = XGBClassifier(reg_alpha=2.8140796108679527, colsample_bytree=0.8358236357427814, \n",
    "                    learning_rate=0.04469329599940971, nthread=4, min_child_weight=17,\n",
    "                   n_estimators=130, subsample=0.5671630321375755, seed=118, \n",
    "                   objective='binary:logistic', max_depth=4)\n",
    "\n",
    "xgb4.fit(X_train, y_train)\n",
    "\n",
    "predict_validation_xgb4 = xgb4.predict_proba(X_validation)\n",
    "print log_loss(y_validation, predict_validation_xgb4)"
   ]
  },
  {
   "cell_type": "code",
   "execution_count": 163,
   "metadata": {
    "collapsed": true
   },
   "outputs": [],
   "source": [
    "predict_test_xgb4 = xgb4.predict_proba(test_x)"
   ]
  },
  {
   "cell_type": "markdown",
   "metadata": {},
   "source": [
    "Пятая модель."
   ]
  },
  {
   "cell_type": "code",
   "execution_count": 164,
   "metadata": {
    "collapsed": false
   },
   "outputs": [
    {
     "name": "stdout",
     "output_type": "stream",
     "text": [
      "0.541807529242\n"
     ]
    }
   ],
   "source": [
    "xgb5 = XGBClassifier(reg_alpha=2.8432031545028416, colsample_bytree=0.8947122406701733, \n",
    "                    learning_rate=0.07547000831742193, nthread=4, min_child_weight=19,\n",
    "                   n_estimators=125, subsample=0.6590164633486921, seed=119, \n",
    "                   objective='binary:logistic', max_depth=4)\n",
    "xgb5.fit(X_train, y_train)\n",
    "\n",
    "predict_validation_xgb5 = xgb5.predict_proba(X_validation)\n",
    "print log_loss(y_validation, predict_validation_xgb5)"
   ]
  },
  {
   "cell_type": "code",
   "execution_count": 165,
   "metadata": {
    "collapsed": true
   },
   "outputs": [],
   "source": [
    "predict_test_xgb5 = xgb5.predict_proba(test_x)"
   ]
  },
  {
   "cell_type": "code",
   "execution_count": null,
   "metadata": {
    "collapsed": true
   },
   "outputs": [],
   "source": []
  },
  {
   "cell_type": "markdown",
   "metadata": {},
   "source": [
    "# 4. Mix моделей"
   ]
  },
  {
   "cell_type": "markdown",
   "metadata": {},
   "source": [
    "## 4.1 Проверка на валидации"
   ]
  },
  {
   "cell_type": "markdown",
   "metadata": {},
   "source": [
    "Сначала проверяем на валидационной выборке."
   ]
  },
  {
   "cell_type": "code",
   "execution_count": 166,
   "metadata": {
    "collapsed": false
   },
   "outputs": [],
   "source": [
    "validation_mix = pd.DataFrame(predict_validation_xgb1[:,1])\n",
    "validation_mix.columns = ['xgb1']"
   ]
  },
  {
   "cell_type": "code",
   "execution_count": 167,
   "metadata": {
    "collapsed": false
   },
   "outputs": [],
   "source": [
    "validation_mix['xgb2'] = predict_validation_xgb2[:,1]\n",
    "validation_mix['xgb3'] = predict_validation_xgb3[:,1]\n",
    "validation_mix['xgb4'] = predict_validation_xgb4[:,1]\n",
    "validation_mix['xgb5'] = predict_validation_xgb5[:,1]"
   ]
  },
  {
   "cell_type": "code",
   "execution_count": 168,
   "metadata": {
    "collapsed": true
   },
   "outputs": [],
   "source": [
    "validation_mix['mean_all'] = (validation_mix.xgb1 + validation_mix.xgb2+ validation_mix.xgb3+validation_mix.xgb4+validation_mix.xgb5)/5"
   ]
  },
  {
   "cell_type": "code",
   "execution_count": 169,
   "metadata": {
    "collapsed": false
   },
   "outputs": [
    {
     "name": "stdout",
     "output_type": "stream",
     "text": [
      "Log loss all 0.541571399437\n"
     ]
    }
   ],
   "source": [
    "print 'Log loss all', log_loss(y_validation, validation_mix['mean_all'])"
   ]
  },
  {
   "cell_type": "code",
   "execution_count": 170,
   "metadata": {
    "collapsed": true
   },
   "outputs": [],
   "source": [
    "validation_mix['mean_colsample'] = (validation_mix.xgb1*0.914 + validation_mix.xgb2*0.877+ validation_mix.xgb3*0.928+validation_mix.xgb4*0.836+validation_mix.xgb5*0.895)/(0.914+0.877+0.928+0.836+0.895)"
   ]
  },
  {
   "cell_type": "code",
   "execution_count": 171,
   "metadata": {
    "collapsed": false
   },
   "outputs": [
    {
     "name": "stdout",
     "output_type": "stream",
     "text": [
      "Log loss xgb 0.541566762924\n"
     ]
    }
   ],
   "source": [
    "print 'Log loss xgb', log_loss(y_validation, validation_mix['mean_colsample'])"
   ]
  },
  {
   "cell_type": "code",
   "execution_count": 172,
   "metadata": {
    "collapsed": true
   },
   "outputs": [],
   "source": [
    "validation_mix['mean_xgb_2_5'] = (validation_mix.xgb2*0.877+ validation_mix.xgb3*0.928+validation_mix.xgb4*0.836+validation_mix.xgb5*0.895)/(0.877+0.928+0.836+0.895)"
   ]
  },
  {
   "cell_type": "code",
   "execution_count": 173,
   "metadata": {
    "collapsed": false
   },
   "outputs": [
    {
     "name": "stdout",
     "output_type": "stream",
     "text": [
      "Log loss xgb 0.541475115664\n"
     ]
    }
   ],
   "source": [
    "print 'Log loss xgb', log_loss(y_validation, validation_mix['mean_xgb_2_5'])"
   ]
  },
  {
   "cell_type": "markdown",
   "metadata": {},
   "source": [
    "## 4.2 Предсказание для теста"
   ]
  },
  {
   "cell_type": "code",
   "execution_count": 175,
   "metadata": {
    "collapsed": false
   },
   "outputs": [],
   "source": [
    "test_mix = pd.DataFrame(predict_test_xgb1[:,1])\n",
    "test_mix.columns = ['xgb1']\n",
    "\n",
    "test_mix['xgb2'] = predict_test_xgb2[:,1]\n",
    "test_mix['xgb3'] = predict_test_xgb3[:,1]\n",
    "test_mix['xgb4'] = predict_test_xgb4[:,1]\n",
    "test_mix['xgb5'] = predict_test_xgb5[:,1]"
   ]
  },
  {
   "cell_type": "markdown",
   "metadata": {},
   "source": [
    "Сохраняем в файл."
   ]
  },
  {
   "cell_type": "code",
   "execution_count": 180,
   "metadata": {
    "collapsed": true
   },
   "outputs": [],
   "source": [
    "test_mix.to_csv('./result/result_models_3006.csv', header=True, index=False, sep=';')"
   ]
  },
  {
   "cell_type": "code",
   "execution_count": 181,
   "metadata": {
    "collapsed": true
   },
   "outputs": [],
   "source": [
    "test_mix['mean_all'] = (test_mix.xgb1 + test_mix.xgb2+ test_mix.xgb3+test_mix.xgb4+test_mix.xgb5)/5"
   ]
  },
  {
   "cell_type": "code",
   "execution_count": 182,
   "metadata": {
    "collapsed": true
   },
   "outputs": [],
   "source": [
    "test_mix['mean_collsample'] = (test_mix.xgb1*0.914 + test_mix.xgb2*0.877+ test_mix.xgb3*0.928+test_mix.xgb4*0.836+test_mix.xgb5*0.895)/(0.914+0.877+0.928+0.836+0.895)"
   ]
  },
  {
   "cell_type": "code",
   "execution_count": 183,
   "metadata": {
    "collapsed": true
   },
   "outputs": [],
   "source": [
    "test_mix['mean_xgb_2_5'] = (test_mix.xgb2*0.877+ test_mix.xgb3*0.928+test_mix.xgb4*0.836+test_mix.xgb5*0.895)/(0.877+0.928+0.836+0.895)"
   ]
  },
  {
   "cell_type": "code",
   "execution_count": 184,
   "metadata": {
    "collapsed": true
   },
   "outputs": [],
   "source": [
    "test_mix['mean_all'].to_csv('./result/res12_all_3006.csv', index=False, header=None)"
   ]
  },
  {
   "cell_type": "code",
   "execution_count": 185,
   "metadata": {
    "collapsed": true
   },
   "outputs": [],
   "source": [
    "test_mix['mean_collsample'].to_csv('./result/res13_collsample_3006.csv', index=False, header=None)"
   ]
  },
  {
   "cell_type": "code",
   "execution_count": 186,
   "metadata": {
    "collapsed": false
   },
   "outputs": [],
   "source": [
    "test_mix['mean_xgb_2_5'].to_csv('./result/res14_xgb_25_3006.csv', index=False, header=None)"
   ]
  },
  {
   "cell_type": "code",
   "execution_count": null,
   "metadata": {
    "collapsed": true
   },
   "outputs": [],
   "source": []
  }
 ],
 "metadata": {
  "anaconda-cloud": {},
  "kernelspec": {
   "display_name": "Python [conda root]",
   "language": "python",
   "name": "conda-root-py"
  },
  "language_info": {
   "codemirror_mode": {
    "name": "ipython",
    "version": 2
   },
   "file_extension": ".py",
   "mimetype": "text/x-python",
   "name": "python",
   "nbconvert_exporter": "python",
   "pygments_lexer": "ipython2",
   "version": "2.7.12"
  }
 },
 "nbformat": 4,
 "nbformat_minor": 2
}
