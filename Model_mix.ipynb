{
 "cells": [
  {
   "cell_type": "code",
   "execution_count": 1,
   "metadata": {
    "collapsed": true
   },
   "outputs": [],
   "source": [
    "import pandas as pd"
   ]
  },
  {
   "cell_type": "markdown",
   "metadata": {},
   "source": [
    "# 1. Загрузка данных"
   ]
  },
  {
   "cell_type": "code",
   "execution_count": 4,
   "metadata": {
    "collapsed": true
   },
   "outputs": [],
   "source": [
    "data1 = pd.read_csv('./result/result_models_2906.csv', header=0, sep=';')\n",
    "data2 = pd.read_csv('./result/result_models_3006.csv', header=0, sep=';')"
   ]
  },
  {
   "cell_type": "code",
   "execution_count": 5,
   "metadata": {
    "collapsed": false
   },
   "outputs": [
    {
     "data": {
      "text/html": [
       "<div>\n",
       "<table border=\"1\" class=\"dataframe\">\n",
       "  <thead>\n",
       "    <tr style=\"text-align: right;\">\n",
       "      <th></th>\n",
       "      <th>lr1</th>\n",
       "      <th>lr2</th>\n",
       "      <th>rf1</th>\n",
       "      <th>rf2</th>\n",
       "      <th>xgb1</th>\n",
       "      <th>xgb2</th>\n",
       "      <th>xgb3</th>\n",
       "    </tr>\n",
       "  </thead>\n",
       "  <tbody>\n",
       "    <tr>\n",
       "      <th>0</th>\n",
       "      <td>0.384195</td>\n",
       "      <td>0.401041</td>\n",
       "      <td>0.502771</td>\n",
       "      <td>0.546647</td>\n",
       "      <td>0.521906</td>\n",
       "      <td>0.519609</td>\n",
       "      <td>0.516442</td>\n",
       "    </tr>\n",
       "    <tr>\n",
       "      <th>1</th>\n",
       "      <td>0.341164</td>\n",
       "      <td>0.365068</td>\n",
       "      <td>0.585442</td>\n",
       "      <td>0.569072</td>\n",
       "      <td>0.555073</td>\n",
       "      <td>0.580353</td>\n",
       "      <td>0.618696</td>\n",
       "    </tr>\n",
       "    <tr>\n",
       "      <th>2</th>\n",
       "      <td>0.422933</td>\n",
       "      <td>0.447469</td>\n",
       "      <td>0.431909</td>\n",
       "      <td>0.463101</td>\n",
       "      <td>0.409766</td>\n",
       "      <td>0.453871</td>\n",
       "      <td>0.467037</td>\n",
       "    </tr>\n",
       "    <tr>\n",
       "      <th>3</th>\n",
       "      <td>0.040304</td>\n",
       "      <td>0.046670</td>\n",
       "      <td>0.586248</td>\n",
       "      <td>0.547270</td>\n",
       "      <td>0.529089</td>\n",
       "      <td>0.566818</td>\n",
       "      <td>0.563297</td>\n",
       "    </tr>\n",
       "    <tr>\n",
       "      <th>4</th>\n",
       "      <td>0.105830</td>\n",
       "      <td>0.118479</td>\n",
       "      <td>0.255689</td>\n",
       "      <td>0.306303</td>\n",
       "      <td>0.235465</td>\n",
       "      <td>0.248358</td>\n",
       "      <td>0.256327</td>\n",
       "    </tr>\n",
       "  </tbody>\n",
       "</table>\n",
       "</div>"
      ],
      "text/plain": [
       "        lr1       lr2       rf1       rf2      xgb1      xgb2      xgb3\n",
       "0  0.384195  0.401041  0.502771  0.546647  0.521906  0.519609  0.516442\n",
       "1  0.341164  0.365068  0.585442  0.569072  0.555073  0.580353  0.618696\n",
       "2  0.422933  0.447469  0.431909  0.463101  0.409766  0.453871  0.467037\n",
       "3  0.040304  0.046670  0.586248  0.547270  0.529089  0.566818  0.563297\n",
       "4  0.105830  0.118479  0.255689  0.306303  0.235465  0.248358  0.256327"
      ]
     },
     "execution_count": 5,
     "metadata": {},
     "output_type": "execute_result"
    }
   ],
   "source": [
    "data1.head()"
   ]
  },
  {
   "cell_type": "code",
   "execution_count": 6,
   "metadata": {
    "collapsed": false
   },
   "outputs": [
    {
     "data": {
      "text/html": [
       "<div>\n",
       "<table border=\"1\" class=\"dataframe\">\n",
       "  <thead>\n",
       "    <tr style=\"text-align: right;\">\n",
       "      <th></th>\n",
       "      <th>xgb1</th>\n",
       "      <th>xgb2</th>\n",
       "      <th>xgb3</th>\n",
       "      <th>xgb4</th>\n",
       "      <th>xgb5</th>\n",
       "      <th>mean_all</th>\n",
       "    </tr>\n",
       "  </thead>\n",
       "  <tbody>\n",
       "    <tr>\n",
       "      <th>0</th>\n",
       "      <td>0.520264</td>\n",
       "      <td>0.502211</td>\n",
       "      <td>0.468944</td>\n",
       "      <td>0.510608</td>\n",
       "      <td>0.517678</td>\n",
       "      <td>0.503941</td>\n",
       "    </tr>\n",
       "    <tr>\n",
       "      <th>1</th>\n",
       "      <td>0.589130</td>\n",
       "      <td>0.555789</td>\n",
       "      <td>0.624814</td>\n",
       "      <td>0.587620</td>\n",
       "      <td>0.604088</td>\n",
       "      <td>0.592288</td>\n",
       "    </tr>\n",
       "    <tr>\n",
       "      <th>2</th>\n",
       "      <td>0.452479</td>\n",
       "      <td>0.436620</td>\n",
       "      <td>0.463348</td>\n",
       "      <td>0.461057</td>\n",
       "      <td>0.486453</td>\n",
       "      <td>0.459992</td>\n",
       "    </tr>\n",
       "    <tr>\n",
       "      <th>3</th>\n",
       "      <td>0.582999</td>\n",
       "      <td>0.563432</td>\n",
       "      <td>0.618689</td>\n",
       "      <td>0.561760</td>\n",
       "      <td>0.601095</td>\n",
       "      <td>0.585595</td>\n",
       "    </tr>\n",
       "    <tr>\n",
       "      <th>4</th>\n",
       "      <td>0.236527</td>\n",
       "      <td>0.241340</td>\n",
       "      <td>0.266459</td>\n",
       "      <td>0.244176</td>\n",
       "      <td>0.265393</td>\n",
       "      <td>0.250779</td>\n",
       "    </tr>\n",
       "  </tbody>\n",
       "</table>\n",
       "</div>"
      ],
      "text/plain": [
       "       xgb1      xgb2      xgb3      xgb4      xgb5  mean_all\n",
       "0  0.520264  0.502211  0.468944  0.510608  0.517678  0.503941\n",
       "1  0.589130  0.555789  0.624814  0.587620  0.604088  0.592288\n",
       "2  0.452479  0.436620  0.463348  0.461057  0.486453  0.459992\n",
       "3  0.582999  0.563432  0.618689  0.561760  0.601095  0.585595\n",
       "4  0.236527  0.241340  0.266459  0.244176  0.265393  0.250779"
      ]
     },
     "execution_count": 6,
     "metadata": {},
     "output_type": "execute_result"
    }
   ],
   "source": [
    "data2.head()"
   ]
  },
  {
   "cell_type": "code",
   "execution_count": 7,
   "metadata": {
    "collapsed": true
   },
   "outputs": [],
   "source": [
    "data2.drop('mean_all', axis=1, inplace=True)"
   ]
  },
  {
   "cell_type": "code",
   "execution_count": 8,
   "metadata": {
    "collapsed": true
   },
   "outputs": [],
   "source": [
    "data = pd.concat([data1, data2], axis=1)"
   ]
  },
  {
   "cell_type": "code",
   "execution_count": 15,
   "metadata": {
    "collapsed": false
   },
   "outputs": [],
   "source": [
    "data.drop(['lr1', 'lr2'], axis=1, inplace=True)"
   ]
  },
  {
   "cell_type": "code",
   "execution_count": 16,
   "metadata": {
    "collapsed": false
   },
   "outputs": [
    {
     "data": {
      "text/html": [
       "<div>\n",
       "<table border=\"1\" class=\"dataframe\">\n",
       "  <thead>\n",
       "    <tr style=\"text-align: right;\">\n",
       "      <th></th>\n",
       "      <th>rf1</th>\n",
       "      <th>rf2</th>\n",
       "      <th>xgb1</th>\n",
       "      <th>xgb2</th>\n",
       "      <th>xgb3</th>\n",
       "      <th>xgb1</th>\n",
       "      <th>xgb2</th>\n",
       "      <th>xgb3</th>\n",
       "      <th>xgb4</th>\n",
       "      <th>xgb5</th>\n",
       "    </tr>\n",
       "  </thead>\n",
       "  <tbody>\n",
       "    <tr>\n",
       "      <th>0</th>\n",
       "      <td>0.502771</td>\n",
       "      <td>0.546647</td>\n",
       "      <td>0.521906</td>\n",
       "      <td>0.519609</td>\n",
       "      <td>0.516442</td>\n",
       "      <td>0.520264</td>\n",
       "      <td>0.502211</td>\n",
       "      <td>0.468944</td>\n",
       "      <td>0.510608</td>\n",
       "      <td>0.517678</td>\n",
       "    </tr>\n",
       "    <tr>\n",
       "      <th>1</th>\n",
       "      <td>0.585442</td>\n",
       "      <td>0.569072</td>\n",
       "      <td>0.555073</td>\n",
       "      <td>0.580353</td>\n",
       "      <td>0.618696</td>\n",
       "      <td>0.589130</td>\n",
       "      <td>0.555789</td>\n",
       "      <td>0.624814</td>\n",
       "      <td>0.587620</td>\n",
       "      <td>0.604088</td>\n",
       "    </tr>\n",
       "    <tr>\n",
       "      <th>2</th>\n",
       "      <td>0.431909</td>\n",
       "      <td>0.463101</td>\n",
       "      <td>0.409766</td>\n",
       "      <td>0.453871</td>\n",
       "      <td>0.467037</td>\n",
       "      <td>0.452479</td>\n",
       "      <td>0.436620</td>\n",
       "      <td>0.463348</td>\n",
       "      <td>0.461057</td>\n",
       "      <td>0.486453</td>\n",
       "    </tr>\n",
       "    <tr>\n",
       "      <th>3</th>\n",
       "      <td>0.586248</td>\n",
       "      <td>0.547270</td>\n",
       "      <td>0.529089</td>\n",
       "      <td>0.566818</td>\n",
       "      <td>0.563297</td>\n",
       "      <td>0.582999</td>\n",
       "      <td>0.563432</td>\n",
       "      <td>0.618689</td>\n",
       "      <td>0.561760</td>\n",
       "      <td>0.601095</td>\n",
       "    </tr>\n",
       "    <tr>\n",
       "      <th>4</th>\n",
       "      <td>0.255689</td>\n",
       "      <td>0.306303</td>\n",
       "      <td>0.235465</td>\n",
       "      <td>0.248358</td>\n",
       "      <td>0.256327</td>\n",
       "      <td>0.236527</td>\n",
       "      <td>0.241340</td>\n",
       "      <td>0.266459</td>\n",
       "      <td>0.244176</td>\n",
       "      <td>0.265393</td>\n",
       "    </tr>\n",
       "  </tbody>\n",
       "</table>\n",
       "</div>"
      ],
      "text/plain": [
       "        rf1       rf2      xgb1      xgb2      xgb3      xgb1      xgb2  \\\n",
       "0  0.502771  0.546647  0.521906  0.519609  0.516442  0.520264  0.502211   \n",
       "1  0.585442  0.569072  0.555073  0.580353  0.618696  0.589130  0.555789   \n",
       "2  0.431909  0.463101  0.409766  0.453871  0.467037  0.452479  0.436620   \n",
       "3  0.586248  0.547270  0.529089  0.566818  0.563297  0.582999  0.563432   \n",
       "4  0.255689  0.306303  0.235465  0.248358  0.256327  0.236527  0.241340   \n",
       "\n",
       "       xgb3      xgb4      xgb5  \n",
       "0  0.468944  0.510608  0.517678  \n",
       "1  0.624814  0.587620  0.604088  \n",
       "2  0.463348  0.461057  0.486453  \n",
       "3  0.618689  0.561760  0.601095  \n",
       "4  0.266459  0.244176  0.265393  "
      ]
     },
     "execution_count": 16,
     "metadata": {},
     "output_type": "execute_result"
    }
   ],
   "source": [
    "data.head()"
   ]
  },
  {
   "cell_type": "code",
   "execution_count": 17,
   "metadata": {
    "collapsed": true
   },
   "outputs": [],
   "source": [
    "data.columns = ['rf1', 'rf2', 'xgb1', 'xgb2', 'xgb3', 'xgb4', 'xgb5', 'xgb6', 'xgb7', 'xgb8']"
   ]
  },
  {
   "cell_type": "markdown",
   "metadata": {},
   "source": [
    "# 2. Получение взевешенного решения "
   ]
  },
  {
   "cell_type": "code",
   "execution_count": 18,
   "metadata": {
    "collapsed": true
   },
   "outputs": [],
   "source": [
    "data['rf_xgb'] = (data.rf1+data.rf2 + data.xgb1+data.xgb2+data.xgb3+data.xgb4+data.xgb5+data.xgb6+data.xgb7+data.xgb8)/10"
   ]
  },
  {
   "cell_type": "code",
   "execution_count": 19,
   "metadata": {
    "collapsed": true
   },
   "outputs": [],
   "source": [
    "data['xgb'] = (data.xgb1+data.xgb2+data.xgb3+data.xgb4+data.xgb5+data.xgb6+data.xgb7+data.xgb8)/8"
   ]
  },
  {
   "cell_type": "code",
   "execution_count": 20,
   "metadata": {
    "collapsed": false
   },
   "outputs": [
    {
     "data": {
      "text/html": [
       "<div>\n",
       "<table border=\"1\" class=\"dataframe\">\n",
       "  <thead>\n",
       "    <tr style=\"text-align: right;\">\n",
       "      <th></th>\n",
       "      <th>rf1</th>\n",
       "      <th>rf2</th>\n",
       "      <th>xgb1</th>\n",
       "      <th>xgb2</th>\n",
       "      <th>xgb3</th>\n",
       "      <th>xgb4</th>\n",
       "      <th>xgb5</th>\n",
       "      <th>xgb6</th>\n",
       "      <th>xgb7</th>\n",
       "      <th>xgb8</th>\n",
       "      <th>rf_xgb</th>\n",
       "      <th>xgb</th>\n",
       "    </tr>\n",
       "  </thead>\n",
       "  <tbody>\n",
       "    <tr>\n",
       "      <th>0</th>\n",
       "      <td>0.502771</td>\n",
       "      <td>0.546647</td>\n",
       "      <td>0.521906</td>\n",
       "      <td>0.519609</td>\n",
       "      <td>0.516442</td>\n",
       "      <td>0.520264</td>\n",
       "      <td>0.502211</td>\n",
       "      <td>0.468944</td>\n",
       "      <td>0.510608</td>\n",
       "      <td>0.517678</td>\n",
       "      <td>0.512708</td>\n",
       "      <td>0.509708</td>\n",
       "    </tr>\n",
       "    <tr>\n",
       "      <th>1</th>\n",
       "      <td>0.585442</td>\n",
       "      <td>0.569072</td>\n",
       "      <td>0.555073</td>\n",
       "      <td>0.580353</td>\n",
       "      <td>0.618696</td>\n",
       "      <td>0.589130</td>\n",
       "      <td>0.555789</td>\n",
       "      <td>0.624814</td>\n",
       "      <td>0.587620</td>\n",
       "      <td>0.604088</td>\n",
       "      <td>0.587008</td>\n",
       "      <td>0.589445</td>\n",
       "    </tr>\n",
       "    <tr>\n",
       "      <th>2</th>\n",
       "      <td>0.431909</td>\n",
       "      <td>0.463101</td>\n",
       "      <td>0.409766</td>\n",
       "      <td>0.453871</td>\n",
       "      <td>0.467037</td>\n",
       "      <td>0.452479</td>\n",
       "      <td>0.436620</td>\n",
       "      <td>0.463348</td>\n",
       "      <td>0.461057</td>\n",
       "      <td>0.486453</td>\n",
       "      <td>0.452564</td>\n",
       "      <td>0.453829</td>\n",
       "    </tr>\n",
       "    <tr>\n",
       "      <th>3</th>\n",
       "      <td>0.586248</td>\n",
       "      <td>0.547270</td>\n",
       "      <td>0.529089</td>\n",
       "      <td>0.566818</td>\n",
       "      <td>0.563297</td>\n",
       "      <td>0.582999</td>\n",
       "      <td>0.563432</td>\n",
       "      <td>0.618689</td>\n",
       "      <td>0.561760</td>\n",
       "      <td>0.601095</td>\n",
       "      <td>0.572070</td>\n",
       "      <td>0.573397</td>\n",
       "    </tr>\n",
       "    <tr>\n",
       "      <th>4</th>\n",
       "      <td>0.255689</td>\n",
       "      <td>0.306303</td>\n",
       "      <td>0.235465</td>\n",
       "      <td>0.248358</td>\n",
       "      <td>0.256327</td>\n",
       "      <td>0.236527</td>\n",
       "      <td>0.241340</td>\n",
       "      <td>0.266459</td>\n",
       "      <td>0.244176</td>\n",
       "      <td>0.265393</td>\n",
       "      <td>0.255604</td>\n",
       "      <td>0.249256</td>\n",
       "    </tr>\n",
       "  </tbody>\n",
       "</table>\n",
       "</div>"
      ],
      "text/plain": [
       "        rf1       rf2      xgb1      xgb2      xgb3      xgb4      xgb5  \\\n",
       "0  0.502771  0.546647  0.521906  0.519609  0.516442  0.520264  0.502211   \n",
       "1  0.585442  0.569072  0.555073  0.580353  0.618696  0.589130  0.555789   \n",
       "2  0.431909  0.463101  0.409766  0.453871  0.467037  0.452479  0.436620   \n",
       "3  0.586248  0.547270  0.529089  0.566818  0.563297  0.582999  0.563432   \n",
       "4  0.255689  0.306303  0.235465  0.248358  0.256327  0.236527  0.241340   \n",
       "\n",
       "       xgb6      xgb7      xgb8    rf_xgb       xgb  \n",
       "0  0.468944  0.510608  0.517678  0.512708  0.509708  \n",
       "1  0.624814  0.587620  0.604088  0.587008  0.589445  \n",
       "2  0.463348  0.461057  0.486453  0.452564  0.453829  \n",
       "3  0.618689  0.561760  0.601095  0.572070  0.573397  \n",
       "4  0.266459  0.244176  0.265393  0.255604  0.249256  "
      ]
     },
     "execution_count": 20,
     "metadata": {},
     "output_type": "execute_result"
    }
   ],
   "source": [
    "data.head()"
   ]
  },
  {
   "cell_type": "markdown",
   "metadata": {},
   "source": [
    "# 3. Сохраняем результат"
   ]
  },
  {
   "cell_type": "code",
   "execution_count": 21,
   "metadata": {
    "collapsed": true
   },
   "outputs": [],
   "source": [
    "data['rf_xgb'].to_csv('./result/rf_xgb.csv', header=None, index=False)\n",
    "data['xgb'].to_csv('./result/xgb.csv', header=None, index=False)"
   ]
  },
  {
   "cell_type": "code",
   "execution_count": null,
   "metadata": {
    "collapsed": true
   },
   "outputs": [],
   "source": []
  }
 ],
 "metadata": {
  "anaconda-cloud": {},
  "kernelspec": {
   "display_name": "Python [conda root]",
   "language": "python",
   "name": "conda-root-py"
  },
  "language_info": {
   "codemirror_mode": {
    "name": "ipython",
    "version": 2
   },
   "file_extension": ".py",
   "mimetype": "text/x-python",
   "name": "python",
   "nbconvert_exporter": "python",
   "pygments_lexer": "ipython2",
   "version": "2.7.12"
  }
 },
 "nbformat": 4,
 "nbformat_minor": 2
}
