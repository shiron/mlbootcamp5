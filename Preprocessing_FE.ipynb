{
 "cells": [
  {
   "cell_type": "code",
   "execution_count": 1,
   "metadata": {
    "collapsed": false
   },
   "outputs": [
    {
     "name": "stdout",
     "output_type": "stream",
     "text": [
      "Populating the interactive namespace from numpy and matplotlib\n"
     ]
    }
   ],
   "source": [
    "import pandas as pd\n",
    "import numpy as np\n",
    "%pylab inline"
   ]
  },
  {
   "cell_type": "markdown",
   "metadata": {},
   "source": [
    "1. Загрузка данных\n",
    "2. Предобработка + fe (используем все столбцы, кроме столбцов с пропусками) для числовых столбцов:\n",
    "* Удаление выбросов вручную - глянуть как (скорей всего замена на какое-то странное значение)\n",
    "* Расчет порогов (огрубление шкал): для отдельных шкал (например, возраст больше 40 лет), для сочетания шкал (например, женщины старше 50 лет - в общем, группы риска)\n",
    "* Расчет индекса массы тела\n",
    "* Расчет риска ССЗ (относит + SCORE)"
   ]
  },
  {
   "cell_type": "markdown",
   "metadata": {},
   "source": [
    "# 1. Загрузка данных"
   ]
  },
  {
   "cell_type": "code",
   "execution_count": 2,
   "metadata": {
    "collapsed": false
   },
   "outputs": [],
   "source": [
    "train = pd.read_csv('./data/train.csv', header=0, sep=';')\n",
    "test = pd.read_csv('./data/test.csv', header=0, sep=';')"
   ]
  },
  {
   "cell_type": "code",
   "execution_count": 3,
   "metadata": {
    "collapsed": false
   },
   "outputs": [
    {
     "name": "stdout",
     "output_type": "stream",
     "text": [
      "(70000, 13)\n",
      "(30000, 12)\n"
     ]
    }
   ],
   "source": [
    "print train.shape\n",
    "print test.shape"
   ]
  },
  {
   "cell_type": "code",
   "execution_count": 4,
   "metadata": {
    "collapsed": false
   },
   "outputs": [
    {
     "data": {
      "text/html": [
       "<div>\n",
       "<table border=\"1\" class=\"dataframe\">\n",
       "  <thead>\n",
       "    <tr style=\"text-align: right;\">\n",
       "      <th></th>\n",
       "      <th>id</th>\n",
       "      <th>age</th>\n",
       "      <th>gender</th>\n",
       "      <th>height</th>\n",
       "      <th>weight</th>\n",
       "      <th>ap_hi</th>\n",
       "      <th>ap_lo</th>\n",
       "      <th>cholesterol</th>\n",
       "      <th>gluc</th>\n",
       "      <th>smoke</th>\n",
       "      <th>alco</th>\n",
       "      <th>active</th>\n",
       "      <th>cardio</th>\n",
       "    </tr>\n",
       "  </thead>\n",
       "  <tbody>\n",
       "    <tr>\n",
       "      <th>0</th>\n",
       "      <td>0</td>\n",
       "      <td>18393</td>\n",
       "      <td>2</td>\n",
       "      <td>168</td>\n",
       "      <td>62.0</td>\n",
       "      <td>110</td>\n",
       "      <td>80</td>\n",
       "      <td>1</td>\n",
       "      <td>1</td>\n",
       "      <td>0</td>\n",
       "      <td>0</td>\n",
       "      <td>1</td>\n",
       "      <td>0</td>\n",
       "    </tr>\n",
       "    <tr>\n",
       "      <th>1</th>\n",
       "      <td>1</td>\n",
       "      <td>20228</td>\n",
       "      <td>1</td>\n",
       "      <td>156</td>\n",
       "      <td>85.0</td>\n",
       "      <td>140</td>\n",
       "      <td>90</td>\n",
       "      <td>3</td>\n",
       "      <td>1</td>\n",
       "      <td>0</td>\n",
       "      <td>0</td>\n",
       "      <td>1</td>\n",
       "      <td>1</td>\n",
       "    </tr>\n",
       "    <tr>\n",
       "      <th>2</th>\n",
       "      <td>2</td>\n",
       "      <td>18857</td>\n",
       "      <td>1</td>\n",
       "      <td>165</td>\n",
       "      <td>64.0</td>\n",
       "      <td>130</td>\n",
       "      <td>70</td>\n",
       "      <td>3</td>\n",
       "      <td>1</td>\n",
       "      <td>0</td>\n",
       "      <td>0</td>\n",
       "      <td>0</td>\n",
       "      <td>1</td>\n",
       "    </tr>\n",
       "    <tr>\n",
       "      <th>3</th>\n",
       "      <td>3</td>\n",
       "      <td>17623</td>\n",
       "      <td>2</td>\n",
       "      <td>169</td>\n",
       "      <td>82.0</td>\n",
       "      <td>150</td>\n",
       "      <td>100</td>\n",
       "      <td>1</td>\n",
       "      <td>1</td>\n",
       "      <td>0</td>\n",
       "      <td>0</td>\n",
       "      <td>1</td>\n",
       "      <td>1</td>\n",
       "    </tr>\n",
       "    <tr>\n",
       "      <th>4</th>\n",
       "      <td>4</td>\n",
       "      <td>17474</td>\n",
       "      <td>1</td>\n",
       "      <td>156</td>\n",
       "      <td>56.0</td>\n",
       "      <td>100</td>\n",
       "      <td>60</td>\n",
       "      <td>1</td>\n",
       "      <td>1</td>\n",
       "      <td>0</td>\n",
       "      <td>0</td>\n",
       "      <td>0</td>\n",
       "      <td>0</td>\n",
       "    </tr>\n",
       "  </tbody>\n",
       "</table>\n",
       "</div>"
      ],
      "text/plain": [
       "   id    age  gender  height  weight  ap_hi  ap_lo  cholesterol  gluc  smoke  \\\n",
       "0   0  18393       2     168    62.0    110     80            1     1      0   \n",
       "1   1  20228       1     156    85.0    140     90            3     1      0   \n",
       "2   2  18857       1     165    64.0    130     70            3     1      0   \n",
       "3   3  17623       2     169    82.0    150    100            1     1      0   \n",
       "4   4  17474       1     156    56.0    100     60            1     1      0   \n",
       "\n",
       "   alco  active  cardio  \n",
       "0     0       1       0  \n",
       "1     0       1       1  \n",
       "2     0       0       1  \n",
       "3     0       1       1  \n",
       "4     0       0       0  "
      ]
     },
     "execution_count": 4,
     "metadata": {},
     "output_type": "execute_result"
    }
   ],
   "source": [
    "train.head()"
   ]
  },
  {
   "cell_type": "markdown",
   "metadata": {},
   "source": [
    "# 2. Удаление выбросов и огрубление шкал"
   ]
  },
  {
   "cell_type": "markdown",
   "metadata": {},
   "source": [
    "## 2.1 Возраст"
   ]
  },
  {
   "cell_type": "markdown",
   "metadata": {},
   "source": [
    "Добавим возраст в годах."
   ]
  },
  {
   "cell_type": "code",
   "execution_count": 5,
   "metadata": {
    "collapsed": false
   },
   "outputs": [],
   "source": [
    "train['age_year'] = train['age']/365.0\n",
    "test['age_year'] = test['age']/365.0"
   ]
  },
  {
   "cell_type": "markdown",
   "metadata": {},
   "source": [
    "Сделаем два дополнительных бинарных поля: возраст превышает 60 и возраст меньше 40."
   ]
  },
  {
   "cell_type": "code",
   "execution_count": 6,
   "metadata": {
    "collapsed": false
   },
   "outputs": [],
   "source": [
    "train['age_over_60'] = train['age_year'].apply(lambda x: 1 if x>60 else 0)\n",
    "test['age_over_60'] = test['age_year'].apply(lambda x: 1 if x>60 else 0)\n",
    "\n",
    "train['age_less_40'] = train['age_year'].apply(lambda x: 1 if x<40 else 0)\n",
    "test['age_less_40'] = test['age_year'].apply(lambda x: 1 if x<40 else 0)"
   ]
  },
  {
   "cell_type": "markdown",
   "metadata": {},
   "source": [
    "## 2.2 Вес"
   ]
  },
  {
   "cell_type": "markdown",
   "metadata": {},
   "source": [
    "Еслив вес меньше 40, то меняем на 40."
   ]
  },
  {
   "cell_type": "code",
   "execution_count": 7,
   "metadata": {
    "collapsed": false
   },
   "outputs": [],
   "source": [
    "train['weight'] = train['weight'].apply(lambda x: 40 if x<40 else x)\n",
    "test['weight'] = test['weight'].apply(lambda x: 40 if x<40 else x)"
   ]
  },
  {
   "cell_type": "markdown",
   "metadata": {},
   "source": [
    "Создаем дополнительное поле - вес больше 90."
   ]
  },
  {
   "cell_type": "code",
   "execution_count": 8,
   "metadata": {
    "collapsed": false
   },
   "outputs": [],
   "source": [
    "train['weight_over_90'] = train['weight'].apply(lambda x: 1 if x>90 else 0)\n",
    "test['weight_over_90'] = test['weight'].apply(lambda x: 1 if x>90 else 0)"
   ]
  },
  {
   "cell_type": "markdown",
   "metadata": {},
   "source": [
    "Создаем еще два дополнительных признака в зависимости от пола: пол женский (gender == 1) и вес больше 85, пол мужской (gender == 2) и вес больше 100."
   ]
  },
  {
   "cell_type": "code",
   "execution_count": 9,
   "metadata": {
    "collapsed": false
   },
   "outputs": [],
   "source": [
    "train['weight_male_over_100'] = train.apply(lambda x: 1 if x.gender==2 and x.weight>100 else 0, axis=1)\n",
    "test['weight_male_over_100'] = test.apply(lambda x: 1 if x.gender==2 and x.weight>100 else 0, axis=1)\n",
    "\n",
    "train['weight_female_over_100'] = train.apply(lambda x: 1 if x.gender==1 and x.weight>85 else 0, axis=1)\n",
    "test['weight_female_over_100'] = test.apply(lambda x: 1 if x.gender==1 and x.weight>85 else 0, axis=1)"
   ]
  },
  {
   "cell_type": "markdown",
   "metadata": {},
   "source": [
    "## 2.3 Рост"
   ]
  },
  {
   "cell_type": "markdown",
   "metadata": {},
   "source": [
    "Если рост меньше 140, то меняем на 140."
   ]
  },
  {
   "cell_type": "code",
   "execution_count": 10,
   "metadata": {
    "collapsed": false
   },
   "outputs": [],
   "source": [
    "train['height'] = train['height'].apply(lambda x: 140 if x<140 else x)\n",
    "test['height'] = test['height'].apply(lambda x: 140 if x<140 else x)"
   ]
  },
  {
   "cell_type": "markdown",
   "metadata": {},
   "source": [
    "## 2.4 Верхнее давление (систолическое) и  нижнее (диастолическое)"
   ]
  },
  {
   "cell_type": "markdown",
   "metadata": {},
   "source": [
    "Если давление отрицательное, то считаем это опечаткой и просто умножаем на -1."
   ]
  },
  {
   "cell_type": "code",
   "execution_count": 11,
   "metadata": {
    "collapsed": false
   },
   "outputs": [],
   "source": [
    "train['ap_hi'] = train['ap_hi'].apply(lambda x: -x if x<0 else x)\n",
    "test['ap_hi'] = test['ap_hi'].apply(lambda x: -x if x<0 else x)\n",
    "\n",
    "train['ap_lo'] = train['ap_lo'].apply(lambda x: -x if x<0 else x)\n",
    "test['ap_lo'] = test['ap_lo'].apply(lambda x: -x if x<0 else x)"
   ]
  },
  {
   "cell_type": "markdown",
   "metadata": {},
   "source": [
    "Если верхнее давление меньше 70 или больше 250, то заменяем его на среднее по выборке."
   ]
  },
  {
   "cell_type": "code",
   "execution_count": 12,
   "metadata": {
    "collapsed": false
   },
   "outputs": [],
   "source": [
    "ap_hi_mean = train['ap_hi'].mean()\n",
    "\n",
    "train['ap_hi'] = train['ap_hi'].apply(lambda x: ap_hi_mean if x<70 or x>250 else x)\n",
    "test['ap_hi'] = test['ap_hi'].apply(lambda x: ap_hi_mean if x<70 or x>250 else x)"
   ]
  },
  {
   "cell_type": "markdown",
   "metadata": {},
   "source": [
    "Если нижнее давление меньше 40 или больше 200, то заменяем его на среднее по выборке."
   ]
  },
  {
   "cell_type": "code",
   "execution_count": 13,
   "metadata": {
    "collapsed": true
   },
   "outputs": [],
   "source": [
    "ap_lo_mean = train['ap_lo'].mean()\n",
    "\n",
    "train['ap_lo'] = train['ap_lo'].apply(lambda x: ap_lo_mean if x<40 or x>200 else x)\n",
    "test['ap_lo'] = test['ap_lo'].apply(lambda x: ap_lo_mean if x<40 or x>200 else x)"
   ]
  },
  {
   "cell_type": "markdown",
   "metadata": {},
   "source": [
    "Посмотрим на объекты, где дистолическое давление выше систолического."
   ]
  },
  {
   "cell_type": "code",
   "execution_count": 14,
   "metadata": {
    "collapsed": false
   },
   "outputs": [
    {
     "data": {
      "text/plain": [
       "ap_hi    107\n",
       "ap_lo    107\n",
       "dtype: int64"
      ]
     },
     "execution_count": 14,
     "metadata": {},
     "output_type": "execute_result"
    }
   ],
   "source": [
    "train[train.ap_lo > train.ap_hi][['ap_hi', 'ap_lo']].count()"
   ]
  },
  {
   "cell_type": "markdown",
   "metadata": {},
   "source": [
    "Для таких объектов просто поменяем их местами."
   ]
  },
  {
   "cell_type": "code",
   "execution_count": 15,
   "metadata": {
    "collapsed": false
   },
   "outputs": [],
   "source": [
    "# создаем копию для столбца верхнего давления\n",
    "train['ap_hi_copy'] = train['ap_hi']\n",
    "test['ap_hi_copy'] = test['ap_hi']\n",
    "\n",
    "# меняем значения в ap_hi на значения в ap_lo, если они меньше в ap_lo\n",
    "train['ap_hi'] = train.apply(lambda x: x.ap_lo if x.ap_hi<x.ap_lo else x.ap_hi, axis=1)\n",
    "test['ap_hi'] = test.apply(lambda x: x.ap_lo if x.ap_hi<x.ap_lo else x.ap_hi, axis=1)\n",
    "\n",
    "# меняем значения в ap_lo, если они больше значений ap_hi_copy\n",
    "train['ap_lo'] = train.apply(lambda x: x.ap_hi_copy if x.ap_lo>x.ap_hi_copy else x.ap_lo, axis=1)\n",
    "test['ap_lo'] = test.apply(lambda x: x.ap_hi_copy if x.ap_lo>x.ap_hi_copy else x.ap_lo, axis=1)\n",
    "\n",
    "#удаляем столбцы с копиями\n",
    "train.drop('ap_hi_copy', axis=1, inplace=True)\n",
    "test.drop('ap_hi_copy', axis=1, inplace=True)"
   ]
  },
  {
   "cell_type": "markdown",
   "metadata": {},
   "source": [
    "Создаем дополнительный признак: верхнее давление выше 140.\n",
    "На будущее: верхнее давление также зависит от пола и возраста и можно создать подобные признаки."
   ]
  },
  {
   "cell_type": "code",
   "execution_count": 16,
   "metadata": {
    "collapsed": false
   },
   "outputs": [],
   "source": [
    "train['ap_hi_over_140'] = train['ap_hi'].apply(lambda x: 1 if x>140 else 0)\n",
    "test['ap_hi_over_140'] = test['ap_hi'].apply(lambda x: 1 if x>140 else 0)"
   ]
  },
  {
   "cell_type": "markdown",
   "metadata": {},
   "source": [
    "Создаем дополнительный признак: нижнее давление выше 95. "
   ]
  },
  {
   "cell_type": "code",
   "execution_count": 17,
   "metadata": {
    "collapsed": false
   },
   "outputs": [],
   "source": [
    "train['ap_lo_over_95'] = train['ap_lo'].apply(lambda x: 1 if x>95 else 0)\n",
    "test['ap_lo_over_95'] = test['ap_lo'].apply(lambda x: 1 if x>95 else 0)"
   ]
  },
  {
   "cell_type": "code",
   "execution_count": 18,
   "metadata": {
    "collapsed": false
   },
   "outputs": [
    {
     "data": {
      "text/html": [
       "<div>\n",
       "<table border=\"1\" class=\"dataframe\">\n",
       "  <thead>\n",
       "    <tr style=\"text-align: right;\">\n",
       "      <th></th>\n",
       "      <th>0</th>\n",
       "      <th>1</th>\n",
       "      <th>2</th>\n",
       "      <th>3</th>\n",
       "      <th>4</th>\n",
       "    </tr>\n",
       "  </thead>\n",
       "  <tbody>\n",
       "    <tr>\n",
       "      <th>id</th>\n",
       "      <td>0.000000</td>\n",
       "      <td>1.000000</td>\n",
       "      <td>2.000000</td>\n",
       "      <td>3.000000</td>\n",
       "      <td>4.000000</td>\n",
       "    </tr>\n",
       "    <tr>\n",
       "      <th>age</th>\n",
       "      <td>18393.000000</td>\n",
       "      <td>20228.000000</td>\n",
       "      <td>18857.000000</td>\n",
       "      <td>17623.000000</td>\n",
       "      <td>17474.000000</td>\n",
       "    </tr>\n",
       "    <tr>\n",
       "      <th>gender</th>\n",
       "      <td>2.000000</td>\n",
       "      <td>1.000000</td>\n",
       "      <td>1.000000</td>\n",
       "      <td>2.000000</td>\n",
       "      <td>1.000000</td>\n",
       "    </tr>\n",
       "    <tr>\n",
       "      <th>height</th>\n",
       "      <td>168.000000</td>\n",
       "      <td>156.000000</td>\n",
       "      <td>165.000000</td>\n",
       "      <td>169.000000</td>\n",
       "      <td>156.000000</td>\n",
       "    </tr>\n",
       "    <tr>\n",
       "      <th>weight</th>\n",
       "      <td>62.000000</td>\n",
       "      <td>85.000000</td>\n",
       "      <td>64.000000</td>\n",
       "      <td>82.000000</td>\n",
       "      <td>56.000000</td>\n",
       "    </tr>\n",
       "    <tr>\n",
       "      <th>ap_hi</th>\n",
       "      <td>110.000000</td>\n",
       "      <td>140.000000</td>\n",
       "      <td>130.000000</td>\n",
       "      <td>150.000000</td>\n",
       "      <td>100.000000</td>\n",
       "    </tr>\n",
       "    <tr>\n",
       "      <th>ap_lo</th>\n",
       "      <td>80.000000</td>\n",
       "      <td>90.000000</td>\n",
       "      <td>70.000000</td>\n",
       "      <td>100.000000</td>\n",
       "      <td>60.000000</td>\n",
       "    </tr>\n",
       "    <tr>\n",
       "      <th>cholesterol</th>\n",
       "      <td>1.000000</td>\n",
       "      <td>3.000000</td>\n",
       "      <td>3.000000</td>\n",
       "      <td>1.000000</td>\n",
       "      <td>1.000000</td>\n",
       "    </tr>\n",
       "    <tr>\n",
       "      <th>gluc</th>\n",
       "      <td>1.000000</td>\n",
       "      <td>1.000000</td>\n",
       "      <td>1.000000</td>\n",
       "      <td>1.000000</td>\n",
       "      <td>1.000000</td>\n",
       "    </tr>\n",
       "    <tr>\n",
       "      <th>smoke</th>\n",
       "      <td>0.000000</td>\n",
       "      <td>0.000000</td>\n",
       "      <td>0.000000</td>\n",
       "      <td>0.000000</td>\n",
       "      <td>0.000000</td>\n",
       "    </tr>\n",
       "    <tr>\n",
       "      <th>alco</th>\n",
       "      <td>0.000000</td>\n",
       "      <td>0.000000</td>\n",
       "      <td>0.000000</td>\n",
       "      <td>0.000000</td>\n",
       "      <td>0.000000</td>\n",
       "    </tr>\n",
       "    <tr>\n",
       "      <th>active</th>\n",
       "      <td>1.000000</td>\n",
       "      <td>1.000000</td>\n",
       "      <td>0.000000</td>\n",
       "      <td>1.000000</td>\n",
       "      <td>0.000000</td>\n",
       "    </tr>\n",
       "    <tr>\n",
       "      <th>cardio</th>\n",
       "      <td>0.000000</td>\n",
       "      <td>1.000000</td>\n",
       "      <td>1.000000</td>\n",
       "      <td>1.000000</td>\n",
       "      <td>0.000000</td>\n",
       "    </tr>\n",
       "    <tr>\n",
       "      <th>age_year</th>\n",
       "      <td>50.391781</td>\n",
       "      <td>55.419178</td>\n",
       "      <td>51.663014</td>\n",
       "      <td>48.282192</td>\n",
       "      <td>47.873973</td>\n",
       "    </tr>\n",
       "    <tr>\n",
       "      <th>age_over_60</th>\n",
       "      <td>0.000000</td>\n",
       "      <td>0.000000</td>\n",
       "      <td>0.000000</td>\n",
       "      <td>0.000000</td>\n",
       "      <td>0.000000</td>\n",
       "    </tr>\n",
       "    <tr>\n",
       "      <th>age_less_40</th>\n",
       "      <td>0.000000</td>\n",
       "      <td>0.000000</td>\n",
       "      <td>0.000000</td>\n",
       "      <td>0.000000</td>\n",
       "      <td>0.000000</td>\n",
       "    </tr>\n",
       "    <tr>\n",
       "      <th>weight_over_90</th>\n",
       "      <td>0.000000</td>\n",
       "      <td>0.000000</td>\n",
       "      <td>0.000000</td>\n",
       "      <td>0.000000</td>\n",
       "      <td>0.000000</td>\n",
       "    </tr>\n",
       "    <tr>\n",
       "      <th>weight_male_over_100</th>\n",
       "      <td>0.000000</td>\n",
       "      <td>0.000000</td>\n",
       "      <td>0.000000</td>\n",
       "      <td>0.000000</td>\n",
       "      <td>0.000000</td>\n",
       "    </tr>\n",
       "    <tr>\n",
       "      <th>weight_female_over_100</th>\n",
       "      <td>0.000000</td>\n",
       "      <td>0.000000</td>\n",
       "      <td>0.000000</td>\n",
       "      <td>0.000000</td>\n",
       "      <td>0.000000</td>\n",
       "    </tr>\n",
       "    <tr>\n",
       "      <th>ap_hi_over_140</th>\n",
       "      <td>0.000000</td>\n",
       "      <td>0.000000</td>\n",
       "      <td>0.000000</td>\n",
       "      <td>1.000000</td>\n",
       "      <td>0.000000</td>\n",
       "    </tr>\n",
       "    <tr>\n",
       "      <th>ap_lo_over_95</th>\n",
       "      <td>0.000000</td>\n",
       "      <td>0.000000</td>\n",
       "      <td>0.000000</td>\n",
       "      <td>1.000000</td>\n",
       "      <td>0.000000</td>\n",
       "    </tr>\n",
       "  </tbody>\n",
       "</table>\n",
       "</div>"
      ],
      "text/plain": [
       "                                   0             1             2  \\\n",
       "id                          0.000000      1.000000      2.000000   \n",
       "age                     18393.000000  20228.000000  18857.000000   \n",
       "gender                      2.000000      1.000000      1.000000   \n",
       "height                    168.000000    156.000000    165.000000   \n",
       "weight                     62.000000     85.000000     64.000000   \n",
       "ap_hi                     110.000000    140.000000    130.000000   \n",
       "ap_lo                      80.000000     90.000000     70.000000   \n",
       "cholesterol                 1.000000      3.000000      3.000000   \n",
       "gluc                        1.000000      1.000000      1.000000   \n",
       "smoke                       0.000000      0.000000      0.000000   \n",
       "alco                        0.000000      0.000000      0.000000   \n",
       "active                      1.000000      1.000000      0.000000   \n",
       "cardio                      0.000000      1.000000      1.000000   \n",
       "age_year                   50.391781     55.419178     51.663014   \n",
       "age_over_60                 0.000000      0.000000      0.000000   \n",
       "age_less_40                 0.000000      0.000000      0.000000   \n",
       "weight_over_90              0.000000      0.000000      0.000000   \n",
       "weight_male_over_100        0.000000      0.000000      0.000000   \n",
       "weight_female_over_100      0.000000      0.000000      0.000000   \n",
       "ap_hi_over_140              0.000000      0.000000      0.000000   \n",
       "ap_lo_over_95               0.000000      0.000000      0.000000   \n",
       "\n",
       "                                   3             4  \n",
       "id                          3.000000      4.000000  \n",
       "age                     17623.000000  17474.000000  \n",
       "gender                      2.000000      1.000000  \n",
       "height                    169.000000    156.000000  \n",
       "weight                     82.000000     56.000000  \n",
       "ap_hi                     150.000000    100.000000  \n",
       "ap_lo                     100.000000     60.000000  \n",
       "cholesterol                 1.000000      1.000000  \n",
       "gluc                        1.000000      1.000000  \n",
       "smoke                       0.000000      0.000000  \n",
       "alco                        0.000000      0.000000  \n",
       "active                      1.000000      0.000000  \n",
       "cardio                      1.000000      0.000000  \n",
       "age_year                   48.282192     47.873973  \n",
       "age_over_60                 0.000000      0.000000  \n",
       "age_less_40                 0.000000      0.000000  \n",
       "weight_over_90              0.000000      0.000000  \n",
       "weight_male_over_100        0.000000      0.000000  \n",
       "weight_female_over_100      0.000000      0.000000  \n",
       "ap_hi_over_140              1.000000      0.000000  \n",
       "ap_lo_over_95               1.000000      0.000000  "
      ]
     },
     "execution_count": 18,
     "metadata": {},
     "output_type": "execute_result"
    }
   ],
   "source": [
    "train.head().T"
   ]
  },
  {
   "cell_type": "markdown",
   "metadata": {},
   "source": [
    "## 2.5 Индекс массы тела (BMI)"
   ]
  },
  {
   "cell_type": "markdown",
   "metadata": {},
   "source": [
    "Рассчитывается как https://ru.wikipedia.org/wiki/Индекс_массы_тела."
   ]
  },
  {
   "cell_type": "code",
   "execution_count": 19,
   "metadata": {
    "collapsed": true
   },
   "outputs": [],
   "source": [
    "train['BMI'] = train.apply(lambda x: (x.weight)/((x.height/100)**2), axis=1)\n",
    "test['BMI'] = test.apply(lambda x: (x.weight)/((x.height/100)**2), axis=1)"
   ]
  },
  {
   "cell_type": "markdown",
   "metadata": {},
   "source": [
    "Посмотрим на полученные характеристики индекса."
   ]
  },
  {
   "cell_type": "code",
   "execution_count": 20,
   "metadata": {
    "collapsed": false
   },
   "outputs": [
    {
     "data": {
      "text/plain": [
       "count    70000.000000\n",
       "mean        27.491019\n",
       "std          5.274661\n",
       "min         12.624669\n",
       "25%         23.875115\n",
       "50%         26.370238\n",
       "75%         30.222222\n",
       "max         90.816327\n",
       "Name: BMI, dtype: float64"
      ]
     },
     "execution_count": 20,
     "metadata": {},
     "output_type": "execute_result"
    }
   ],
   "source": [
    "train['BMI'].describe()"
   ]
  },
  {
   "cell_type": "markdown",
   "metadata": {},
   "source": [
    "Вообще, судя по среднему значению, средний человек находится в состоянии предожирения."
   ]
  },
  {
   "cell_type": "markdown",
   "metadata": {},
   "source": [
    "Вообще конечно ИМТ зависит от возраста и пола, но мы возьмем по шкале ВОЗ > 35 (ожирение 2 степени)."
   ]
  },
  {
   "cell_type": "code",
   "execution_count": 21,
   "metadata": {
    "collapsed": false
   },
   "outputs": [],
   "source": [
    "train['BMI_over_35'] = train['BMI'].apply(lambda x: 1 if x>35 else 0)\n",
    "test['BMI_over_35'] = test['BMI'].apply(lambda x: 1 if x>35 else 0)"
   ]
  },
  {
   "cell_type": "markdown",
   "metadata": {},
   "source": [
    "Рассчитаем еще один индекс массы тела - индекс Брейтмана:  Нормальная масса тела рассчитывается по формуле — рост [см] • 0,7 — 50 кг. \n",
    "Рассчитаем как разницу между массой тела и нормальнйо массой по индексу Брейтмана."
   ]
  },
  {
   "cell_type": "code",
   "execution_count": 22,
   "metadata": {
    "collapsed": true
   },
   "outputs": [],
   "source": [
    "train['BMI_Breitman'] = train.apply(lambda x: x.weight-(x.height*0.7-50), axis=1)\n",
    "test['BMI_Breitman'] = test.apply(lambda x: x.weight-(x.height*0.7-50), axis=1)"
   ]
  },
  {
   "cell_type": "markdown",
   "metadata": {},
   "source": [
    "## 2.6 Расчет риска ССЗ"
   ]
  },
  {
   "cell_type": "markdown",
   "metadata": {},
   "source": [
    "Для расчета будем использовать усеченную модель SCORE (после 40 лет) и шкалу относительного риска https://www.gnicpm.ru/UserFiles/Metod._rekomendacii_po_dispanserizacii__2_izdanie__10_часть%201.pdf."
   ]
  },
  {
   "cell_type": "markdown",
   "metadata": {},
   "source": [
    "В риске учитываются следующие параметры:\n",
    "* возраст\n",
    "* верхний уровень давления\n",
    "* концентрация холестерина\n",
    "* пол\n",
    "\n",
    "Будем предполагать, что все некурящие."
   ]
  },
  {
   "cell_type": "code",
   "execution_count": 23,
   "metadata": {
    "collapsed": false
   },
   "outputs": [],
   "source": [
    "def risk_cd(x):\n",
    "    if x.age_year > 65:\n",
    "        # расчет риска для женщин\n",
    "        if x.gender == 1 and x.ap_hi > 180 and x.cholesterol == 3:\n",
    "            return 12\n",
    "        elif x.gender == 1 and x.ap_hi > 180 and x.cholesterol in (1,2):\n",
    "            return 8\n",
    "        elif x.gender == 1 and x.ap_hi > 160 and x.cholesterol == 3:\n",
    "            return 8\n",
    "        elif x.gender == 1 and x.ap_hi > 160 and x.cholesterol in (1,2):\n",
    "            return 6\n",
    "        elif x.gender == 1 and x.ap_hi > 140 and x.cholesterol == 3:\n",
    "            return 6\n",
    "        elif x.gender == 1 and x.ap_hi > 140 and x.cholesterol in (1,2):\n",
    "            return 4\n",
    "        elif x.gender == 1 and x.ap_hi > 120 and x.cholesterol == 3:\n",
    "            return 4\n",
    "        elif x.gender == 1:\n",
    "            return 2\n",
    "        # расчет риска для мужчин\n",
    "        elif x.gender == 2 and x.ap_hi > 180 and x.cholesterol == 3:\n",
    "            return 26\n",
    "        elif x.gender == 2 and x.ap_hi > 180 and x.cholesterol in (1,2):\n",
    "            return 19\n",
    "        elif x.gender == 2 and x.ap_hi > 160 and x.cholesterol == 3:\n",
    "            return 16\n",
    "        elif x.gender == 2 and x.ap_hi > 160 and x.cholesterol in (1,2):\n",
    "            return 13\n",
    "        elif x.gender == 2 and x.ap_hi > 140 and x.cholesterol == 3:\n",
    "            return 13\n",
    "        elif x.gender == 2 and x.ap_hi > 140 and x.cholesterol in (1,2):\n",
    "            return 9\n",
    "        elif x.gender == 2 and x.ap_hi > 120 and x.cholesterol == 3:\n",
    "            return 9\n",
    "        elif x.gender == 2:\n",
    "            return 6\n",
    "    elif x.age_year > 60:\n",
    "        # расчет риска для женщин\n",
    "        if x.gender == 1 and x.ap_hi > 180 and x.cholesterol == 3:\n",
    "            return 7\n",
    "        elif x.gender == 1 and x.ap_hi > 180 and x.cholesterol in (1,2):\n",
    "            return 5\n",
    "        elif x.gender == 1 and x.ap_hi > 160 and x.cholesterol == 3:\n",
    "            return 5\n",
    "        elif x.gender == 1 and x.ap_hi > 160 and x.cholesterol in (1,2):\n",
    "            return 3\n",
    "        elif x.gender == 1 and x.ap_hi > 140 and x.cholesterol == 3:\n",
    "            return 3\n",
    "        elif x.gender == 1 and x.ap_hi > 140 and x.cholesterol in (1,2):\n",
    "            return 2\n",
    "        elif x.gender == 1 and x.ap_hi > 120 and x.cholesterol == 3:\n",
    "            return 2\n",
    "        elif x.gender == 1:\n",
    "            return 1\n",
    "        # расчет риска для мужчин\n",
    "        elif x.gender == 2 and x.ap_hi > 180 and x.cholesterol == 3:\n",
    "            return 18\n",
    "        elif x.gender == 2 and x.ap_hi > 180 and x.cholesterol in (1,2):\n",
    "            return 13\n",
    "        elif x.gender == 2 and x.ap_hi > 160 and x.cholesterol == 3:\n",
    "            return 12\n",
    "        elif x.gender == 2 and x.ap_hi > 160 and x.cholesterol in (1,2):\n",
    "            return 9\n",
    "        elif x.gender == 2 and x.ap_hi > 140 and x.cholesterol == 3:\n",
    "            return 9\n",
    "        elif x.gender == 2 and x.ap_hi > 140 and x.cholesterol in (1,2):\n",
    "            return 6\n",
    "        elif x.gender == 2 and x.ap_hi > 120 and x.cholesterol == 3:\n",
    "            return 6\n",
    "        elif x.gender == 2:\n",
    "            return 4\n",
    "    elif x.age_year > 55:\n",
    "        # расчет риска для женщин\n",
    "        if x.gender == 1 and x.ap_hi > 180 and x.cholesterol == 3:\n",
    "            return 4\n",
    "        elif x.gender == 1 and x.ap_hi > 180 and x.cholesterol in (1,2):\n",
    "            return 3\n",
    "        elif x.gender == 1 and x.ap_hi > 160 and x.cholesterol == 3:\n",
    "            return 3\n",
    "        elif x.gender == 1 and x.ap_hi > 160 and x.cholesterol in (1,2):\n",
    "            return 2\n",
    "        elif x.gender == 1 and x.ap_hi > 140 and x.cholesterol == 3:\n",
    "            return 2\n",
    "        elif x.gender == 1:\n",
    "            return 1\n",
    "        # расчет риска для мужчин\n",
    "        elif x.gender == 2 and x.ap_hi > 180 and x.cholesterol == 3:\n",
    "            return 12\n",
    "        elif x.gender == 2 and x.ap_hi > 180 and x.cholesterol in (1,2):\n",
    "            return 8\n",
    "        elif x.gender == 2 and x.ap_hi > 160 and x.cholesterol == 3:\n",
    "            return 8\n",
    "        elif x.gender == 2 and x.ap_hi > 160 and x.cholesterol in (1,2):\n",
    "            return 6\n",
    "        elif x.gender == 2 and x.ap_hi > 140 and x.cholesterol == 3:\n",
    "            return 6\n",
    "        elif x.gender == 2 and x.ap_hi > 140 and x.cholesterol in (1,2):\n",
    "            return 4\n",
    "        elif x.gender == 2 and x.ap_hi > 120 and x.cholesterol == 3:\n",
    "            return 4\n",
    "        elif x.gender == 2:\n",
    "            return 2\n",
    "    elif x.age_year > 50:\n",
    "        # расчет риска для женщин\n",
    "        if x.gender == 1 and x.ap_hi > 180 and x.cholesterol == 3:\n",
    "            return 2\n",
    "        elif x.gender == 1 and x.ap_hi > 180 and x.cholesterol in (1,2):\n",
    "            return 1\n",
    "        elif x.gender == 1 and x.ap_hi > 160 and x.cholesterol == 3:\n",
    "            return 1\n",
    "        elif x.gender == 1 and x.ap_hi > 160 and x.cholesterol in (1,2):\n",
    "            return 1\n",
    "        elif x.gender == 1 and x.ap_hi > 140 and x.cholesterol == 3:\n",
    "            return 1\n",
    "        elif x.gender == 1:\n",
    "            return 0\n",
    "        # расчет риска для мужчин\n",
    "        elif x.gender == 2 and x.ap_hi > 180 and x.cholesterol == 3:\n",
    "            return 7\n",
    "        elif x.gender == 2 and x.ap_hi > 180 and x.cholesterol in (1,2):\n",
    "            return 5\n",
    "        elif x.gender == 2 and x.ap_hi > 160 and x.cholesterol == 3:\n",
    "            return 5\n",
    "        elif x.gender == 2 and x.ap_hi > 160 and x.cholesterol in (1,2):\n",
    "            return 3\n",
    "        elif x.gender == 2 and x.ap_hi > 140 and x.cholesterol == 3:\n",
    "            return 3\n",
    "        elif x.gender == 2 and x.ap_hi > 140 and x.cholesterol in (1,2):\n",
    "            return 2\n",
    "        elif x.gender == 2 and x.ap_hi > 120 and x.cholesterol == 3:\n",
    "            return 2\n",
    "        elif x.gender == 2:\n",
    "            return 1\n",
    "    elif x.age_year > 40:\n",
    "        # расчет риска для женщин\n",
    "        if x.gender == 1:\n",
    "            return 0\n",
    "        # расчет риска для мужчин\n",
    "        elif x.gender == 2 and x.ap_hi > 180 and x.cholesterol == 3:\n",
    "            return 1\n",
    "        elif x.gender == 2:\n",
    "            return 0\n",
    "    else:\n",
    "        return 0"
   ]
  },
  {
   "cell_type": "code",
   "execution_count": 24,
   "metadata": {
    "collapsed": false
   },
   "outputs": [],
   "source": [
    "train['risk_cd'] = train.apply(risk_cd, axis=1)\n",
    "test['risk_cd'] = test.apply(risk_cd, axis=1)"
   ]
  },
  {
   "cell_type": "code",
   "execution_count": 25,
   "metadata": {
    "collapsed": false
   },
   "outputs": [
    {
     "data": {
      "text/plain": [
       "<matplotlib.axes._subplots.AxesSubplot at 0x11c912690>"
      ]
     },
     "execution_count": 25,
     "metadata": {},
     "output_type": "execute_result"
    },
    {
     "data": {
      "image/png": "[encoded data removed]",
      "text/plain": [
       "<matplotlib.figure.Figure at 0x11c8f9e10>"
      ]
     },
     "metadata": {},
     "output_type": "display_data"
    }
   ],
   "source": [
    "import seaborn as sns\n",
    "\n",
    "sns.boxplot(x='cardio', y='risk_cd', data=train)"
   ]
  },
  {
   "cell_type": "markdown",
   "metadata": {},
   "source": [
    "## 2.7 Восстановление значенией smoke"
   ]
  },
  {
   "cell_type": "code",
   "execution_count": 26,
   "metadata": {
    "collapsed": false
   },
   "outputs": [
    {
     "name": "stdout",
     "output_type": "stream",
     "text": [
      "0    63831\n",
      "1     6169\n",
      "Name: smoke, dtype: int64\n",
      "0       24601\n",
      "None     3030\n",
      "1        2369\n",
      "Name: smoke, dtype: int64\n"
     ]
    }
   ],
   "source": [
    "print train.smoke.value_counts()\n",
    "print test.smoke.value_counts()"
   ]
  },
  {
   "cell_type": "markdown",
   "metadata": {},
   "source": [
    "Итак, пропущено в 3030 записях в test-е.\n",
    "\n",
    "Заполним это поле нулями."
   ]
  },
  {
   "cell_type": "code",
   "execution_count": 27,
   "metadata": {
    "collapsed": false
   },
   "outputs": [],
   "source": [
    "test['smoke'] = test['smoke'].apply(lambda x: '0' if x=='None' else x)"
   ]
  },
  {
   "cell_type": "code",
   "execution_count": 28,
   "metadata": {
    "collapsed": false
   },
   "outputs": [
    {
     "data": {
      "text/plain": [
       "0    27631\n",
       "1     2369\n",
       "Name: smoke, dtype: int64"
      ]
     },
     "execution_count": 28,
     "metadata": {},
     "output_type": "execute_result"
    }
   ],
   "source": [
    "test['smoke'].value_counts()"
   ]
  },
  {
   "cell_type": "markdown",
   "metadata": {},
   "source": [
    "## 2.8 Восстановление значений active"
   ]
  },
  {
   "cell_type": "code",
   "execution_count": 29,
   "metadata": {
    "collapsed": false
   },
   "outputs": [
    {
     "name": "stdout",
     "output_type": "stream",
     "text": [
      "1    56261\n",
      "0    13739\n",
      "Name: active, dtype: int64\n",
      "1       21843\n",
      "0        5260\n",
      "None     2897\n",
      "Name: active, dtype: int64\n"
     ]
    }
   ],
   "source": [
    "print train.active.value_counts()\n",
    "print test.active.value_counts()"
   ]
  },
  {
   "cell_type": "code",
   "execution_count": 30,
   "metadata": {
    "collapsed": false
   },
   "outputs": [
    {
     "data": {
      "text/plain": [
       "1    21843\n",
       "0     8157\n",
       "Name: active, dtype: int64"
      ]
     },
     "execution_count": 30,
     "metadata": {},
     "output_type": "execute_result"
    }
   ],
   "source": [
    "test['active'] = test['active'].apply(lambda x: '0' if x=='None' else x)\n",
    "test['active'].value_counts()"
   ]
  },
  {
   "cell_type": "markdown",
   "metadata": {},
   "source": [
    "## 2.9 Восстановление значений alco"
   ]
  },
  {
   "cell_type": "code",
   "execution_count": 31,
   "metadata": {
    "collapsed": false
   },
   "outputs": [
    {
     "name": "stdout",
     "output_type": "stream",
     "text": [
      "0    66236\n",
      "1     3764\n",
      "Name: alco, dtype: int64\n",
      "0       25500\n",
      "None     3031\n",
      "1        1469\n",
      "Name: alco, dtype: int64\n"
     ]
    }
   ],
   "source": [
    "print train.alco.value_counts()\n",
    "print test.alco.value_counts()"
   ]
  },
  {
   "cell_type": "code",
   "execution_count": 32,
   "metadata": {
    "collapsed": false
   },
   "outputs": [
    {
     "data": {
      "text/plain": [
       "0    28531\n",
       "1     1469\n",
       "Name: alco, dtype: int64"
      ]
     },
     "execution_count": 32,
     "metadata": {},
     "output_type": "execute_result"
    }
   ],
   "source": [
    "test['alco'] = test['alco'].apply(lambda x: '0' if x=='None' else x)\n",
    "test['alco'].value_counts()"
   ]
  },
  {
   "cell_type": "markdown",
   "metadata": {},
   "source": [
    "## 2.10 Кластеризация"
   ]
  },
  {
   "cell_type": "markdown",
   "metadata": {},
   "source": [
    "Попробуем кластеризовать всех пациентов.\n",
    "0. Данные предварительно склеиваем\n",
    "1. Кластеризуем с помощью всех признаков (кроме cardio) - эксперименты с силуэтом\n",
    "2. Выбираем количество кластеров\n",
    "3. Разбиваем на это количество\n",
    "4. делаем тоже самое для тестовой выборки"
   ]
  },
  {
   "cell_type": "code",
   "execution_count": 33,
   "metadata": {
    "collapsed": true
   },
   "outputs": [],
   "source": [
    "all_data = pd.concat([train.drop('cardio', axis=1), test])"
   ]
  },
  {
   "cell_type": "code",
   "execution_count": 34,
   "metadata": {
    "collapsed": false
   },
   "outputs": [],
   "source": [
    "from sklearn.metrics import silhouette_score\n",
    "from sklearn.cluster import MiniBatchKMeans"
   ]
  },
  {
   "cell_type": "code",
   "execution_count": 41,
   "metadata": {
    "collapsed": true
   },
   "outputs": [],
   "source": [
    "def agglomerative_experiment(data, n_clusters):\n",
    "    silhoutte_scores = []\n",
    "\n",
    "    for n in n_clusters:\n",
    "        # создаем модель\n",
    "        clm1 = MiniBatchKMeans(n_clusters=n, max_iter=50, random_state=11)\n",
    "        labels = clm1.fit_predict(data)\n",
    "        \n",
    "        sc1 = silhouette_score(data, labels, metric='euclidean', sample_size=5000)\n",
    "        silhoutte_scores.append(sc1)\n",
    "\n",
    "        print sc1\n",
    "\n",
    "    plt.plot(n_clusters, silhoutte_scores)\n",
    "    plt.title(title)\n",
    "    plt.xlabel(u'Количество кластеров')\n",
    "    plt.ylabel(u'Метрика силуэта')"
   ]
  },
  {
   "cell_type": "code",
   "execution_count": 42,
   "metadata": {
    "collapsed": false
   },
   "outputs": [
    {
     "name": "stdout",
     "output_type": "stream",
     "text": [
      "0.59305536107\n",
      "0.579847516204\n",
      "0.584628894947\n",
      "0.5679878243\n",
      "0.557215857993\n",
      "0.582283838444\n",
      "0.563656292605\n",
      "0.579151637447\n",
      "0.585598231374\n",
      "0.667891258153\n",
      "0.693006365455\n",
      "0.72901242454\n",
      "0.701009669932\n",
      "0.691800509845\n",
      "0.660396776747\n",
      "0.637137059175\n",
      "0.625777143923\n",
      "0.610621591076\n"
     ]
    },
    {
     "data": {
      "image/png": "[encoded data removed]",
      "text/plain": [
       "<matplotlib.figure.Figure at 0x113e90650>"
      ]
     },
     "metadata": {},
     "output_type": "display_data"
    }
   ],
   "source": [
    "n_clusters=range(2,20)\n",
    "agglomerative_experiment(train[['age', 'weight', 'height', 'ap_hi', 'ap_lo', 'cholesterol', 'gluc']], n_clusters)"
   ]
  },
  {
   "cell_type": "markdown",
   "metadata": {},
   "source": [
    "Создаем 13 кластеров и добавляем их лейблы в данные."
   ]
  },
  {
   "cell_type": "code",
   "execution_count": 44,
   "metadata": {
    "collapsed": false
   },
   "outputs": [],
   "source": [
    "clm1 = MiniBatchKMeans(n_clusters=13, max_iter=100, random_state=11)\n",
    "labels = clm1.fit_predict(train[['age', 'weight', 'height', 'ap_hi', 'ap_lo', 'cholesterol', 'gluc']])\n",
    "train['cluster'] = labels\n",
    "\n",
    "labels_test = clm1.predict(test[['age', 'weight', 'height', 'ap_hi', 'ap_lo', 'cholesterol', 'gluc']])\n",
    "test['cluster'] = labels_test"
   ]
  },
  {
   "cell_type": "markdown",
   "metadata": {},
   "source": [
    "# 3. Сохраняем данные"
   ]
  },
  {
   "cell_type": "code",
   "execution_count": 45,
   "metadata": {
    "collapsed": false
   },
   "outputs": [
    {
     "name": "stdout",
     "output_type": "stream",
     "text": [
      "(70000, 26)\n",
      "(30000, 25)\n"
     ]
    }
   ],
   "source": [
    "print train.shape\n",
    "print test.shape"
   ]
  },
  {
   "cell_type": "code",
   "execution_count": 46,
   "metadata": {
    "collapsed": true
   },
   "outputs": [],
   "source": [
    "train.to_csv('./data/train_fe_2806.csv', header=True, index=False, sep=';')\n",
    "test.to_csv('./data/test_fe_2806.csv', header=True, index=False, sep=';')"
   ]
  },
  {
   "cell_type": "code",
   "execution_count": null,
   "metadata": {
    "collapsed": true
   },
   "outputs": [],
   "source": []
  }
 ],
 "metadata": {
  "anaconda-cloud": {},
  "kernelspec": {
   "display_name": "Python [conda root]",
   "language": "python",
   "name": "conda-root-py"
  },
  "language_info": {
   "codemirror_mode": {
    "name": "ipython",
    "version": 2
   },
   "file_extension": ".py",
   "mimetype": "text/x-python",
   "name": "python",
   "nbconvert_exporter": "python",
   "pygments_lexer": "ipython2",
   "version": "2.7.12"
  }
 },
 "nbformat": 4,
 "nbformat_minor": 2
}
